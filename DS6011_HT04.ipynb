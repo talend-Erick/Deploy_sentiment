{
  "nbformat": 4,
  "nbformat_minor": 0,
  "metadata": {
    "colab": {
      "name": "DS6011_HT04.ipynb",
      "provenance": [],
      "collapsed_sections": []
    },
    "kernelspec": {
      "name": "python3",
      "display_name": "Python 3"
    },
    "language_info": {
      "name": "python"
    }
  },
  "cells": [
    {
      "cell_type": "markdown",
      "metadata": {
        "id": "saaO06RMwzGH"
      },
      "source": [
        "# Hoja de Trabajo \\# 4\n",
        "\n",
        "---\n",
        "\n",
        "\n",
        "por Josué Obregón <br>\n",
        "DS6011 - Feature Engineering <br>\n",
        "UVG Masters - Escuela de Negocios<br>\n"
      ]
    },
    {
      "cell_type": "markdown",
      "metadata": {
        "id": "w0-nImUHNxOv"
      },
      "source": [
        "## Objetivos\n",
        "\n",
        "El objetivo de esta hoja de trabajo  es presentar al estudiante diferentes técnicas de codificación de variables categóricas. Éstas técnicas incluyen codificadores clásicos, de contraste y codificadores supervisados o bayesianos.\n",
        "\n",
        "También se busca que el estudiante practique la utilización de éstas técnicas con las librerías disponibles en el lenguaje Python.\n"
      ]
    },
    {
      "cell_type": "markdown",
      "metadata": {
        "id": "RYjZ_KEuTCTe"
      },
      "source": [
        "## Importación de librerías y carga de los datos a varios pandas [DataFrames](https://pandas.pydata.org/pandas-docs/version/1.1.5/reference/frame.html)\n",
        "\n",
        "\n"
      ]
    },
    {
      "cell_type": "code",
      "metadata": {
        "id": "wMpdDWhPMSS7"
      },
      "source": [
        "import pandas as pd\n",
        "import numpy as np\n",
        "import matplotlib.pyplot as plt\n",
        "import seaborn as sns\n",
        "import plotly.express as px\n",
        "import plotly.graph_objects as go"
      ],
      "execution_count": 9,
      "outputs": []
    },
    {
      "cell_type": "code",
      "metadata": {
        "id": "bBRl7VGfALex",
        "outputId": "316d61d1-badc-4753-8d88-445bb59bd906",
        "colab": {
          "base_uri": "https://localhost:8080/"
        }
      },
      "source": [
        "!mkdir data"
      ],
      "execution_count": 10,
      "outputs": [
        {
          "output_type": "stream",
          "text": [
            "mkdir: cannot create directory ‘data’: File exists\n"
          ],
          "name": "stdout"
        }
      ]
    },
    {
      "cell_type": "code",
      "metadata": {
        "id": "YR1uTokC8Wzi",
        "colab": {
          "base_uri": "https://localhost:8080/"
        },
        "outputId": "0857d25d-1d43-4ded-a189-e2dd4e30fff3"
      },
      "source": [
        "import gdown\n",
        "\n",
        "urls = ['https://drive.google.com/uc?export=download&id=16AGQw1nM9NYILv2aSZaSNSn9jBPByWPq', # okc_train  https://drive.google.com/file/d/16AGQw1nM9NYILv2aSZaSNSn9jBPByWPq/view?usp=sharing\n",
        "        ]\n",
        "outputs = ['okc_train.csv']\n",
        "for url,output in zip(urls,outputs):\n",
        "  gdown.download(url, f'data/{output}', quiet=False)"
      ],
      "execution_count": 11,
      "outputs": [
        {
          "output_type": "stream",
          "text": [
            "Downloading...\n",
            "From: https://drive.google.com/uc?export=download&id=16AGQw1nM9NYILv2aSZaSNSn9jBPByWPq\n",
            "To: /content/data/okc_train.csv\n",
            "12.3MB [00:00, 136MB/s]\n"
          ],
          "name": "stderr"
        }
      ]
    },
    {
      "cell_type": "code",
      "metadata": {
        "id": "tbt7GzUNOT3O"
      },
      "source": [
        "df = pd.read_csv('data/okc_train.csv',index_col=0)"
      ],
      "execution_count": 12,
      "outputs": []
    },
    {
      "cell_type": "code",
      "metadata": {
        "id": "JZpHzHmXH_9p",
        "colab": {
          "base_uri": "https://localhost:8080/",
          "height": 222
        },
        "outputId": "934efd17-33c1-4dd6-9dae-8bbd7b99a811"
      },
      "source": [
        "df.head()"
      ],
      "execution_count": 13,
      "outputs": [
        {
          "output_type": "execute_result",
          "data": {
            "text/html": [
              "<div>\n",
              "<style scoped>\n",
              "    .dataframe tbody tr th:only-of-type {\n",
              "        vertical-align: middle;\n",
              "    }\n",
              "\n",
              "    .dataframe tbody tr th {\n",
              "        vertical-align: top;\n",
              "    }\n",
              "\n",
              "    .dataframe thead th {\n",
              "        text-align: right;\n",
              "    }\n",
              "</style>\n",
              "<table border=\"1\" class=\"dataframe\">\n",
              "  <thead>\n",
              "    <tr style=\"text-align: right;\">\n",
              "      <th></th>\n",
              "      <th>age</th>\n",
              "      <th>diet</th>\n",
              "      <th>drinks</th>\n",
              "      <th>drugs</th>\n",
              "      <th>education</th>\n",
              "      <th>height</th>\n",
              "      <th>income</th>\n",
              "      <th>last_online</th>\n",
              "      <th>offspring</th>\n",
              "      <th>pets</th>\n",
              "      <th>religion</th>\n",
              "      <th>sign</th>\n",
              "      <th>smokes</th>\n",
              "      <th>status</th>\n",
              "      <th>where_state</th>\n",
              "      <th>where_town</th>\n",
              "      <th>religion_modifer</th>\n",
              "      <th>sign_modifer</th>\n",
              "      <th>cpp</th>\n",
              "      <th>cpp_fluently</th>\n",
              "      <th>cpp_okay</th>\n",
              "      <th>cpp_poorly</th>\n",
              "      <th>lisp</th>\n",
              "      <th>lisp_fluently</th>\n",
              "      <th>lisp_okay</th>\n",
              "      <th>lisp_poorly</th>\n",
              "      <th>asian</th>\n",
              "      <th>black</th>\n",
              "      <th>hispanic_latin</th>\n",
              "      <th>indian</th>\n",
              "      <th>middle_eastern</th>\n",
              "      <th>native_american</th>\n",
              "      <th>other</th>\n",
              "      <th>pacific_islander</th>\n",
              "      <th>white</th>\n",
              "      <th>essay_length</th>\n",
              "      <th>Class</th>\n",
              "      <th>profile</th>\n",
              "    </tr>\n",
              "  </thead>\n",
              "  <tbody>\n",
              "    <tr>\n",
              "      <th>1</th>\n",
              "      <td>22</td>\n",
              "      <td>strictly_anything</td>\n",
              "      <td>socially</td>\n",
              "      <td>never</td>\n",
              "      <td>working_on_college_university</td>\n",
              "      <td>75</td>\n",
              "      <td>missing</td>\n",
              "      <td>3</td>\n",
              "      <td>doesnt_have_kids_but_might_want_them</td>\n",
              "      <td>likes_dogs_and_likes_cats</td>\n",
              "      <td>agnosticism</td>\n",
              "      <td>gemini</td>\n",
              "      <td>sometimes</td>\n",
              "      <td>single</td>\n",
              "      <td>california</td>\n",
              "      <td>south_san_francisco</td>\n",
              "      <td>and_very_serious_about_it</td>\n",
              "      <td>sign_mod_missing</td>\n",
              "      <td>0</td>\n",
              "      <td>0</td>\n",
              "      <td>0</td>\n",
              "      <td>0</td>\n",
              "      <td>0</td>\n",
              "      <td>0</td>\n",
              "      <td>0</td>\n",
              "      <td>0</td>\n",
              "      <td>1</td>\n",
              "      <td>0</td>\n",
              "      <td>0</td>\n",
              "      <td>0</td>\n",
              "      <td>0</td>\n",
              "      <td>0</td>\n",
              "      <td>0</td>\n",
              "      <td>0</td>\n",
              "      <td>1</td>\n",
              "      <td>3.420945</td>\n",
              "      <td>other</td>\n",
              "      <td>1</td>\n",
              "    </tr>\n",
              "    <tr>\n",
              "      <th>4</th>\n",
              "      <td>23</td>\n",
              "      <td>vegetarian</td>\n",
              "      <td>socially</td>\n",
              "      <td>drugs_missing</td>\n",
              "      <td>working_on_college_university</td>\n",
              "      <td>71</td>\n",
              "      <td>inc20000</td>\n",
              "      <td>3</td>\n",
              "      <td>doesnt_want_kids</td>\n",
              "      <td>likes_cats</td>\n",
              "      <td>religion_missing</td>\n",
              "      <td>pisces</td>\n",
              "      <td>no</td>\n",
              "      <td>single</td>\n",
              "      <td>california</td>\n",
              "      <td>berkeley</td>\n",
              "      <td>religion_mod_missing</td>\n",
              "      <td>sign_mod_missing</td>\n",
              "      <td>0</td>\n",
              "      <td>0</td>\n",
              "      <td>0</td>\n",
              "      <td>0</td>\n",
              "      <td>0</td>\n",
              "      <td>0</td>\n",
              "      <td>0</td>\n",
              "      <td>0</td>\n",
              "      <td>0</td>\n",
              "      <td>0</td>\n",
              "      <td>0</td>\n",
              "      <td>0</td>\n",
              "      <td>0</td>\n",
              "      <td>0</td>\n",
              "      <td>0</td>\n",
              "      <td>0</td>\n",
              "      <td>1</td>\n",
              "      <td>2.671173</td>\n",
              "      <td>other</td>\n",
              "      <td>3</td>\n",
              "    </tr>\n",
              "    <tr>\n",
              "      <th>6</th>\n",
              "      <td>29</td>\n",
              "      <td>mostly_anything</td>\n",
              "      <td>socially</td>\n",
              "      <td>drugs_missing</td>\n",
              "      <td>graduated_from_college_university</td>\n",
              "      <td>67</td>\n",
              "      <td>missing</td>\n",
              "      <td>2</td>\n",
              "      <td>doesnt_have_kids_but_might_want_them</td>\n",
              "      <td>likes_cats</td>\n",
              "      <td>atheism</td>\n",
              "      <td>taurus</td>\n",
              "      <td>no</td>\n",
              "      <td>single</td>\n",
              "      <td>california</td>\n",
              "      <td>san_francisco</td>\n",
              "      <td>religion_mod_missing</td>\n",
              "      <td>sign_mod_missing</td>\n",
              "      <td>0</td>\n",
              "      <td>0</td>\n",
              "      <td>0</td>\n",
              "      <td>0</td>\n",
              "      <td>0</td>\n",
              "      <td>0</td>\n",
              "      <td>0</td>\n",
              "      <td>0</td>\n",
              "      <td>0</td>\n",
              "      <td>0</td>\n",
              "      <td>0</td>\n",
              "      <td>0</td>\n",
              "      <td>0</td>\n",
              "      <td>0</td>\n",
              "      <td>0</td>\n",
              "      <td>0</td>\n",
              "      <td>1</td>\n",
              "      <td>3.391112</td>\n",
              "      <td>stem</td>\n",
              "      <td>5</td>\n",
              "    </tr>\n",
              "    <tr>\n",
              "      <th>8</th>\n",
              "      <td>31</td>\n",
              "      <td>mostly_anything</td>\n",
              "      <td>socially</td>\n",
              "      <td>never</td>\n",
              "      <td>graduated_from_college_university</td>\n",
              "      <td>65</td>\n",
              "      <td>missing</td>\n",
              "      <td>2</td>\n",
              "      <td>doesnt_have_kids_but_wants_them</td>\n",
              "      <td>likes_dogs_and_likes_cats</td>\n",
              "      <td>christianity</td>\n",
              "      <td>sagittarius</td>\n",
              "      <td>no</td>\n",
              "      <td>single</td>\n",
              "      <td>california</td>\n",
              "      <td>san_francisco</td>\n",
              "      <td>religion_mod_missing</td>\n",
              "      <td>sign_mod_missing</td>\n",
              "      <td>0</td>\n",
              "      <td>0</td>\n",
              "      <td>0</td>\n",
              "      <td>0</td>\n",
              "      <td>0</td>\n",
              "      <td>0</td>\n",
              "      <td>0</td>\n",
              "      <td>0</td>\n",
              "      <td>0</td>\n",
              "      <td>0</td>\n",
              "      <td>0</td>\n",
              "      <td>0</td>\n",
              "      <td>0</td>\n",
              "      <td>0</td>\n",
              "      <td>0</td>\n",
              "      <td>0</td>\n",
              "      <td>1</td>\n",
              "      <td>3.090611</td>\n",
              "      <td>other</td>\n",
              "      <td>6</td>\n",
              "    </tr>\n",
              "    <tr>\n",
              "      <th>10</th>\n",
              "      <td>37</td>\n",
              "      <td>mostly_anything</td>\n",
              "      <td>not_at_all</td>\n",
              "      <td>never</td>\n",
              "      <td>working_on_two_year_college</td>\n",
              "      <td>65</td>\n",
              "      <td>missing</td>\n",
              "      <td>3</td>\n",
              "      <td>kids_missing</td>\n",
              "      <td>likes_dogs_and_likes_cats</td>\n",
              "      <td>atheism</td>\n",
              "      <td>cancer</td>\n",
              "      <td>no</td>\n",
              "      <td>single</td>\n",
              "      <td>california</td>\n",
              "      <td>san_mateo</td>\n",
              "      <td>and_laughing_about_it</td>\n",
              "      <td>but_it_doesnt_matter</td>\n",
              "      <td>0</td>\n",
              "      <td>0</td>\n",
              "      <td>0</td>\n",
              "      <td>0</td>\n",
              "      <td>0</td>\n",
              "      <td>0</td>\n",
              "      <td>0</td>\n",
              "      <td>0</td>\n",
              "      <td>0</td>\n",
              "      <td>0</td>\n",
              "      <td>0</td>\n",
              "      <td>0</td>\n",
              "      <td>0</td>\n",
              "      <td>0</td>\n",
              "      <td>0</td>\n",
              "      <td>0</td>\n",
              "      <td>1</td>\n",
              "      <td>3.382377</td>\n",
              "      <td>other</td>\n",
              "      <td>7</td>\n",
              "    </tr>\n",
              "  </tbody>\n",
              "</table>\n",
              "</div>"
            ],
            "text/plain": [
              "    age               diet      drinks  ... essay_length  Class  profile\n",
              "1    22  strictly_anything    socially  ...     3.420945  other        1\n",
              "4    23         vegetarian    socially  ...     2.671173  other        3\n",
              "6    29    mostly_anything    socially  ...     3.391112   stem        5\n",
              "8    31    mostly_anything    socially  ...     3.090611  other        6\n",
              "10   37    mostly_anything  not_at_all  ...     3.382377  other        7\n",
              "\n",
              "[5 rows x 38 columns]"
            ]
          },
          "metadata": {
            "tags": []
          },
          "execution_count": 13
        }
      ]
    },
    {
      "cell_type": "code",
      "metadata": {
        "id": "w__Vfr55ICKt",
        "colab": {
          "base_uri": "https://localhost:8080/"
        },
        "outputId": "4c97a833-7c3f-44ea-b395-cab8bfb3a29a"
      },
      "source": [
        "df['drinks'].value_counts()"
      ],
      "execution_count": 14,
      "outputs": [
        {
          "output_type": "execute_result",
          "data": {
            "text/plain": [
              "socially          27521\n",
              "rarely             3981\n",
              "often              3413\n",
              "not_at_all         2157\n",
              "drinks_missing     1208\n",
              "very_often          319\n",
              "desperately         210\n",
              "Name: drinks, dtype: int64"
            ]
          },
          "metadata": {
            "tags": []
          },
          "execution_count": 14
        }
      ]
    },
    {
      "cell_type": "code",
      "metadata": {
        "id": "ifqD4NX9tDcV",
        "colab": {
          "base_uri": "https://localhost:8080/"
        },
        "outputId": "266c7e85-c774-4bdb-8066-93bbf3aef7aa"
      },
      "source": [
        "df['status'].value_counts()"
      ],
      "execution_count": 15,
      "outputs": [
        {
          "output_type": "execute_result",
          "data": {
            "text/plain": [
              "single            36014\n",
              "seeing_someone     1354\n",
              "available          1234\n",
              "married             204\n",
              "unknown               3\n",
              "Name: status, dtype: int64"
            ]
          },
          "metadata": {
            "tags": []
          },
          "execution_count": 15
        }
      ]
    },
    {
      "cell_type": "markdown",
      "metadata": {
        "id": "V4ftP8Trwta8"
      },
      "source": [
        "Pequeño dataset de prueba para algunas explicaciones y para las figuras en las diapositivas\n"
      ]
    },
    {
      "cell_type": "code",
      "metadata": {
        "id": "N6QlcRqsw2mL"
      },
      "source": [
        "df_test = pd.DataFrame({\n",
        "... 'City': ['SF', 'SF', 'SF', 'NYC', 'NYC', 'NYC',\n",
        "... 'Seattle', 'Seattle', 'Seattle'],\n",
        "... 'Rent': [3999, 4000, 4001, 3499, 3500, 3501, 2499, 2500, 2501]\n",
        "... })"
      ],
      "execution_count": 16,
      "outputs": []
    },
    {
      "cell_type": "code",
      "metadata": {
        "id": "QIJZ13cvw2mL",
        "colab": {
          "base_uri": "https://localhost:8080/",
          "height": 325
        },
        "outputId": "bc8dc111-fd60-4d41-fedb-7adfc0dbce4a"
      },
      "source": [
        "df_test"
      ],
      "execution_count": 17,
      "outputs": [
        {
          "output_type": "execute_result",
          "data": {
            "text/html": [
              "<div>\n",
              "<style scoped>\n",
              "    .dataframe tbody tr th:only-of-type {\n",
              "        vertical-align: middle;\n",
              "    }\n",
              "\n",
              "    .dataframe tbody tr th {\n",
              "        vertical-align: top;\n",
              "    }\n",
              "\n",
              "    .dataframe thead th {\n",
              "        text-align: right;\n",
              "    }\n",
              "</style>\n",
              "<table border=\"1\" class=\"dataframe\">\n",
              "  <thead>\n",
              "    <tr style=\"text-align: right;\">\n",
              "      <th></th>\n",
              "      <th>City</th>\n",
              "      <th>Rent</th>\n",
              "    </tr>\n",
              "  </thead>\n",
              "  <tbody>\n",
              "    <tr>\n",
              "      <th>0</th>\n",
              "      <td>SF</td>\n",
              "      <td>3999</td>\n",
              "    </tr>\n",
              "    <tr>\n",
              "      <th>1</th>\n",
              "      <td>SF</td>\n",
              "      <td>4000</td>\n",
              "    </tr>\n",
              "    <tr>\n",
              "      <th>2</th>\n",
              "      <td>SF</td>\n",
              "      <td>4001</td>\n",
              "    </tr>\n",
              "    <tr>\n",
              "      <th>3</th>\n",
              "      <td>NYC</td>\n",
              "      <td>3499</td>\n",
              "    </tr>\n",
              "    <tr>\n",
              "      <th>4</th>\n",
              "      <td>NYC</td>\n",
              "      <td>3500</td>\n",
              "    </tr>\n",
              "    <tr>\n",
              "      <th>5</th>\n",
              "      <td>NYC</td>\n",
              "      <td>3501</td>\n",
              "    </tr>\n",
              "    <tr>\n",
              "      <th>6</th>\n",
              "      <td>Seattle</td>\n",
              "      <td>2499</td>\n",
              "    </tr>\n",
              "    <tr>\n",
              "      <th>7</th>\n",
              "      <td>Seattle</td>\n",
              "      <td>2500</td>\n",
              "    </tr>\n",
              "    <tr>\n",
              "      <th>8</th>\n",
              "      <td>Seattle</td>\n",
              "      <td>2501</td>\n",
              "    </tr>\n",
              "  </tbody>\n",
              "</table>\n",
              "</div>"
            ],
            "text/plain": [
              "      City  Rent\n",
              "0       SF  3999\n",
              "1       SF  4000\n",
              "2       SF  4001\n",
              "3      NYC  3499\n",
              "4      NYC  3500\n",
              "5      NYC  3501\n",
              "6  Seattle  2499\n",
              "7  Seattle  2500\n",
              "8  Seattle  2501"
            ]
          },
          "metadata": {
            "tags": []
          },
          "execution_count": 17
        }
      ]
    },
    {
      "cell_type": "markdown",
      "metadata": {
        "id": "4pKFtLouXfG4"
      },
      "source": [
        "Para esta hoja de trabajo vamos a utilizar la librería [category_encoders](http://contrib.scikit-learn.org/category_encoders/index.html), la cual es compatible con scikit-learn."
      ]
    },
    {
      "cell_type": "code",
      "metadata": {
        "id": "6TJXc11RIOG5",
        "colab": {
          "base_uri": "https://localhost:8080/"
        },
        "outputId": "ff9f501c-327c-4c77-c37d-48a59eed741e"
      },
      "source": [
        "!pip install category_encoders"
      ],
      "execution_count": 18,
      "outputs": [
        {
          "output_type": "stream",
          "text": [
            "Collecting category_encoders\n",
            "\u001b[?25l  Downloading https://files.pythonhosted.org/packages/44/57/fcef41c248701ee62e8325026b90c432adea35555cbc870aff9cfba23727/category_encoders-2.2.2-py2.py3-none-any.whl (80kB)\n",
            "\r\u001b[K     |████                            | 10kB 10.2MB/s eta 0:00:01\r\u001b[K     |████████▏                       | 20kB 14.9MB/s eta 0:00:01\r\u001b[K     |████████████▏                   | 30kB 18.1MB/s eta 0:00:01\r\u001b[K     |████████████████▎               | 40kB 21.0MB/s eta 0:00:01\r\u001b[K     |████████████████████▎           | 51kB 22.5MB/s eta 0:00:01\r\u001b[K     |████████████████████████▍       | 61kB 17.3MB/s eta 0:00:01\r\u001b[K     |████████████████████████████▍   | 71kB 17.6MB/s eta 0:00:01\r\u001b[K     |████████████████████████████████| 81kB 6.2MB/s \n",
            "\u001b[?25hRequirement already satisfied: pandas>=0.21.1 in /usr/local/lib/python3.7/dist-packages (from category_encoders) (1.1.5)\n",
            "Requirement already satisfied: patsy>=0.5.1 in /usr/local/lib/python3.7/dist-packages (from category_encoders) (0.5.1)\n",
            "Requirement already satisfied: scikit-learn>=0.20.0 in /usr/local/lib/python3.7/dist-packages (from category_encoders) (0.22.2.post1)\n",
            "Requirement already satisfied: statsmodels>=0.9.0 in /usr/local/lib/python3.7/dist-packages (from category_encoders) (0.10.2)\n",
            "Requirement already satisfied: numpy>=1.14.0 in /usr/local/lib/python3.7/dist-packages (from category_encoders) (1.19.5)\n",
            "Requirement already satisfied: scipy>=1.0.0 in /usr/local/lib/python3.7/dist-packages (from category_encoders) (1.4.1)\n",
            "Requirement already satisfied: python-dateutil>=2.7.3 in /usr/local/lib/python3.7/dist-packages (from pandas>=0.21.1->category_encoders) (2.8.1)\n",
            "Requirement already satisfied: pytz>=2017.2 in /usr/local/lib/python3.7/dist-packages (from pandas>=0.21.1->category_encoders) (2018.9)\n",
            "Requirement already satisfied: six in /usr/local/lib/python3.7/dist-packages (from patsy>=0.5.1->category_encoders) (1.15.0)\n",
            "Requirement already satisfied: joblib>=0.11 in /usr/local/lib/python3.7/dist-packages (from scikit-learn>=0.20.0->category_encoders) (1.0.1)\n",
            "Installing collected packages: category-encoders\n",
            "Successfully installed category-encoders-2.2.2\n"
          ],
          "name": "stdout"
        }
      ]
    },
    {
      "cell_type": "code",
      "metadata": {
        "id": "o9jm8j4vpUR7"
      },
      "source": [
        "col = 'drinks'"
      ],
      "execution_count": 19,
      "outputs": []
    },
    {
      "cell_type": "markdown",
      "metadata": {
        "id": "bHbRN1o_U55I"
      },
      "source": [
        "# Unsupervised Encoders"
      ]
    },
    {
      "cell_type": "markdown",
      "metadata": {
        "id": "hXMSUeFtVAIB"
      },
      "source": [
        "## Classic Encoders"
      ]
    },
    {
      "cell_type": "markdown",
      "metadata": {
        "id": "oEFMQtldVDTw"
      },
      "source": [
        "### One-Hot Encoder"
      ]
    },
    {
      "cell_type": "code",
      "metadata": {
        "id": "8r2rOg4itiwb",
        "outputId": "74425097-68ca-48a4-ec34-f6aee5ff3214",
        "colab": {
          "base_uri": "https://localhost:8080/"
        }
      },
      "source": [
        "from category_encoders import OneHotEncoder"
      ],
      "execution_count": 20,
      "outputs": [
        {
          "output_type": "stream",
          "text": [
            "/usr/local/lib/python3.7/dist-packages/statsmodels/tools/_testing.py:19: FutureWarning:\n",
            "\n",
            "pandas.util.testing is deprecated. Use the functions in the public API at pandas.testing instead.\n",
            "\n"
          ],
          "name": "stderr"
        }
      ]
    },
    {
      "cell_type": "code",
      "metadata": {
        "id": "rWY_1O6FXsdz"
      },
      "source": [
        "onehot_enc = OneHotEncoder(use_cat_names=True)"
      ],
      "execution_count": 21,
      "outputs": []
    },
    {
      "cell_type": "code",
      "metadata": {
        "id": "rzUCMjPYXsgm",
        "colab": {
          "base_uri": "https://localhost:8080/",
          "height": 485
        },
        "outputId": "09a7a41a-c986-407c-b2ae-be48a5cc718e"
      },
      "source": [
        "onehot_enc.fit_transform(df[[col]])"
      ],
      "execution_count": 22,
      "outputs": [
        {
          "output_type": "stream",
          "text": [
            "/usr/local/lib/python3.7/dist-packages/category_encoders/utils.py:21: FutureWarning:\n",
            "\n",
            "is_categorical is deprecated and will be removed in a future version.  Use is_categorical_dtype instead\n",
            "\n"
          ],
          "name": "stderr"
        },
        {
          "output_type": "execute_result",
          "data": {
            "text/html": [
              "<div>\n",
              "<style scoped>\n",
              "    .dataframe tbody tr th:only-of-type {\n",
              "        vertical-align: middle;\n",
              "    }\n",
              "\n",
              "    .dataframe tbody tr th {\n",
              "        vertical-align: top;\n",
              "    }\n",
              "\n",
              "    .dataframe thead th {\n",
              "        text-align: right;\n",
              "    }\n",
              "</style>\n",
              "<table border=\"1\" class=\"dataframe\">\n",
              "  <thead>\n",
              "    <tr style=\"text-align: right;\">\n",
              "      <th></th>\n",
              "      <th>drinks_socially</th>\n",
              "      <th>drinks_not_at_all</th>\n",
              "      <th>drinks_rarely</th>\n",
              "      <th>drinks_often</th>\n",
              "      <th>drinks_drinks_missing</th>\n",
              "      <th>drinks_very_often</th>\n",
              "      <th>drinks_desperately</th>\n",
              "    </tr>\n",
              "  </thead>\n",
              "  <tbody>\n",
              "    <tr>\n",
              "      <th>1</th>\n",
              "      <td>1</td>\n",
              "      <td>0</td>\n",
              "      <td>0</td>\n",
              "      <td>0</td>\n",
              "      <td>0</td>\n",
              "      <td>0</td>\n",
              "      <td>0</td>\n",
              "    </tr>\n",
              "    <tr>\n",
              "      <th>4</th>\n",
              "      <td>1</td>\n",
              "      <td>0</td>\n",
              "      <td>0</td>\n",
              "      <td>0</td>\n",
              "      <td>0</td>\n",
              "      <td>0</td>\n",
              "      <td>0</td>\n",
              "    </tr>\n",
              "    <tr>\n",
              "      <th>6</th>\n",
              "      <td>1</td>\n",
              "      <td>0</td>\n",
              "      <td>0</td>\n",
              "      <td>0</td>\n",
              "      <td>0</td>\n",
              "      <td>0</td>\n",
              "      <td>0</td>\n",
              "    </tr>\n",
              "    <tr>\n",
              "      <th>8</th>\n",
              "      <td>1</td>\n",
              "      <td>0</td>\n",
              "      <td>0</td>\n",
              "      <td>0</td>\n",
              "      <td>0</td>\n",
              "      <td>0</td>\n",
              "      <td>0</td>\n",
              "    </tr>\n",
              "    <tr>\n",
              "      <th>10</th>\n",
              "      <td>0</td>\n",
              "      <td>1</td>\n",
              "      <td>0</td>\n",
              "      <td>0</td>\n",
              "      <td>0</td>\n",
              "      <td>0</td>\n",
              "      <td>0</td>\n",
              "    </tr>\n",
              "    <tr>\n",
              "      <th>...</th>\n",
              "      <td>...</td>\n",
              "      <td>...</td>\n",
              "      <td>...</td>\n",
              "      <td>...</td>\n",
              "      <td>...</td>\n",
              "      <td>...</td>\n",
              "      <td>...</td>\n",
              "    </tr>\n",
              "    <tr>\n",
              "      <th>59940</th>\n",
              "      <td>1</td>\n",
              "      <td>0</td>\n",
              "      <td>0</td>\n",
              "      <td>0</td>\n",
              "      <td>0</td>\n",
              "      <td>0</td>\n",
              "      <td>0</td>\n",
              "    </tr>\n",
              "    <tr>\n",
              "      <th>59943</th>\n",
              "      <td>0</td>\n",
              "      <td>0</td>\n",
              "      <td>0</td>\n",
              "      <td>1</td>\n",
              "      <td>0</td>\n",
              "      <td>0</td>\n",
              "      <td>0</td>\n",
              "    </tr>\n",
              "    <tr>\n",
              "      <th>59944</th>\n",
              "      <td>0</td>\n",
              "      <td>1</td>\n",
              "      <td>0</td>\n",
              "      <td>0</td>\n",
              "      <td>0</td>\n",
              "      <td>0</td>\n",
              "      <td>0</td>\n",
              "    </tr>\n",
              "    <tr>\n",
              "      <th>59945</th>\n",
              "      <td>1</td>\n",
              "      <td>0</td>\n",
              "      <td>0</td>\n",
              "      <td>0</td>\n",
              "      <td>0</td>\n",
              "      <td>0</td>\n",
              "      <td>0</td>\n",
              "    </tr>\n",
              "    <tr>\n",
              "      <th>59946</th>\n",
              "      <td>1</td>\n",
              "      <td>0</td>\n",
              "      <td>0</td>\n",
              "      <td>0</td>\n",
              "      <td>0</td>\n",
              "      <td>0</td>\n",
              "      <td>0</td>\n",
              "    </tr>\n",
              "  </tbody>\n",
              "</table>\n",
              "<p>38809 rows × 7 columns</p>\n",
              "</div>"
            ],
            "text/plain": [
              "       drinks_socially  ...  drinks_desperately\n",
              "1                    1  ...                   0\n",
              "4                    1  ...                   0\n",
              "6                    1  ...                   0\n",
              "8                    1  ...                   0\n",
              "10                   0  ...                   0\n",
              "...                ...  ...                 ...\n",
              "59940                1  ...                   0\n",
              "59943                0  ...                   0\n",
              "59944                0  ...                   0\n",
              "59945                1  ...                   0\n",
              "59946                1  ...                   0\n",
              "\n",
              "[38809 rows x 7 columns]"
            ]
          },
          "metadata": {
            "tags": []
          },
          "execution_count": 22
        }
      ]
    },
    {
      "cell_type": "code",
      "metadata": {
        "id": "hgHI22ILXsjd",
        "colab": {
          "base_uri": "https://localhost:8080/",
          "height": 325
        },
        "outputId": "4cb03866-3eb1-423b-bcba-611b07b57764"
      },
      "source": [
        "onehot_enc.mapping[0]['mapping']"
      ],
      "execution_count": 23,
      "outputs": [
        {
          "output_type": "execute_result",
          "data": {
            "text/html": [
              "<div>\n",
              "<style scoped>\n",
              "    .dataframe tbody tr th:only-of-type {\n",
              "        vertical-align: middle;\n",
              "    }\n",
              "\n",
              "    .dataframe tbody tr th {\n",
              "        vertical-align: top;\n",
              "    }\n",
              "\n",
              "    .dataframe thead th {\n",
              "        text-align: right;\n",
              "    }\n",
              "</style>\n",
              "<table border=\"1\" class=\"dataframe\">\n",
              "  <thead>\n",
              "    <tr style=\"text-align: right;\">\n",
              "      <th></th>\n",
              "      <th>drinks_socially</th>\n",
              "      <th>drinks_not_at_all</th>\n",
              "      <th>drinks_rarely</th>\n",
              "      <th>drinks_often</th>\n",
              "      <th>drinks_drinks_missing</th>\n",
              "      <th>drinks_very_often</th>\n",
              "      <th>drinks_desperately</th>\n",
              "    </tr>\n",
              "  </thead>\n",
              "  <tbody>\n",
              "    <tr>\n",
              "      <th>1</th>\n",
              "      <td>1</td>\n",
              "      <td>0</td>\n",
              "      <td>0</td>\n",
              "      <td>0</td>\n",
              "      <td>0</td>\n",
              "      <td>0</td>\n",
              "      <td>0</td>\n",
              "    </tr>\n",
              "    <tr>\n",
              "      <th>2</th>\n",
              "      <td>0</td>\n",
              "      <td>1</td>\n",
              "      <td>0</td>\n",
              "      <td>0</td>\n",
              "      <td>0</td>\n",
              "      <td>0</td>\n",
              "      <td>0</td>\n",
              "    </tr>\n",
              "    <tr>\n",
              "      <th>3</th>\n",
              "      <td>0</td>\n",
              "      <td>0</td>\n",
              "      <td>1</td>\n",
              "      <td>0</td>\n",
              "      <td>0</td>\n",
              "      <td>0</td>\n",
              "      <td>0</td>\n",
              "    </tr>\n",
              "    <tr>\n",
              "      <th>4</th>\n",
              "      <td>0</td>\n",
              "      <td>0</td>\n",
              "      <td>0</td>\n",
              "      <td>1</td>\n",
              "      <td>0</td>\n",
              "      <td>0</td>\n",
              "      <td>0</td>\n",
              "    </tr>\n",
              "    <tr>\n",
              "      <th>5</th>\n",
              "      <td>0</td>\n",
              "      <td>0</td>\n",
              "      <td>0</td>\n",
              "      <td>0</td>\n",
              "      <td>1</td>\n",
              "      <td>0</td>\n",
              "      <td>0</td>\n",
              "    </tr>\n",
              "    <tr>\n",
              "      <th>6</th>\n",
              "      <td>0</td>\n",
              "      <td>0</td>\n",
              "      <td>0</td>\n",
              "      <td>0</td>\n",
              "      <td>0</td>\n",
              "      <td>1</td>\n",
              "      <td>0</td>\n",
              "    </tr>\n",
              "    <tr>\n",
              "      <th>7</th>\n",
              "      <td>0</td>\n",
              "      <td>0</td>\n",
              "      <td>0</td>\n",
              "      <td>0</td>\n",
              "      <td>0</td>\n",
              "      <td>0</td>\n",
              "      <td>1</td>\n",
              "    </tr>\n",
              "    <tr>\n",
              "      <th>-1</th>\n",
              "      <td>0</td>\n",
              "      <td>0</td>\n",
              "      <td>0</td>\n",
              "      <td>0</td>\n",
              "      <td>0</td>\n",
              "      <td>0</td>\n",
              "      <td>0</td>\n",
              "    </tr>\n",
              "    <tr>\n",
              "      <th>-2</th>\n",
              "      <td>0</td>\n",
              "      <td>0</td>\n",
              "      <td>0</td>\n",
              "      <td>0</td>\n",
              "      <td>0</td>\n",
              "      <td>0</td>\n",
              "      <td>0</td>\n",
              "    </tr>\n",
              "  </tbody>\n",
              "</table>\n",
              "</div>"
            ],
            "text/plain": [
              "    drinks_socially  drinks_not_at_all  ...  drinks_very_often  drinks_desperately\n",
              " 1                1                  0  ...                  0                   0\n",
              " 2                0                  1  ...                  0                   0\n",
              " 3                0                  0  ...                  0                   0\n",
              " 4                0                  0  ...                  0                   0\n",
              " 5                0                  0  ...                  0                   0\n",
              " 6                0                  0  ...                  1                   0\n",
              " 7                0                  0  ...                  0                   1\n",
              "-1                0                  0  ...                  0                   0\n",
              "-2                0                  0  ...                  0                   0\n",
              "\n",
              "[9 rows x 7 columns]"
            ]
          },
          "metadata": {
            "tags": []
          },
          "execution_count": 23
        }
      ]
    },
    {
      "cell_type": "markdown",
      "metadata": {
        "id": "r28M6q1BVIUP"
      },
      "source": [
        "### Binary Encoder"
      ]
    },
    {
      "cell_type": "code",
      "metadata": {
        "id": "J9SKSr0GXuba"
      },
      "source": [
        "from category_encoders import BinaryEncoder"
      ],
      "execution_count": 24,
      "outputs": []
    },
    {
      "cell_type": "code",
      "metadata": {
        "id": "mBnE7ZayXuei"
      },
      "source": [
        "binary_enc = BinaryEncoder()"
      ],
      "execution_count": 25,
      "outputs": []
    },
    {
      "cell_type": "code",
      "metadata": {
        "id": "51LIypweXuhW",
        "colab": {
          "base_uri": "https://localhost:8080/",
          "height": 485
        },
        "outputId": "97b82cdf-8ab1-431b-c502-03aa1a939e14"
      },
      "source": [
        "binary_enc.fit_transform(df[[col]])"
      ],
      "execution_count": 26,
      "outputs": [
        {
          "output_type": "stream",
          "text": [
            "/usr/local/lib/python3.7/dist-packages/category_encoders/utils.py:21: FutureWarning:\n",
            "\n",
            "is_categorical is deprecated and will be removed in a future version.  Use is_categorical_dtype instead\n",
            "\n"
          ],
          "name": "stderr"
        },
        {
          "output_type": "execute_result",
          "data": {
            "text/html": [
              "<div>\n",
              "<style scoped>\n",
              "    .dataframe tbody tr th:only-of-type {\n",
              "        vertical-align: middle;\n",
              "    }\n",
              "\n",
              "    .dataframe tbody tr th {\n",
              "        vertical-align: top;\n",
              "    }\n",
              "\n",
              "    .dataframe thead th {\n",
              "        text-align: right;\n",
              "    }\n",
              "</style>\n",
              "<table border=\"1\" class=\"dataframe\">\n",
              "  <thead>\n",
              "    <tr style=\"text-align: right;\">\n",
              "      <th></th>\n",
              "      <th>drinks_0</th>\n",
              "      <th>drinks_1</th>\n",
              "      <th>drinks_2</th>\n",
              "      <th>drinks_3</th>\n",
              "    </tr>\n",
              "  </thead>\n",
              "  <tbody>\n",
              "    <tr>\n",
              "      <th>1</th>\n",
              "      <td>0</td>\n",
              "      <td>0</td>\n",
              "      <td>0</td>\n",
              "      <td>1</td>\n",
              "    </tr>\n",
              "    <tr>\n",
              "      <th>4</th>\n",
              "      <td>0</td>\n",
              "      <td>0</td>\n",
              "      <td>0</td>\n",
              "      <td>1</td>\n",
              "    </tr>\n",
              "    <tr>\n",
              "      <th>6</th>\n",
              "      <td>0</td>\n",
              "      <td>0</td>\n",
              "      <td>0</td>\n",
              "      <td>1</td>\n",
              "    </tr>\n",
              "    <tr>\n",
              "      <th>8</th>\n",
              "      <td>0</td>\n",
              "      <td>0</td>\n",
              "      <td>0</td>\n",
              "      <td>1</td>\n",
              "    </tr>\n",
              "    <tr>\n",
              "      <th>10</th>\n",
              "      <td>0</td>\n",
              "      <td>0</td>\n",
              "      <td>1</td>\n",
              "      <td>0</td>\n",
              "    </tr>\n",
              "    <tr>\n",
              "      <th>...</th>\n",
              "      <td>...</td>\n",
              "      <td>...</td>\n",
              "      <td>...</td>\n",
              "      <td>...</td>\n",
              "    </tr>\n",
              "    <tr>\n",
              "      <th>59940</th>\n",
              "      <td>0</td>\n",
              "      <td>0</td>\n",
              "      <td>0</td>\n",
              "      <td>1</td>\n",
              "    </tr>\n",
              "    <tr>\n",
              "      <th>59943</th>\n",
              "      <td>0</td>\n",
              "      <td>1</td>\n",
              "      <td>0</td>\n",
              "      <td>0</td>\n",
              "    </tr>\n",
              "    <tr>\n",
              "      <th>59944</th>\n",
              "      <td>0</td>\n",
              "      <td>0</td>\n",
              "      <td>1</td>\n",
              "      <td>0</td>\n",
              "    </tr>\n",
              "    <tr>\n",
              "      <th>59945</th>\n",
              "      <td>0</td>\n",
              "      <td>0</td>\n",
              "      <td>0</td>\n",
              "      <td>1</td>\n",
              "    </tr>\n",
              "    <tr>\n",
              "      <th>59946</th>\n",
              "      <td>0</td>\n",
              "      <td>0</td>\n",
              "      <td>0</td>\n",
              "      <td>1</td>\n",
              "    </tr>\n",
              "  </tbody>\n",
              "</table>\n",
              "<p>38809 rows × 4 columns</p>\n",
              "</div>"
            ],
            "text/plain": [
              "       drinks_0  drinks_1  drinks_2  drinks_3\n",
              "1             0         0         0         1\n",
              "4             0         0         0         1\n",
              "6             0         0         0         1\n",
              "8             0         0         0         1\n",
              "10            0         0         1         0\n",
              "...         ...       ...       ...       ...\n",
              "59940         0         0         0         1\n",
              "59943         0         1         0         0\n",
              "59944         0         0         1         0\n",
              "59945         0         0         0         1\n",
              "59946         0         0         0         1\n",
              "\n",
              "[38809 rows x 4 columns]"
            ]
          },
          "metadata": {
            "tags": []
          },
          "execution_count": 26
        }
      ]
    },
    {
      "cell_type": "code",
      "metadata": {
        "id": "QEOi5FuWXuk0",
        "colab": {
          "base_uri": "https://localhost:8080/",
          "height": 325
        },
        "outputId": "46da4ab4-27dc-4b30-cafb-08fe6b6813b5"
      },
      "source": [
        "binary_enc.base_n_encoder.mapping[0]['mapping']"
      ],
      "execution_count": 27,
      "outputs": [
        {
          "output_type": "execute_result",
          "data": {
            "text/html": [
              "<div>\n",
              "<style scoped>\n",
              "    .dataframe tbody tr th:only-of-type {\n",
              "        vertical-align: middle;\n",
              "    }\n",
              "\n",
              "    .dataframe tbody tr th {\n",
              "        vertical-align: top;\n",
              "    }\n",
              "\n",
              "    .dataframe thead th {\n",
              "        text-align: right;\n",
              "    }\n",
              "</style>\n",
              "<table border=\"1\" class=\"dataframe\">\n",
              "  <thead>\n",
              "    <tr style=\"text-align: right;\">\n",
              "      <th></th>\n",
              "      <th>drinks_0</th>\n",
              "      <th>drinks_1</th>\n",
              "      <th>drinks_2</th>\n",
              "      <th>drinks_3</th>\n",
              "    </tr>\n",
              "  </thead>\n",
              "  <tbody>\n",
              "    <tr>\n",
              "      <th>1</th>\n",
              "      <td>0</td>\n",
              "      <td>0</td>\n",
              "      <td>0</td>\n",
              "      <td>1</td>\n",
              "    </tr>\n",
              "    <tr>\n",
              "      <th>2</th>\n",
              "      <td>0</td>\n",
              "      <td>0</td>\n",
              "      <td>1</td>\n",
              "      <td>0</td>\n",
              "    </tr>\n",
              "    <tr>\n",
              "      <th>3</th>\n",
              "      <td>0</td>\n",
              "      <td>0</td>\n",
              "      <td>1</td>\n",
              "      <td>1</td>\n",
              "    </tr>\n",
              "    <tr>\n",
              "      <th>4</th>\n",
              "      <td>0</td>\n",
              "      <td>1</td>\n",
              "      <td>0</td>\n",
              "      <td>0</td>\n",
              "    </tr>\n",
              "    <tr>\n",
              "      <th>5</th>\n",
              "      <td>0</td>\n",
              "      <td>1</td>\n",
              "      <td>0</td>\n",
              "      <td>1</td>\n",
              "    </tr>\n",
              "    <tr>\n",
              "      <th>6</th>\n",
              "      <td>0</td>\n",
              "      <td>1</td>\n",
              "      <td>1</td>\n",
              "      <td>0</td>\n",
              "    </tr>\n",
              "    <tr>\n",
              "      <th>7</th>\n",
              "      <td>0</td>\n",
              "      <td>1</td>\n",
              "      <td>1</td>\n",
              "      <td>1</td>\n",
              "    </tr>\n",
              "    <tr>\n",
              "      <th>-1</th>\n",
              "      <td>0</td>\n",
              "      <td>0</td>\n",
              "      <td>0</td>\n",
              "      <td>0</td>\n",
              "    </tr>\n",
              "    <tr>\n",
              "      <th>-2</th>\n",
              "      <td>0</td>\n",
              "      <td>0</td>\n",
              "      <td>0</td>\n",
              "      <td>0</td>\n",
              "    </tr>\n",
              "  </tbody>\n",
              "</table>\n",
              "</div>"
            ],
            "text/plain": [
              "    drinks_0  drinks_1  drinks_2  drinks_3\n",
              " 1         0         0         0         1\n",
              " 2         0         0         1         0\n",
              " 3         0         0         1         1\n",
              " 4         0         1         0         0\n",
              " 5         0         1         0         1\n",
              " 6         0         1         1         0\n",
              " 7         0         1         1         1\n",
              "-1         0         0         0         0\n",
              "-2         0         0         0         0"
            ]
          },
          "metadata": {
            "tags": []
          },
          "execution_count": 27
        }
      ]
    },
    {
      "cell_type": "markdown",
      "metadata": {
        "id": "isF60gocgLlE"
      },
      "source": [
        "### Frequency or Count Encoder"
      ]
    },
    {
      "cell_type": "code",
      "metadata": {
        "id": "C7WZvDPsXv8y"
      },
      "source": [
        "from category_encoders import CountEncoder"
      ],
      "execution_count": 28,
      "outputs": []
    },
    {
      "cell_type": "code",
      "metadata": {
        "id": "jRrModnNXv_1"
      },
      "source": [
        "count_enc = CountEncoder(normalize=False)"
      ],
      "execution_count": 29,
      "outputs": []
    },
    {
      "cell_type": "code",
      "metadata": {
        "id": "Og-pdtW5XwC7",
        "colab": {
          "base_uri": "https://localhost:8080/"
        },
        "outputId": "de63998d-055e-41e7-c9ed-f49493b9c6ac"
      },
      "source": [
        "df[col].value_counts()"
      ],
      "execution_count": 30,
      "outputs": [
        {
          "output_type": "execute_result",
          "data": {
            "text/plain": [
              "socially          27521\n",
              "rarely             3981\n",
              "often              3413\n",
              "not_at_all         2157\n",
              "drinks_missing     1208\n",
              "very_often          319\n",
              "desperately         210\n",
              "Name: drinks, dtype: int64"
            ]
          },
          "metadata": {
            "tags": []
          },
          "execution_count": 30
        }
      ]
    },
    {
      "cell_type": "markdown",
      "metadata": {
        "id": "u3OwsExn4FC6"
      },
      "source": [
        "Intentemos utilizando las funciones de combinacion de grupos"
      ]
    },
    {
      "cell_type": "code",
      "metadata": {
        "id": "a5_G7fyVXxZj"
      },
      "source": [
        "count_enc = CountEncoder(combine_min_nan_groups=True, min_group_size=500, min_group_name='otros', normalize=True)"
      ],
      "execution_count": 31,
      "outputs": []
    },
    {
      "cell_type": "code",
      "metadata": {
        "id": "fwltS5m8Xxcf"
      },
      "source": [
        ""
      ],
      "execution_count": 31,
      "outputs": []
    },
    {
      "cell_type": "code",
      "metadata": {
        "id": "S-5UiH58XxfW"
      },
      "source": [
        ""
      ],
      "execution_count": 31,
      "outputs": []
    },
    {
      "cell_type": "markdown",
      "metadata": {
        "id": "pyS3hX38VOw-"
      },
      "source": [
        "### Ordinal Encoder"
      ]
    },
    {
      "cell_type": "code",
      "metadata": {
        "id": "4IzsvKbQXy4m"
      },
      "source": [
        "from category_encoders import OrdinalEncoder"
      ],
      "execution_count": 32,
      "outputs": []
    },
    {
      "cell_type": "code",
      "metadata": {
        "id": "MJcZPYbNXy73"
      },
      "source": [
        "ord_enc = OrdinalEncoder()"
      ],
      "execution_count": 33,
      "outputs": []
    },
    {
      "cell_type": "code",
      "metadata": {
        "id": "n-CuoSmMXy_l",
        "colab": {
          "base_uri": "https://localhost:8080/",
          "height": 415
        },
        "outputId": "f7b672ca-0c1c-45c3-8b2e-80f1864726be"
      },
      "source": [
        "ord_enc.fit_transform(df[col])"
      ],
      "execution_count": 34,
      "outputs": [
        {
          "output_type": "execute_result",
          "data": {
            "text/html": [
              "<div>\n",
              "<style scoped>\n",
              "    .dataframe tbody tr th:only-of-type {\n",
              "        vertical-align: middle;\n",
              "    }\n",
              "\n",
              "    .dataframe tbody tr th {\n",
              "        vertical-align: top;\n",
              "    }\n",
              "\n",
              "    .dataframe thead th {\n",
              "        text-align: right;\n",
              "    }\n",
              "</style>\n",
              "<table border=\"1\" class=\"dataframe\">\n",
              "  <thead>\n",
              "    <tr style=\"text-align: right;\">\n",
              "      <th></th>\n",
              "      <th>drinks</th>\n",
              "    </tr>\n",
              "  </thead>\n",
              "  <tbody>\n",
              "    <tr>\n",
              "      <th>1</th>\n",
              "      <td>1</td>\n",
              "    </tr>\n",
              "    <tr>\n",
              "      <th>4</th>\n",
              "      <td>1</td>\n",
              "    </tr>\n",
              "    <tr>\n",
              "      <th>6</th>\n",
              "      <td>1</td>\n",
              "    </tr>\n",
              "    <tr>\n",
              "      <th>8</th>\n",
              "      <td>1</td>\n",
              "    </tr>\n",
              "    <tr>\n",
              "      <th>10</th>\n",
              "      <td>2</td>\n",
              "    </tr>\n",
              "    <tr>\n",
              "      <th>...</th>\n",
              "      <td>...</td>\n",
              "    </tr>\n",
              "    <tr>\n",
              "      <th>59940</th>\n",
              "      <td>1</td>\n",
              "    </tr>\n",
              "    <tr>\n",
              "      <th>59943</th>\n",
              "      <td>4</td>\n",
              "    </tr>\n",
              "    <tr>\n",
              "      <th>59944</th>\n",
              "      <td>2</td>\n",
              "    </tr>\n",
              "    <tr>\n",
              "      <th>59945</th>\n",
              "      <td>1</td>\n",
              "    </tr>\n",
              "    <tr>\n",
              "      <th>59946</th>\n",
              "      <td>1</td>\n",
              "    </tr>\n",
              "  </tbody>\n",
              "</table>\n",
              "<p>38809 rows × 1 columns</p>\n",
              "</div>"
            ],
            "text/plain": [
              "       drinks\n",
              "1           1\n",
              "4           1\n",
              "6           1\n",
              "8           1\n",
              "10          2\n",
              "...       ...\n",
              "59940       1\n",
              "59943       4\n",
              "59944       2\n",
              "59945       1\n",
              "59946       1\n",
              "\n",
              "[38809 rows x 1 columns]"
            ]
          },
          "metadata": {
            "tags": []
          },
          "execution_count": 34
        }
      ]
    },
    {
      "cell_type": "code",
      "metadata": {
        "id": "-sh7kDdtXzDF",
        "colab": {
          "base_uri": "https://localhost:8080/"
        },
        "outputId": "ece3ccda-fcde-49ad-8ed2-f7498733bbe7"
      },
      "source": [
        "ord_enc.category_mapping[0]['mapping']"
      ],
      "execution_count": 35,
      "outputs": [
        {
          "output_type": "execute_result",
          "data": {
            "text/plain": [
              "socially          1\n",
              "not_at_all        2\n",
              "rarely            3\n",
              "often             4\n",
              "drinks_missing    5\n",
              "very_often        6\n",
              "desperately       7\n",
              "NaN              -2\n",
              "dtype: int64"
            ]
          },
          "metadata": {
            "tags": []
          },
          "execution_count": 35
        }
      ]
    },
    {
      "cell_type": "code",
      "metadata": {
        "id": "rjWlQAjIPIEl",
        "colab": {
          "base_uri": "https://localhost:8080/",
          "height": 415
        },
        "outputId": "93882586-45ad-40e2-f11c-4b58804011c7"
      },
      "source": [
        "drink_dict = {None:0, 'not_at_all': 1, 'reraly':2,\n",
        "              'socially':3,'often':4,'very_often':5 ,\n",
        "              'desperately':6, 'drinks_missing':-1}\n",
        "col_drink_dict = {'col':'drinks','mapping':drink_dict}\n",
        "ord_enc = OrdinalEncoder(mapping = [col_drink_dict])\n",
        "ord_enc.fit_transform(df[col],)"
      ],
      "execution_count": 36,
      "outputs": [
        {
          "output_type": "execute_result",
          "data": {
            "text/html": [
              "<div>\n",
              "<style scoped>\n",
              "    .dataframe tbody tr th:only-of-type {\n",
              "        vertical-align: middle;\n",
              "    }\n",
              "\n",
              "    .dataframe tbody tr th {\n",
              "        vertical-align: top;\n",
              "    }\n",
              "\n",
              "    .dataframe thead th {\n",
              "        text-align: right;\n",
              "    }\n",
              "</style>\n",
              "<table border=\"1\" class=\"dataframe\">\n",
              "  <thead>\n",
              "    <tr style=\"text-align: right;\">\n",
              "      <th></th>\n",
              "      <th>drinks</th>\n",
              "    </tr>\n",
              "  </thead>\n",
              "  <tbody>\n",
              "    <tr>\n",
              "      <th>1</th>\n",
              "      <td>3.0</td>\n",
              "    </tr>\n",
              "    <tr>\n",
              "      <th>4</th>\n",
              "      <td>3.0</td>\n",
              "    </tr>\n",
              "    <tr>\n",
              "      <th>6</th>\n",
              "      <td>3.0</td>\n",
              "    </tr>\n",
              "    <tr>\n",
              "      <th>8</th>\n",
              "      <td>3.0</td>\n",
              "    </tr>\n",
              "    <tr>\n",
              "      <th>10</th>\n",
              "      <td>1.0</td>\n",
              "    </tr>\n",
              "    <tr>\n",
              "      <th>...</th>\n",
              "      <td>...</td>\n",
              "    </tr>\n",
              "    <tr>\n",
              "      <th>59940</th>\n",
              "      <td>3.0</td>\n",
              "    </tr>\n",
              "    <tr>\n",
              "      <th>59943</th>\n",
              "      <td>4.0</td>\n",
              "    </tr>\n",
              "    <tr>\n",
              "      <th>59944</th>\n",
              "      <td>1.0</td>\n",
              "    </tr>\n",
              "    <tr>\n",
              "      <th>59945</th>\n",
              "      <td>3.0</td>\n",
              "    </tr>\n",
              "    <tr>\n",
              "      <th>59946</th>\n",
              "      <td>3.0</td>\n",
              "    </tr>\n",
              "  </tbody>\n",
              "</table>\n",
              "<p>38809 rows × 1 columns</p>\n",
              "</div>"
            ],
            "text/plain": [
              "       drinks\n",
              "1         3.0\n",
              "4         3.0\n",
              "6         3.0\n",
              "8         3.0\n",
              "10        1.0\n",
              "...       ...\n",
              "59940     3.0\n",
              "59943     4.0\n",
              "59944     1.0\n",
              "59945     3.0\n",
              "59946     3.0\n",
              "\n",
              "[38809 rows x 1 columns]"
            ]
          },
          "metadata": {
            "tags": []
          },
          "execution_count": 36
        }
      ]
    },
    {
      "cell_type": "markdown",
      "metadata": {
        "id": "eHZC45GYmrU4"
      },
      "source": [
        "###Feature Hashing"
      ]
    },
    {
      "cell_type": "code",
      "metadata": {
        "id": "ZJept757X3_W"
      },
      "source": [
        "from sklearn.feature_extraction import FeatureHasher"
      ],
      "execution_count": 37,
      "outputs": []
    },
    {
      "cell_type": "code",
      "metadata": {
        "id": "WJ1NIgzHX4CY"
      },
      "source": [
        "col = 'where_town'"
      ],
      "execution_count": 38,
      "outputs": []
    },
    {
      "cell_type": "code",
      "metadata": {
        "id": "4oGoKyENX4FM",
        "colab": {
          "base_uri": "https://localhost:8080/"
        },
        "outputId": "24f8b1cd-75ef-428c-b53c-eab10f6339ee"
      },
      "source": [
        "df[col].describe()"
      ],
      "execution_count": 39,
      "outputs": [
        {
          "output_type": "execute_result",
          "data": {
            "text/plain": [
              "count             38809\n",
              "unique               51\n",
              "top       san_francisco\n",
              "freq              20028\n",
              "Name: where_town, dtype: object"
            ]
          },
          "metadata": {
            "tags": []
          },
          "execution_count": 39
        }
      ]
    },
    {
      "cell_type": "code",
      "metadata": {
        "id": "kO56_q6bX4IR"
      },
      "source": [
        "hash_enc = FeatureHasher(n_features=8, input_type='string')"
      ],
      "execution_count": 40,
      "outputs": []
    },
    {
      "cell_type": "code",
      "metadata": {
        "id": "5F0R9bqrX4K1"
      },
      "source": [
        "hashed_features = hash_enc.fit_transform(df[col])"
      ],
      "execution_count": 41,
      "outputs": []
    },
    {
      "cell_type": "code",
      "metadata": {
        "id": "Zq5i86hOX4Nu",
        "colab": {
          "base_uri": "https://localhost:8080/"
        },
        "outputId": "c5e7929f-7a25-4c89-e95f-556f206a4cc2"
      },
      "source": [
        "hashed_features.toarray()"
      ],
      "execution_count": 42,
      "outputs": [
        {
          "output_type": "execute_result",
          "data": {
            "text/plain": [
              "array([[ 1., -1.,  2., ..., -2.,  0., -3.],\n",
              "       [ 0.,  1.,  0., ..., -1.,  1.,  2.],\n",
              "       [ 0., -1.,  2., ..., -1.,  0., -2.],\n",
              "       ...,\n",
              "       [ 1., -1.,  2., ..., -2.,  0., -3.],\n",
              "       [ 0., -1.,  2., ..., -1.,  0., -2.],\n",
              "       [ 0., -1.,  2., ..., -1.,  0., -2.]])"
            ]
          },
          "metadata": {
            "tags": []
          },
          "execution_count": 42
        }
      ]
    },
    {
      "cell_type": "code",
      "metadata": {
        "id": "n1qwGgXqX4Ql"
      },
      "source": [
        "np_hashed = np.array(hashed_features.todense())"
      ],
      "execution_count": 43,
      "outputs": []
    },
    {
      "cell_type": "code",
      "metadata": {
        "id": "FNTtsiHoX4TZ",
        "colab": {
          "base_uri": "https://localhost:8080/"
        },
        "outputId": "62e58c49-335f-43af-dff4-96558adceba0"
      },
      "source": [
        "np.unique(np_hashed, axis=0)"
      ],
      "execution_count": 44,
      "outputs": [
        {
          "output_type": "execute_result",
          "data": {
            "text/plain": [
              "array([[ 0., -2.,  2.,  1.,  0., -2., -1.,  0.],\n",
              "       [ 0., -1.,  0.,  4.,  0., -1.,  1.,  1.],\n",
              "       [ 0., -1.,  1.,  0., -1., -3.,  0.,  1.],\n",
              "       [ 0., -1.,  1.,  1.,  1., -1.,  2.,  0.],\n",
              "       [ 0., -1.,  2.,  3., -2., -1.,  0., -2.],\n",
              "       [ 0.,  0.,  0.,  0.,  1., -1.,  0.,  1.],\n",
              "       [ 0.,  0.,  0.,  1.,  0., -1., -1.,  1.],\n",
              "       [ 0.,  0.,  0.,  2.,  0., -2.,  0.,  0.],\n",
              "       [ 0.,  0.,  1., -1.,  0., -1.,  0.,  1.],\n",
              "       [ 0.,  0.,  1.,  0., -1.,  0.,  0.,  0.],\n",
              "       [ 0.,  0.,  1.,  0.,  2.,  0.,  0.,  0.],\n",
              "       [ 0.,  0.,  1.,  0.,  5., -1.,  1.,  1.],\n",
              "       [ 0.,  0.,  1.,  3., -1.,  0.,  0.,  0.],\n",
              "       [ 0.,  0.,  2., -1.,  1.,  0.,  1.,  2.],\n",
              "       [ 0.,  0.,  2.,  0.,  0., -1.,  1.,  0.],\n",
              "       [ 0.,  0.,  2.,  0.,  2., -2., -1.,  0.],\n",
              "       [ 0.,  0.,  2.,  0.,  2.,  0.,  1.,  0.],\n",
              "       [ 0.,  0.,  2.,  1.,  0., -1.,  1.,  0.],\n",
              "       [ 0.,  0.,  2.,  1.,  0.,  0.,  0.,  0.],\n",
              "       [ 0.,  0.,  2.,  2.,  0., -1., -1., -1.],\n",
              "       [ 0.,  0.,  2.,  2.,  0.,  0.,  0., -2.],\n",
              "       [ 0.,  0.,  2.,  2.,  0.,  0.,  0., -1.],\n",
              "       [ 0.,  0.,  2.,  2.,  2.,  0., -1.,  0.],\n",
              "       [ 0.,  0.,  2.,  5.,  1., -2.,  1.,  0.],\n",
              "       [ 0.,  0.,  3.,  1.,  2.,  0.,  0.,  1.],\n",
              "       [ 0.,  1.,  0., -1.,  3., -1.,  1.,  3.],\n",
              "       [ 0.,  1.,  0.,  0.,  0., -1.,  0.,  1.],\n",
              "       [ 0.,  1.,  0.,  0.,  1., -1.,  1.,  2.],\n",
              "       [ 0.,  1.,  0.,  1.,  0.,  0.,  0.,  1.],\n",
              "       [ 0.,  1.,  0.,  1.,  1., -1.,  0.,  2.],\n",
              "       [ 0.,  1.,  1.,  0.,  3., -2.,  0.,  1.],\n",
              "       [ 0.,  1.,  1.,  1.,  0., -1.,  0.,  1.],\n",
              "       [ 0.,  1.,  1.,  1.,  1.,  0.,  0.,  0.],\n",
              "       [ 0.,  1.,  1.,  2., -1., -1.,  0.,  0.],\n",
              "       [ 0.,  1.,  1.,  2., -1.,  0.,  0., -1.],\n",
              "       [ 0.,  1.,  1.,  2.,  1.,  0., -1.,  0.],\n",
              "       [ 0.,  1.,  2.,  2.,  1.,  0.,  0.,  2.],\n",
              "       [ 0.,  1.,  2.,  3., -1.,  0.,  0.,  0.],\n",
              "       [ 0.,  1.,  2.,  3.,  0., -1.,  0.,  0.],\n",
              "       [ 0.,  1.,  3.,  2.,  0.,  0.,  0.,  0.],\n",
              "       [ 0.,  2.,  0.,  1., -1., -1.,  0.,  3.],\n",
              "       [ 1., -1.,  1.,  0., -1., -2.,  0.,  1.],\n",
              "       [ 1., -1.,  1.,  0.,  0.,  0.,  0.,  1.],\n",
              "       [ 1., -1.,  2.,  4., -2., -2.,  0., -3.],\n",
              "       [ 1.,  0.,  0.,  0.,  1., -1.,  0.,  1.],\n",
              "       [ 1.,  0.,  2.,  0.,  1., -1.,  0., -2.],\n",
              "       [ 1.,  1.,  0.,  0.,  1., -2.,  0.,  1.],\n",
              "       [ 1.,  1.,  1.,  2., -2., -1.,  0., -1.],\n",
              "       [ 1.,  2.,  0.,  1.,  0., -3.,  0.,  4.],\n",
              "       [ 1.,  2.,  1.,  0.,  1.,  0., -1., -2.]])"
            ]
          },
          "metadata": {
            "tags": []
          },
          "execution_count": 44
        }
      ]
    },
    {
      "cell_type": "code",
      "metadata": {
        "id": "PQ-EyheAX4WZ",
        "colab": {
          "base_uri": "https://localhost:8080/"
        },
        "outputId": "b98d6e78-2452-47c0-a610-56e5b8bd4961"
      },
      "source": [
        "np.unique(np_hashed,axis=0).shape"
      ],
      "execution_count": 45,
      "outputs": [
        {
          "output_type": "execute_result",
          "data": {
            "text/plain": [
              "(50, 8)"
            ]
          },
          "metadata": {
            "tags": []
          },
          "execution_count": 45
        }
      ]
    },
    {
      "cell_type": "code",
      "metadata": {
        "id": "APeruSBPX4ZU"
      },
      "source": [
        "from sys import getsizeof"
      ],
      "execution_count": 46,
      "outputs": []
    },
    {
      "cell_type": "code",
      "metadata": {
        "id": "xfBoCLlNX4qx",
        "colab": {
          "base_uri": "https://localhost:8080/"
        },
        "outputId": "8ee6a013-5c55-4b8c-ed1f-963ef911bdd1"
      },
      "source": [
        "print('Our pandas Series, in bytes: ', getsizeof(df[col]))\n",
        "print('Our hashed numpy array, in bytes: ', getsizeof(hashed_features))"
      ],
      "execution_count": 47,
      "outputs": [
        {
          "output_type": "stream",
          "text": [
            "Our pandas Series, in bytes:  2944494\n",
            "Our hashed numpy array, in bytes:  64\n"
          ],
          "name": "stdout"
        }
      ]
    },
    {
      "cell_type": "markdown",
      "metadata": {
        "id": "XwPydEygVR9-"
      },
      "source": [
        "## Contrast Encoders"
      ]
    },
    {
      "cell_type": "markdown",
      "metadata": {
        "id": "_DT_jGMCXvnz"
      },
      "source": [
        "### Diferencia entre One-hot Encoding y Dummy Coding"
      ]
    },
    {
      "cell_type": "code",
      "metadata": {
        "id": "Ak7cow2KX6kT"
      },
      "source": [
        ""
      ],
      "execution_count": 47,
      "outputs": []
    },
    {
      "cell_type": "code",
      "metadata": {
        "id": "92GslRUUX6no"
      },
      "source": [
        ""
      ],
      "execution_count": 47,
      "outputs": []
    },
    {
      "cell_type": "code",
      "metadata": {
        "id": "GTGYs3y2X6rB"
      },
      "source": [
        ""
      ],
      "execution_count": 47,
      "outputs": []
    },
    {
      "cell_type": "code",
      "metadata": {
        "id": "fUINT8B9X6t4"
      },
      "source": [
        ""
      ],
      "execution_count": 47,
      "outputs": []
    },
    {
      "cell_type": "code",
      "metadata": {
        "id": "FzFd2g_jX6wz"
      },
      "source": [
        ""
      ],
      "execution_count": 47,
      "outputs": []
    },
    {
      "cell_type": "code",
      "metadata": {
        "id": "rpzIDs9rX606"
      },
      "source": [
        ""
      ],
      "execution_count": 47,
      "outputs": []
    },
    {
      "cell_type": "markdown",
      "metadata": {
        "id": "1XGeyZCA5Myt"
      },
      "source": [
        "Con la codificación one-hot, el término de intersección (intercepto) representa la media global de la variable objetivo: 'Renta', y cada uno de los coeficientes lineales representa que tanto difiere la renta media de esa ciudad respecto a la media global."
      ]
    },
    {
      "cell_type": "code",
      "metadata": {
        "id": "AVuLyQg9X8ff"
      },
      "source": [
        ""
      ],
      "execution_count": 47,
      "outputs": []
    },
    {
      "cell_type": "code",
      "metadata": {
        "id": "jY6LNAeQX8i-"
      },
      "source": [
        ""
      ],
      "execution_count": 47,
      "outputs": []
    },
    {
      "cell_type": "code",
      "metadata": {
        "id": "jt4pVtw1X8nx"
      },
      "source": [
        ""
      ],
      "execution_count": 47,
      "outputs": []
    },
    {
      "cell_type": "code",
      "metadata": {
        "id": "1gJJr9V0X8zF"
      },
      "source": [
        ""
      ],
      "execution_count": 47,
      "outputs": []
    },
    {
      "cell_type": "markdown",
      "metadata": {
        "id": "J8VZzozBn8B7"
      },
      "source": [
        "Ahora entrenemos el mismo modelo con dummy coding"
      ]
    },
    {
      "cell_type": "code",
      "metadata": {
        "id": "HK4yOactX965"
      },
      "source": [
        ""
      ],
      "execution_count": 47,
      "outputs": []
    },
    {
      "cell_type": "code",
      "metadata": {
        "id": "NGvgyHzaX9-j"
      },
      "source": [
        ""
      ],
      "execution_count": 47,
      "outputs": []
    },
    {
      "cell_type": "markdown",
      "metadata": {
        "id": "T4VIrXhe5rTm"
      },
      "source": [
        "Con codificación dummy, el coeficiente de sesgo (intercepto) representa el valor medio de la variable $y$ para la categoría de referencia, que en el ejemplo es la ciudad NYC. El coeficiente para la *i*-ésima característica es igual a la diferencia entre el valor medio de la respuesta para la i-ésima categoría y la media de la categoría de referencia."
      ]
    },
    {
      "cell_type": "code",
      "metadata": {
        "id": "Wp5OPxyLX_BT"
      },
      "source": [
        ""
      ],
      "execution_count": 47,
      "outputs": []
    },
    {
      "cell_type": "code",
      "metadata": {
        "id": "KmxnKmEgX_EZ"
      },
      "source": [
        ""
      ],
      "execution_count": 47,
      "outputs": []
    },
    {
      "cell_type": "markdown",
      "metadata": {
        "id": "m8NekVw3VWPz"
      },
      "source": [
        "### Dummy Coding"
      ]
    },
    {
      "cell_type": "code",
      "metadata": {
        "id": "CCP5QaaIYCVd"
      },
      "source": [
        "col = 'drinks'"
      ],
      "execution_count": 48,
      "outputs": []
    },
    {
      "cell_type": "code",
      "metadata": {
        "id": "wfEB1dHHYCZC"
      },
      "source": [
        "from sklearn.preprocessing import OneHotEncoder as OneHotEncoder_sk "
      ],
      "execution_count": 49,
      "outputs": []
    },
    {
      "cell_type": "code",
      "metadata": {
        "id": "1O7jg8AOYCcQ"
      },
      "source": [
        "dummy_enc = OneHotEncoder_sk(drop='first',sparse=False)"
      ],
      "execution_count": 50,
      "outputs": []
    },
    {
      "cell_type": "code",
      "metadata": {
        "id": "ZIH6sQtOYCfu",
        "outputId": "1be329bd-8ffc-436b-d436-1aecbd63aadf",
        "colab": {
          "base_uri": "https://localhost:8080/"
        }
      },
      "source": [
        "dummy_enc.fit_transform(df[[col]])"
      ],
      "execution_count": 51,
      "outputs": [
        {
          "output_type": "execute_result",
          "data": {
            "text/plain": [
              "array([[0., 0., 0., 0., 1., 0.],\n",
              "       [0., 0., 0., 0., 1., 0.],\n",
              "       [0., 0., 0., 0., 1., 0.],\n",
              "       ...,\n",
              "       [0., 1., 0., 0., 0., 0.],\n",
              "       [0., 0., 0., 0., 1., 0.],\n",
              "       [0., 0., 0., 0., 1., 0.]])"
            ]
          },
          "metadata": {
            "tags": []
          },
          "execution_count": 51
        }
      ]
    },
    {
      "cell_type": "code",
      "metadata": {
        "id": "qGTZSJ96YCi4",
        "outputId": "cfe22196-764c-4280-ff1c-b10d68cef669",
        "colab": {
          "base_uri": "https://localhost:8080/"
        }
      },
      "source": [
        "dummy_enc.categories_"
      ],
      "execution_count": 52,
      "outputs": [
        {
          "output_type": "execute_result",
          "data": {
            "text/plain": [
              "[array(['desperately', 'drinks_missing', 'not_at_all', 'often', 'rarely',\n",
              "        'socially', 'very_often'], dtype=object)]"
            ]
          },
          "metadata": {
            "tags": []
          },
          "execution_count": 52
        }
      ]
    },
    {
      "cell_type": "code",
      "metadata": {
        "id": "-P99Y0DwYCmU",
        "outputId": "9a742521-55ad-4e87-88d0-edbbdbdf264e",
        "colab": {
          "base_uri": "https://localhost:8080/",
          "height": 202
        }
      },
      "source": [
        "dummy_df2 = pd.get_dummies(df[col], prefix='dr', drop_first=True)\n",
        "dummy_df2.head()"
      ],
      "execution_count": 54,
      "outputs": [
        {
          "output_type": "execute_result",
          "data": {
            "text/html": [
              "<div>\n",
              "<style scoped>\n",
              "    .dataframe tbody tr th:only-of-type {\n",
              "        vertical-align: middle;\n",
              "    }\n",
              "\n",
              "    .dataframe tbody tr th {\n",
              "        vertical-align: top;\n",
              "    }\n",
              "\n",
              "    .dataframe thead th {\n",
              "        text-align: right;\n",
              "    }\n",
              "</style>\n",
              "<table border=\"1\" class=\"dataframe\">\n",
              "  <thead>\n",
              "    <tr style=\"text-align: right;\">\n",
              "      <th></th>\n",
              "      <th>dr_drinks_missing</th>\n",
              "      <th>dr_not_at_all</th>\n",
              "      <th>dr_often</th>\n",
              "      <th>dr_rarely</th>\n",
              "      <th>dr_socially</th>\n",
              "      <th>dr_very_often</th>\n",
              "    </tr>\n",
              "  </thead>\n",
              "  <tbody>\n",
              "    <tr>\n",
              "      <th>1</th>\n",
              "      <td>0</td>\n",
              "      <td>0</td>\n",
              "      <td>0</td>\n",
              "      <td>0</td>\n",
              "      <td>1</td>\n",
              "      <td>0</td>\n",
              "    </tr>\n",
              "    <tr>\n",
              "      <th>4</th>\n",
              "      <td>0</td>\n",
              "      <td>0</td>\n",
              "      <td>0</td>\n",
              "      <td>0</td>\n",
              "      <td>1</td>\n",
              "      <td>0</td>\n",
              "    </tr>\n",
              "    <tr>\n",
              "      <th>6</th>\n",
              "      <td>0</td>\n",
              "      <td>0</td>\n",
              "      <td>0</td>\n",
              "      <td>0</td>\n",
              "      <td>1</td>\n",
              "      <td>0</td>\n",
              "    </tr>\n",
              "    <tr>\n",
              "      <th>8</th>\n",
              "      <td>0</td>\n",
              "      <td>0</td>\n",
              "      <td>0</td>\n",
              "      <td>0</td>\n",
              "      <td>1</td>\n",
              "      <td>0</td>\n",
              "    </tr>\n",
              "    <tr>\n",
              "      <th>10</th>\n",
              "      <td>0</td>\n",
              "      <td>1</td>\n",
              "      <td>0</td>\n",
              "      <td>0</td>\n",
              "      <td>0</td>\n",
              "      <td>0</td>\n",
              "    </tr>\n",
              "  </tbody>\n",
              "</table>\n",
              "</div>"
            ],
            "text/plain": [
              "    dr_drinks_missing  dr_not_at_all  ...  dr_socially  dr_very_often\n",
              "1                   0              0  ...            1              0\n",
              "4                   0              0  ...            1              0\n",
              "6                   0              0  ...            1              0\n",
              "8                   0              0  ...            1              0\n",
              "10                  0              1  ...            0              0\n",
              "\n",
              "[5 rows x 6 columns]"
            ]
          },
          "metadata": {
            "tags": []
          },
          "execution_count": 54
        }
      ]
    },
    {
      "cell_type": "code",
      "metadata": {
        "id": "GUx89EN9YCpd",
        "outputId": "ab636970-f5fa-42f2-b2b9-c14aca23e87f",
        "colab": {
          "base_uri": "https://localhost:8080/",
          "height": 263
        }
      },
      "source": [
        "dummy_df2.drop_duplicates()"
      ],
      "execution_count": 55,
      "outputs": [
        {
          "output_type": "execute_result",
          "data": {
            "text/html": [
              "<div>\n",
              "<style scoped>\n",
              "    .dataframe tbody tr th:only-of-type {\n",
              "        vertical-align: middle;\n",
              "    }\n",
              "\n",
              "    .dataframe tbody tr th {\n",
              "        vertical-align: top;\n",
              "    }\n",
              "\n",
              "    .dataframe thead th {\n",
              "        text-align: right;\n",
              "    }\n",
              "</style>\n",
              "<table border=\"1\" class=\"dataframe\">\n",
              "  <thead>\n",
              "    <tr style=\"text-align: right;\">\n",
              "      <th></th>\n",
              "      <th>dr_drinks_missing</th>\n",
              "      <th>dr_not_at_all</th>\n",
              "      <th>dr_often</th>\n",
              "      <th>dr_rarely</th>\n",
              "      <th>dr_socially</th>\n",
              "      <th>dr_very_often</th>\n",
              "    </tr>\n",
              "  </thead>\n",
              "  <tbody>\n",
              "    <tr>\n",
              "      <th>1</th>\n",
              "      <td>0</td>\n",
              "      <td>0</td>\n",
              "      <td>0</td>\n",
              "      <td>0</td>\n",
              "      <td>1</td>\n",
              "      <td>0</td>\n",
              "    </tr>\n",
              "    <tr>\n",
              "      <th>10</th>\n",
              "      <td>0</td>\n",
              "      <td>1</td>\n",
              "      <td>0</td>\n",
              "      <td>0</td>\n",
              "      <td>0</td>\n",
              "      <td>0</td>\n",
              "    </tr>\n",
              "    <tr>\n",
              "      <th>19</th>\n",
              "      <td>0</td>\n",
              "      <td>0</td>\n",
              "      <td>0</td>\n",
              "      <td>1</td>\n",
              "      <td>0</td>\n",
              "      <td>0</td>\n",
              "    </tr>\n",
              "    <tr>\n",
              "      <th>41</th>\n",
              "      <td>0</td>\n",
              "      <td>0</td>\n",
              "      <td>1</td>\n",
              "      <td>0</td>\n",
              "      <td>0</td>\n",
              "      <td>0</td>\n",
              "    </tr>\n",
              "    <tr>\n",
              "      <th>93</th>\n",
              "      <td>1</td>\n",
              "      <td>0</td>\n",
              "      <td>0</td>\n",
              "      <td>0</td>\n",
              "      <td>0</td>\n",
              "      <td>0</td>\n",
              "    </tr>\n",
              "    <tr>\n",
              "      <th>97</th>\n",
              "      <td>0</td>\n",
              "      <td>0</td>\n",
              "      <td>0</td>\n",
              "      <td>0</td>\n",
              "      <td>0</td>\n",
              "      <td>1</td>\n",
              "    </tr>\n",
              "    <tr>\n",
              "      <th>549</th>\n",
              "      <td>0</td>\n",
              "      <td>0</td>\n",
              "      <td>0</td>\n",
              "      <td>0</td>\n",
              "      <td>0</td>\n",
              "      <td>0</td>\n",
              "    </tr>\n",
              "  </tbody>\n",
              "</table>\n",
              "</div>"
            ],
            "text/plain": [
              "     dr_drinks_missing  dr_not_at_all  ...  dr_socially  dr_very_often\n",
              "1                    0              0  ...            1              0\n",
              "10                   0              1  ...            0              0\n",
              "19                   0              0  ...            0              0\n",
              "41                   0              0  ...            0              0\n",
              "93                   1              0  ...            0              0\n",
              "97                   0              0  ...            0              1\n",
              "549                  0              0  ...            0              0\n",
              "\n",
              "[7 rows x 6 columns]"
            ]
          },
          "metadata": {
            "tags": []
          },
          "execution_count": 55
        }
      ]
    },
    {
      "cell_type": "markdown",
      "metadata": {
        "id": "P8YzBWlcVZBk"
      },
      "source": [
        "\n",
        "### Sum (or Deviation) Coding"
      ]
    },
    {
      "cell_type": "code",
      "metadata": {
        "id": "XFWzHjnDYD2k"
      },
      "source": [
        "from category_encoders import SumEncoder"
      ],
      "execution_count": 57,
      "outputs": []
    },
    {
      "cell_type": "code",
      "metadata": {
        "id": "-42qwcNzYD6T"
      },
      "source": [
        "sum_enc = SumEncoder()"
      ],
      "execution_count": 58,
      "outputs": []
    },
    {
      "cell_type": "code",
      "metadata": {
        "id": "M81BjV0sYD-b",
        "outputId": "9e4c510e-3b10-44c8-c5c7-3071d2e1b0e1",
        "colab": {
          "base_uri": "https://localhost:8080/",
          "height": 166
        }
      },
      "source": [
        "sum_enc.mapping[0]['mapping']"
      ],
      "execution_count": 59,
      "outputs": [
        {
          "output_type": "error",
          "ename": "TypeError",
          "evalue": "ignored",
          "traceback": [
            "\u001b[0;31m---------------------------------------------------------------------------\u001b[0m",
            "\u001b[0;31mTypeError\u001b[0m                                 Traceback (most recent call last)",
            "\u001b[0;32m<ipython-input-59-9e00d6f8de53>\u001b[0m in \u001b[0;36m<module>\u001b[0;34m()\u001b[0m\n\u001b[0;32m----> 1\u001b[0;31m \u001b[0msum_enc\u001b[0m\u001b[0;34m.\u001b[0m\u001b[0mmapping\u001b[0m\u001b[0;34m[\u001b[0m\u001b[0;36m0\u001b[0m\u001b[0;34m]\u001b[0m\u001b[0;34m[\u001b[0m\u001b[0;34m'mapping'\u001b[0m\u001b[0;34m]\u001b[0m\u001b[0;34m\u001b[0m\u001b[0;34m\u001b[0m\u001b[0m\n\u001b[0m",
            "\u001b[0;31mTypeError\u001b[0m: 'NoneType' object is not subscriptable"
          ]
        }
      ]
    },
    {
      "cell_type": "code",
      "metadata": {
        "id": "vp27h1sVYECp"
      },
      "source": [
        ""
      ],
      "execution_count": 51,
      "outputs": []
    },
    {
      "cell_type": "markdown",
      "metadata": {
        "id": "hm-iIERMpG-N"
      },
      "source": [
        "Utilizando el ejemplo de prueba"
      ]
    },
    {
      "cell_type": "code",
      "metadata": {
        "id": "RAlF244-YFiH"
      },
      "source": [
        "sum_enc = SumEncoder()\n",
        "sum_df = sum_enc.fit_transform(df_test['City'])"
      ],
      "execution_count": 51,
      "outputs": []
    },
    {
      "cell_type": "code",
      "metadata": {
        "id": "gOCOGCnIYFmQ"
      },
      "source": [
        ""
      ],
      "execution_count": 51,
      "outputs": []
    },
    {
      "cell_type": "code",
      "metadata": {
        "id": "WWlZl1ZZYFrA"
      },
      "source": [
        ""
      ],
      "execution_count": 51,
      "outputs": []
    },
    {
      "cell_type": "code",
      "metadata": {
        "id": "NmQrkZ0VYFvC"
      },
      "source": [
        "sum_df"
      ],
      "execution_count": 51,
      "outputs": []
    },
    {
      "cell_type": "code",
      "metadata": {
        "id": "iLwV3xzEYFyG"
      },
      "source": [
        "model = linear_model.LienarRegression()\n",
        "model.fit(sum_df[['City_0','C']])\n"
      ],
      "execution_count": 51,
      "outputs": []
    },
    {
      "cell_type": "markdown",
      "metadata": {
        "id": "GRFxGFIG7r5q"
      },
      "source": [
        "La codificación de efectos (sum coding) es muy similar a la codificación dummy, pero da como resultado modelos de regresión lineal que son aún más simples de interpretar.\n",
        "\n",
        "En el ejemplo, vemos que el término de intersección representa la media global del la variable respuesta, y los coeficientes individuales indican cuánto las medias de las categorías individuales difieren de la media global. (Esto se llama el efecto principal de la categoría o nivel, de ahí el nombre \"codificación de efectos\").\n",
        "\n",
        "La codificación One-hot, encontró la misma intersección y coeficientes, pero en ese caso hay coeficientes lineales para cada ciudad. En la codificación de efecto, ningun feature representa la categoría de referencia, ***por lo que el efecto de la categoría de referencia debe calcularse por separado como la suma negativa de los coeficientes de todas las demás categorías.***"
      ]
    },
    {
      "cell_type": "code",
      "metadata": {
        "id": "iD55sBBjYG_1",
        "outputId": "a0eb3815-3844-4972-91e3-d3367840c0f5",
        "colab": {
          "base_uri": "https://localhost:8080/",
          "height": 201
        }
      },
      "source": [
        "print(f'Coefficients: {model.coef_}')\n",
        "print(f'Intercept: {model.intercept_}')\n",
        "print(f'Negative sum of coaefficients:{np.sum(model.coef_*-1)}')\n"
      ],
      "execution_count": 60,
      "outputs": [
        {
          "output_type": "error",
          "ename": "NameError",
          "evalue": "ignored",
          "traceback": [
            "\u001b[0;31m---------------------------------------------------------------------------\u001b[0m",
            "\u001b[0;31mNameError\u001b[0m                                 Traceback (most recent call last)",
            "\u001b[0;32m<ipython-input-60-1e2b640247f9>\u001b[0m in \u001b[0;36m<module>\u001b[0;34m()\u001b[0m\n\u001b[0;32m----> 1\u001b[0;31m \u001b[0mprint\u001b[0m\u001b[0;34m(\u001b[0m\u001b[0;34mf'Coefficients: {model.coef_}'\u001b[0m\u001b[0;34m)\u001b[0m\u001b[0;34m\u001b[0m\u001b[0;34m\u001b[0m\u001b[0m\n\u001b[0m\u001b[1;32m      2\u001b[0m \u001b[0mprint\u001b[0m\u001b[0;34m(\u001b[0m\u001b[0;34mf'Intercept: {model.intercept_}'\u001b[0m\u001b[0;34m)\u001b[0m\u001b[0;34m\u001b[0m\u001b[0;34m\u001b[0m\u001b[0m\n\u001b[1;32m      3\u001b[0m \u001b[0mprint\u001b[0m\u001b[0;34m(\u001b[0m\u001b[0;34mf'Negative sum of coaefficients:{np.sum(model.coef_*-1)}'\u001b[0m\u001b[0;34m)\u001b[0m\u001b[0;34m\u001b[0m\u001b[0;34m\u001b[0m\u001b[0m\n",
            "\u001b[0;31mNameError\u001b[0m: name 'model' is not defined"
          ]
        }
      ]
    },
    {
      "cell_type": "code",
      "metadata": {
        "id": "NKay_oI0YHCs"
      },
      "source": [
        "print('Global mean: ', df_test['Rent'].mean())\n",
        "print(df_test.groupby('City').mean())"
      ],
      "execution_count": 51,
      "outputs": []
    },
    {
      "cell_type": "markdown",
      "metadata": {
        "id": "0Qj1FCbp8y2Q"
      },
      "source": [
        "Restulados de la regresión lineal con One-hot encoding\n",
        "\n",
        "Coefficients: $[ 166.66666667,   666.66666667,  -833.33333333]$\n",
        "\n",
        "Intercept: $3333.3333333333335$"
      ]
    },
    {
      "cell_type": "code",
      "metadata": {
        "id": "al0_HBdgYILL"
      },
      "source": [
        ""
      ],
      "execution_count": 51,
      "outputs": []
    },
    {
      "cell_type": "code",
      "metadata": {
        "id": "LExuuk-_YIP5"
      },
      "source": [
        ""
      ],
      "execution_count": 51,
      "outputs": []
    },
    {
      "cell_type": "code",
      "metadata": {
        "id": "uyBCc0zlYIen"
      },
      "source": [
        ""
      ],
      "execution_count": 51,
      "outputs": []
    },
    {
      "cell_type": "markdown",
      "metadata": {
        "id": "bVlwfMfRVbvf"
      },
      "source": [
        "### Backward Difference Coding"
      ]
    },
    {
      "cell_type": "code",
      "metadata": {
        "id": "QqYKpEowYJ-q"
      },
      "source": [
        "from category_encoders import BackwardDifferenceEncoder"
      ],
      "execution_count": 61,
      "outputs": []
    },
    {
      "cell_type": "code",
      "metadata": {
        "id": "3ePLmHhCYKFJ"
      },
      "source": [
        "back_diff_enc = BackwardDifferenceEncoder()"
      ],
      "execution_count": 63,
      "outputs": []
    },
    {
      "cell_type": "code",
      "metadata": {
        "id": "fj3PVpnwYKKb",
        "outputId": "b6ead13a-7aba-4b42-dabb-901a2366ba2f",
        "colab": {
          "base_uri": "https://localhost:8080/",
          "height": 485
        }
      },
      "source": [
        "back_diff_enc.fit_transform(df[[col]])"
      ],
      "execution_count": 64,
      "outputs": [
        {
          "output_type": "stream",
          "text": [
            "/usr/local/lib/python3.7/dist-packages/category_encoders/utils.py:21: FutureWarning:\n",
            "\n",
            "is_categorical is deprecated and will be removed in a future version.  Use is_categorical_dtype instead\n",
            "\n"
          ],
          "name": "stderr"
        },
        {
          "output_type": "execute_result",
          "data": {
            "text/html": [
              "<div>\n",
              "<style scoped>\n",
              "    .dataframe tbody tr th:only-of-type {\n",
              "        vertical-align: middle;\n",
              "    }\n",
              "\n",
              "    .dataframe tbody tr th {\n",
              "        vertical-align: top;\n",
              "    }\n",
              "\n",
              "    .dataframe thead th {\n",
              "        text-align: right;\n",
              "    }\n",
              "</style>\n",
              "<table border=\"1\" class=\"dataframe\">\n",
              "  <thead>\n",
              "    <tr style=\"text-align: right;\">\n",
              "      <th></th>\n",
              "      <th>intercept</th>\n",
              "      <th>drinks_0</th>\n",
              "      <th>drinks_1</th>\n",
              "      <th>drinks_2</th>\n",
              "      <th>drinks_3</th>\n",
              "      <th>drinks_4</th>\n",
              "      <th>drinks_5</th>\n",
              "    </tr>\n",
              "  </thead>\n",
              "  <tbody>\n",
              "    <tr>\n",
              "      <th>1</th>\n",
              "      <td>1</td>\n",
              "      <td>-0.857143</td>\n",
              "      <td>-0.714286</td>\n",
              "      <td>-0.571429</td>\n",
              "      <td>-0.428571</td>\n",
              "      <td>-0.285714</td>\n",
              "      <td>-0.142857</td>\n",
              "    </tr>\n",
              "    <tr>\n",
              "      <th>4</th>\n",
              "      <td>1</td>\n",
              "      <td>-0.857143</td>\n",
              "      <td>-0.714286</td>\n",
              "      <td>-0.571429</td>\n",
              "      <td>-0.428571</td>\n",
              "      <td>-0.285714</td>\n",
              "      <td>-0.142857</td>\n",
              "    </tr>\n",
              "    <tr>\n",
              "      <th>6</th>\n",
              "      <td>1</td>\n",
              "      <td>-0.857143</td>\n",
              "      <td>-0.714286</td>\n",
              "      <td>-0.571429</td>\n",
              "      <td>-0.428571</td>\n",
              "      <td>-0.285714</td>\n",
              "      <td>-0.142857</td>\n",
              "    </tr>\n",
              "    <tr>\n",
              "      <th>8</th>\n",
              "      <td>1</td>\n",
              "      <td>-0.857143</td>\n",
              "      <td>-0.714286</td>\n",
              "      <td>-0.571429</td>\n",
              "      <td>-0.428571</td>\n",
              "      <td>-0.285714</td>\n",
              "      <td>-0.142857</td>\n",
              "    </tr>\n",
              "    <tr>\n",
              "      <th>10</th>\n",
              "      <td>1</td>\n",
              "      <td>0.142857</td>\n",
              "      <td>-0.714286</td>\n",
              "      <td>-0.571429</td>\n",
              "      <td>-0.428571</td>\n",
              "      <td>-0.285714</td>\n",
              "      <td>-0.142857</td>\n",
              "    </tr>\n",
              "    <tr>\n",
              "      <th>...</th>\n",
              "      <td>...</td>\n",
              "      <td>...</td>\n",
              "      <td>...</td>\n",
              "      <td>...</td>\n",
              "      <td>...</td>\n",
              "      <td>...</td>\n",
              "      <td>...</td>\n",
              "    </tr>\n",
              "    <tr>\n",
              "      <th>59940</th>\n",
              "      <td>1</td>\n",
              "      <td>-0.857143</td>\n",
              "      <td>-0.714286</td>\n",
              "      <td>-0.571429</td>\n",
              "      <td>-0.428571</td>\n",
              "      <td>-0.285714</td>\n",
              "      <td>-0.142857</td>\n",
              "    </tr>\n",
              "    <tr>\n",
              "      <th>59943</th>\n",
              "      <td>1</td>\n",
              "      <td>0.142857</td>\n",
              "      <td>0.285714</td>\n",
              "      <td>0.428571</td>\n",
              "      <td>-0.428571</td>\n",
              "      <td>-0.285714</td>\n",
              "      <td>-0.142857</td>\n",
              "    </tr>\n",
              "    <tr>\n",
              "      <th>59944</th>\n",
              "      <td>1</td>\n",
              "      <td>0.142857</td>\n",
              "      <td>-0.714286</td>\n",
              "      <td>-0.571429</td>\n",
              "      <td>-0.428571</td>\n",
              "      <td>-0.285714</td>\n",
              "      <td>-0.142857</td>\n",
              "    </tr>\n",
              "    <tr>\n",
              "      <th>59945</th>\n",
              "      <td>1</td>\n",
              "      <td>-0.857143</td>\n",
              "      <td>-0.714286</td>\n",
              "      <td>-0.571429</td>\n",
              "      <td>-0.428571</td>\n",
              "      <td>-0.285714</td>\n",
              "      <td>-0.142857</td>\n",
              "    </tr>\n",
              "    <tr>\n",
              "      <th>59946</th>\n",
              "      <td>1</td>\n",
              "      <td>-0.857143</td>\n",
              "      <td>-0.714286</td>\n",
              "      <td>-0.571429</td>\n",
              "      <td>-0.428571</td>\n",
              "      <td>-0.285714</td>\n",
              "      <td>-0.142857</td>\n",
              "    </tr>\n",
              "  </tbody>\n",
              "</table>\n",
              "<p>38809 rows × 7 columns</p>\n",
              "</div>"
            ],
            "text/plain": [
              "       intercept  drinks_0  drinks_1  drinks_2  drinks_3  drinks_4  drinks_5\n",
              "1              1 -0.857143 -0.714286 -0.571429 -0.428571 -0.285714 -0.142857\n",
              "4              1 -0.857143 -0.714286 -0.571429 -0.428571 -0.285714 -0.142857\n",
              "6              1 -0.857143 -0.714286 -0.571429 -0.428571 -0.285714 -0.142857\n",
              "8              1 -0.857143 -0.714286 -0.571429 -0.428571 -0.285714 -0.142857\n",
              "10             1  0.142857 -0.714286 -0.571429 -0.428571 -0.285714 -0.142857\n",
              "...          ...       ...       ...       ...       ...       ...       ...\n",
              "59940          1 -0.857143 -0.714286 -0.571429 -0.428571 -0.285714 -0.142857\n",
              "59943          1  0.142857  0.285714  0.428571 -0.428571 -0.285714 -0.142857\n",
              "59944          1  0.142857 -0.714286 -0.571429 -0.428571 -0.285714 -0.142857\n",
              "59945          1 -0.857143 -0.714286 -0.571429 -0.428571 -0.285714 -0.142857\n",
              "59946          1 -0.857143 -0.714286 -0.571429 -0.428571 -0.285714 -0.142857\n",
              "\n",
              "[38809 rows x 7 columns]"
            ]
          },
          "metadata": {
            "tags": []
          },
          "execution_count": 64
        }
      ]
    },
    {
      "cell_type": "code",
      "metadata": {
        "id": "r1j6Pw0DYKOo",
        "outputId": "082f6950-6689-4e89-f2f9-b884d974da02",
        "colab": {
          "base_uri": "https://localhost:8080/",
          "height": 325
        }
      },
      "source": [
        "back_diff_enc.mapping[0]['mapping']"
      ],
      "execution_count": 65,
      "outputs": [
        {
          "output_type": "execute_result",
          "data": {
            "text/html": [
              "<div>\n",
              "<style scoped>\n",
              "    .dataframe tbody tr th:only-of-type {\n",
              "        vertical-align: middle;\n",
              "    }\n",
              "\n",
              "    .dataframe tbody tr th {\n",
              "        vertical-align: top;\n",
              "    }\n",
              "\n",
              "    .dataframe thead th {\n",
              "        text-align: right;\n",
              "    }\n",
              "</style>\n",
              "<table border=\"1\" class=\"dataframe\">\n",
              "  <thead>\n",
              "    <tr style=\"text-align: right;\">\n",
              "      <th></th>\n",
              "      <th>drinks_0</th>\n",
              "      <th>drinks_1</th>\n",
              "      <th>drinks_2</th>\n",
              "      <th>drinks_3</th>\n",
              "      <th>drinks_4</th>\n",
              "      <th>drinks_5</th>\n",
              "    </tr>\n",
              "  </thead>\n",
              "  <tbody>\n",
              "    <tr>\n",
              "      <th>1</th>\n",
              "      <td>-0.857143</td>\n",
              "      <td>-0.714286</td>\n",
              "      <td>-0.571429</td>\n",
              "      <td>-0.428571</td>\n",
              "      <td>-0.285714</td>\n",
              "      <td>-0.142857</td>\n",
              "    </tr>\n",
              "    <tr>\n",
              "      <th>2</th>\n",
              "      <td>0.142857</td>\n",
              "      <td>-0.714286</td>\n",
              "      <td>-0.571429</td>\n",
              "      <td>-0.428571</td>\n",
              "      <td>-0.285714</td>\n",
              "      <td>-0.142857</td>\n",
              "    </tr>\n",
              "    <tr>\n",
              "      <th>3</th>\n",
              "      <td>0.142857</td>\n",
              "      <td>0.285714</td>\n",
              "      <td>-0.571429</td>\n",
              "      <td>-0.428571</td>\n",
              "      <td>-0.285714</td>\n",
              "      <td>-0.142857</td>\n",
              "    </tr>\n",
              "    <tr>\n",
              "      <th>4</th>\n",
              "      <td>0.142857</td>\n",
              "      <td>0.285714</td>\n",
              "      <td>0.428571</td>\n",
              "      <td>-0.428571</td>\n",
              "      <td>-0.285714</td>\n",
              "      <td>-0.142857</td>\n",
              "    </tr>\n",
              "    <tr>\n",
              "      <th>5</th>\n",
              "      <td>0.142857</td>\n",
              "      <td>0.285714</td>\n",
              "      <td>0.428571</td>\n",
              "      <td>0.571429</td>\n",
              "      <td>-0.285714</td>\n",
              "      <td>-0.142857</td>\n",
              "    </tr>\n",
              "    <tr>\n",
              "      <th>6</th>\n",
              "      <td>0.142857</td>\n",
              "      <td>0.285714</td>\n",
              "      <td>0.428571</td>\n",
              "      <td>0.571429</td>\n",
              "      <td>0.714286</td>\n",
              "      <td>-0.142857</td>\n",
              "    </tr>\n",
              "    <tr>\n",
              "      <th>7</th>\n",
              "      <td>0.142857</td>\n",
              "      <td>0.285714</td>\n",
              "      <td>0.428571</td>\n",
              "      <td>0.571429</td>\n",
              "      <td>0.714286</td>\n",
              "      <td>0.857143</td>\n",
              "    </tr>\n",
              "    <tr>\n",
              "      <th>-1</th>\n",
              "      <td>0.000000</td>\n",
              "      <td>0.000000</td>\n",
              "      <td>0.000000</td>\n",
              "      <td>0.000000</td>\n",
              "      <td>0.000000</td>\n",
              "      <td>0.000000</td>\n",
              "    </tr>\n",
              "    <tr>\n",
              "      <th>-2</th>\n",
              "      <td>0.000000</td>\n",
              "      <td>0.000000</td>\n",
              "      <td>0.000000</td>\n",
              "      <td>0.000000</td>\n",
              "      <td>0.000000</td>\n",
              "      <td>0.000000</td>\n",
              "    </tr>\n",
              "  </tbody>\n",
              "</table>\n",
              "</div>"
            ],
            "text/plain": [
              "    drinks_0  drinks_1  drinks_2  drinks_3  drinks_4  drinks_5\n",
              " 1 -0.857143 -0.714286 -0.571429 -0.428571 -0.285714 -0.142857\n",
              " 2  0.142857 -0.714286 -0.571429 -0.428571 -0.285714 -0.142857\n",
              " 3  0.142857  0.285714 -0.571429 -0.428571 -0.285714 -0.142857\n",
              " 4  0.142857  0.285714  0.428571 -0.428571 -0.285714 -0.142857\n",
              " 5  0.142857  0.285714  0.428571  0.571429 -0.285714 -0.142857\n",
              " 6  0.142857  0.285714  0.428571  0.571429  0.714286 -0.142857\n",
              " 7  0.142857  0.285714  0.428571  0.571429  0.714286  0.857143\n",
              "-1  0.000000  0.000000  0.000000  0.000000  0.000000  0.000000\n",
              "-2  0.000000  0.000000  0.000000  0.000000  0.000000  0.000000"
            ]
          },
          "metadata": {
            "tags": []
          },
          "execution_count": 65
        }
      ]
    },
    {
      "cell_type": "markdown",
      "metadata": {
        "id": "8u71jwcC_WNl"
      },
      "source": [
        "Utilizando el ejemplo de prueba"
      ]
    },
    {
      "cell_type": "code",
      "metadata": {
        "id": "RBv3d8olYLSH",
        "outputId": "0c35b56c-d875-458c-d2b8-ac6706573834",
        "colab": {
          "base_uri": "https://localhost:8080/",
          "height": 394
        }
      },
      "source": [
        "back_diff_enc = BackwardDifferenceEncoder()\n",
        "back_diff_df = back_diff_enc.fit_transform(df_test['City'])\n",
        "back_diff_df['Rent'] = df_test['Rent']\n",
        "back_diff_df\n"
      ],
      "execution_count": 66,
      "outputs": [
        {
          "output_type": "stream",
          "text": [
            "/usr/local/lib/python3.7/dist-packages/category_encoders/utils.py:21: FutureWarning:\n",
            "\n",
            "is_categorical is deprecated and will be removed in a future version.  Use is_categorical_dtype instead\n",
            "\n"
          ],
          "name": "stderr"
        },
        {
          "output_type": "execute_result",
          "data": {
            "text/html": [
              "<div>\n",
              "<style scoped>\n",
              "    .dataframe tbody tr th:only-of-type {\n",
              "        vertical-align: middle;\n",
              "    }\n",
              "\n",
              "    .dataframe tbody tr th {\n",
              "        vertical-align: top;\n",
              "    }\n",
              "\n",
              "    .dataframe thead th {\n",
              "        text-align: right;\n",
              "    }\n",
              "</style>\n",
              "<table border=\"1\" class=\"dataframe\">\n",
              "  <thead>\n",
              "    <tr style=\"text-align: right;\">\n",
              "      <th></th>\n",
              "      <th>intercept</th>\n",
              "      <th>City_0</th>\n",
              "      <th>City_1</th>\n",
              "      <th>Rent</th>\n",
              "    </tr>\n",
              "  </thead>\n",
              "  <tbody>\n",
              "    <tr>\n",
              "      <th>0</th>\n",
              "      <td>1</td>\n",
              "      <td>-0.666667</td>\n",
              "      <td>-0.333333</td>\n",
              "      <td>3999</td>\n",
              "    </tr>\n",
              "    <tr>\n",
              "      <th>1</th>\n",
              "      <td>1</td>\n",
              "      <td>-0.666667</td>\n",
              "      <td>-0.333333</td>\n",
              "      <td>4000</td>\n",
              "    </tr>\n",
              "    <tr>\n",
              "      <th>2</th>\n",
              "      <td>1</td>\n",
              "      <td>-0.666667</td>\n",
              "      <td>-0.333333</td>\n",
              "      <td>4001</td>\n",
              "    </tr>\n",
              "    <tr>\n",
              "      <th>3</th>\n",
              "      <td>1</td>\n",
              "      <td>0.333333</td>\n",
              "      <td>-0.333333</td>\n",
              "      <td>3499</td>\n",
              "    </tr>\n",
              "    <tr>\n",
              "      <th>4</th>\n",
              "      <td>1</td>\n",
              "      <td>0.333333</td>\n",
              "      <td>-0.333333</td>\n",
              "      <td>3500</td>\n",
              "    </tr>\n",
              "    <tr>\n",
              "      <th>5</th>\n",
              "      <td>1</td>\n",
              "      <td>0.333333</td>\n",
              "      <td>-0.333333</td>\n",
              "      <td>3501</td>\n",
              "    </tr>\n",
              "    <tr>\n",
              "      <th>6</th>\n",
              "      <td>1</td>\n",
              "      <td>0.333333</td>\n",
              "      <td>0.666667</td>\n",
              "      <td>2499</td>\n",
              "    </tr>\n",
              "    <tr>\n",
              "      <th>7</th>\n",
              "      <td>1</td>\n",
              "      <td>0.333333</td>\n",
              "      <td>0.666667</td>\n",
              "      <td>2500</td>\n",
              "    </tr>\n",
              "    <tr>\n",
              "      <th>8</th>\n",
              "      <td>1</td>\n",
              "      <td>0.333333</td>\n",
              "      <td>0.666667</td>\n",
              "      <td>2501</td>\n",
              "    </tr>\n",
              "  </tbody>\n",
              "</table>\n",
              "</div>"
            ],
            "text/plain": [
              "   intercept    City_0    City_1  Rent\n",
              "0          1 -0.666667 -0.333333  3999\n",
              "1          1 -0.666667 -0.333333  4000\n",
              "2          1 -0.666667 -0.333333  4001\n",
              "3          1  0.333333 -0.333333  3499\n",
              "4          1  0.333333 -0.333333  3500\n",
              "5          1  0.333333 -0.333333  3501\n",
              "6          1  0.333333  0.666667  2499\n",
              "7          1  0.333333  0.666667  2500\n",
              "8          1  0.333333  0.666667  2501"
            ]
          },
          "metadata": {
            "tags": []
          },
          "execution_count": 66
        }
      ]
    },
    {
      "cell_type": "code",
      "metadata": {
        "id": "lUwDFfA0YLWv",
        "outputId": "3586a7aa-0d55-4b23-ed3a-24803fadc8c5",
        "colab": {
          "base_uri": "https://localhost:8080/",
          "height": 202
        }
      },
      "source": [
        "back_diff_enc.mapping[0]['mapping']"
      ],
      "execution_count": 67,
      "outputs": [
        {
          "output_type": "execute_result",
          "data": {
            "text/html": [
              "<div>\n",
              "<style scoped>\n",
              "    .dataframe tbody tr th:only-of-type {\n",
              "        vertical-align: middle;\n",
              "    }\n",
              "\n",
              "    .dataframe tbody tr th {\n",
              "        vertical-align: top;\n",
              "    }\n",
              "\n",
              "    .dataframe thead th {\n",
              "        text-align: right;\n",
              "    }\n",
              "</style>\n",
              "<table border=\"1\" class=\"dataframe\">\n",
              "  <thead>\n",
              "    <tr style=\"text-align: right;\">\n",
              "      <th></th>\n",
              "      <th>City_0</th>\n",
              "      <th>City_1</th>\n",
              "    </tr>\n",
              "  </thead>\n",
              "  <tbody>\n",
              "    <tr>\n",
              "      <th>1</th>\n",
              "      <td>-0.666667</td>\n",
              "      <td>-0.333333</td>\n",
              "    </tr>\n",
              "    <tr>\n",
              "      <th>2</th>\n",
              "      <td>0.333333</td>\n",
              "      <td>-0.333333</td>\n",
              "    </tr>\n",
              "    <tr>\n",
              "      <th>3</th>\n",
              "      <td>0.333333</td>\n",
              "      <td>0.666667</td>\n",
              "    </tr>\n",
              "    <tr>\n",
              "      <th>-1</th>\n",
              "      <td>0.000000</td>\n",
              "      <td>0.000000</td>\n",
              "    </tr>\n",
              "    <tr>\n",
              "      <th>-2</th>\n",
              "      <td>0.000000</td>\n",
              "      <td>0.000000</td>\n",
              "    </tr>\n",
              "  </tbody>\n",
              "</table>\n",
              "</div>"
            ],
            "text/plain": [
              "      City_0    City_1\n",
              " 1 -0.666667 -0.333333\n",
              " 2  0.333333 -0.333333\n",
              " 3  0.333333  0.666667\n",
              "-1  0.000000  0.000000\n",
              "-2  0.000000  0.000000"
            ]
          },
          "metadata": {
            "tags": []
          },
          "execution_count": 67
        }
      ]
    },
    {
      "cell_type": "code",
      "metadata": {
        "id": "AEbeqUB7YLa6",
        "outputId": "9e80c6f7-6fa8-4549-ea3c-9478f4318e62",
        "colab": {
          "base_uri": "https://localhost:8080/"
        }
      },
      "source": [
        "back_diff_enc.ordinal_encoder.category_mapping[0]['mapping']"
      ],
      "execution_count": 70,
      "outputs": [
        {
          "output_type": "execute_result",
          "data": {
            "text/plain": [
              "SF         1\n",
              "NYC        2\n",
              "Seattle    3\n",
              "NaN       -2\n",
              "dtype: int64"
            ]
          },
          "metadata": {
            "tags": []
          },
          "execution_count": 70
        }
      ]
    },
    {
      "cell_type": "code",
      "metadata": {
        "id": "I-CcEK-cYLen",
        "outputId": "2201f785-a087-449a-ab19-31e2d486eb92",
        "colab": {
          "base_uri": "https://localhost:8080/"
        }
      },
      "source": [
        "from sklearn import linear_model\n",
        "model = linear_model.LinearRegression()\n",
        "model.fit(back_diff_df[['City_0','City_1']], back_diff_df['Rent'])"
      ],
      "execution_count": 71,
      "outputs": [
        {
          "output_type": "execute_result",
          "data": {
            "text/plain": [
              "LinearRegression(copy_X=True, fit_intercept=True, n_jobs=None, normalize=False)"
            ]
          },
          "metadata": {
            "tags": []
          },
          "execution_count": 71
        }
      ]
    },
    {
      "cell_type": "markdown",
      "metadata": {
        "id": "aD4F8yuCCruy"
      },
      "source": [
        "La codificación de diferencia en reversa es útil para codificar variables ordinales.\n",
        "\n",
        "En el ejemplo, vemos que el término de intersección representa la media global de la variable respuesta, y los coeficientes individuales indican cuánto las medias de las categorías individuales difieren de la media de la categoría inmediatamente anterior."
      ]
    },
    {
      "cell_type": "code",
      "metadata": {
        "id": "zm8AfMk0YMdH",
        "outputId": "a01789aa-323d-4785-92c4-1ff933bf3096",
        "colab": {
          "base_uri": "https://localhost:8080/"
        }
      },
      "source": [
        "print(f'Coefficients: {model.coef_}')\n",
        "print(f'Intercept: {model.intercept_}')"
      ],
      "execution_count": 73,
      "outputs": [
        {
          "output_type": "stream",
          "text": [
            "Coefficients: [ -500. -1000.]\n",
            "Intercept: 3333.3333333333335\n"
          ],
          "name": "stdout"
        }
      ]
    },
    {
      "cell_type": "code",
      "metadata": {
        "id": "OFxf2ayuYMg3",
        "outputId": "7818b3be-aa56-4f08-d31a-b66c17303993",
        "colab": {
          "base_uri": "https://localhost:8080/"
        }
      },
      "source": [
        "print('Global mean: ',df_test['Rent'].mean())\n",
        "print(df_test.groupby('City').mean())"
      ],
      "execution_count": 72,
      "outputs": [
        {
          "output_type": "stream",
          "text": [
            "Global mean:  3333.3333333333335\n",
            "         Rent\n",
            "City         \n",
            "NYC      3500\n",
            "SF       4000\n",
            "Seattle  2500\n"
          ],
          "name": "stdout"
        }
      ]
    },
    {
      "cell_type": "markdown",
      "metadata": {
        "id": "ps-YS27NVhjv"
      },
      "source": [
        "### Helmert Coding"
      ]
    },
    {
      "cell_type": "code",
      "metadata": {
        "id": "U_ElH8UOAFDP"
      },
      "source": [
        "from category_encoders import HelmertEncoder  "
      ],
      "execution_count": 74,
      "outputs": []
    },
    {
      "cell_type": "code",
      "metadata": {
        "id": "HE763qDfYNo4"
      },
      "source": [
        "helm_enc = HelmertEncoder()"
      ],
      "execution_count": 77,
      "outputs": []
    },
    {
      "cell_type": "code",
      "metadata": {
        "id": "7hesv13FYNss",
        "outputId": "291241e8-b021-470a-8e94-ee2362601c82",
        "colab": {
          "base_uri": "https://localhost:8080/",
          "height": 485
        }
      },
      "source": [
        "helm_enc.fit_transform(df[[col]])"
      ],
      "execution_count": 78,
      "outputs": [
        {
          "output_type": "stream",
          "text": [
            "/usr/local/lib/python3.7/dist-packages/category_encoders/utils.py:21: FutureWarning:\n",
            "\n",
            "is_categorical is deprecated and will be removed in a future version.  Use is_categorical_dtype instead\n",
            "\n"
          ],
          "name": "stderr"
        },
        {
          "output_type": "execute_result",
          "data": {
            "text/html": [
              "<div>\n",
              "<style scoped>\n",
              "    .dataframe tbody tr th:only-of-type {\n",
              "        vertical-align: middle;\n",
              "    }\n",
              "\n",
              "    .dataframe tbody tr th {\n",
              "        vertical-align: top;\n",
              "    }\n",
              "\n",
              "    .dataframe thead th {\n",
              "        text-align: right;\n",
              "    }\n",
              "</style>\n",
              "<table border=\"1\" class=\"dataframe\">\n",
              "  <thead>\n",
              "    <tr style=\"text-align: right;\">\n",
              "      <th></th>\n",
              "      <th>intercept</th>\n",
              "      <th>drinks_0</th>\n",
              "      <th>drinks_1</th>\n",
              "      <th>drinks_2</th>\n",
              "      <th>drinks_3</th>\n",
              "      <th>drinks_4</th>\n",
              "      <th>drinks_5</th>\n",
              "    </tr>\n",
              "  </thead>\n",
              "  <tbody>\n",
              "    <tr>\n",
              "      <th>1</th>\n",
              "      <td>1</td>\n",
              "      <td>-1.0</td>\n",
              "      <td>-1.0</td>\n",
              "      <td>-1.0</td>\n",
              "      <td>-1.0</td>\n",
              "      <td>-1.0</td>\n",
              "      <td>-1.0</td>\n",
              "    </tr>\n",
              "    <tr>\n",
              "      <th>4</th>\n",
              "      <td>1</td>\n",
              "      <td>-1.0</td>\n",
              "      <td>-1.0</td>\n",
              "      <td>-1.0</td>\n",
              "      <td>-1.0</td>\n",
              "      <td>-1.0</td>\n",
              "      <td>-1.0</td>\n",
              "    </tr>\n",
              "    <tr>\n",
              "      <th>6</th>\n",
              "      <td>1</td>\n",
              "      <td>-1.0</td>\n",
              "      <td>-1.0</td>\n",
              "      <td>-1.0</td>\n",
              "      <td>-1.0</td>\n",
              "      <td>-1.0</td>\n",
              "      <td>-1.0</td>\n",
              "    </tr>\n",
              "    <tr>\n",
              "      <th>8</th>\n",
              "      <td>1</td>\n",
              "      <td>-1.0</td>\n",
              "      <td>-1.0</td>\n",
              "      <td>-1.0</td>\n",
              "      <td>-1.0</td>\n",
              "      <td>-1.0</td>\n",
              "      <td>-1.0</td>\n",
              "    </tr>\n",
              "    <tr>\n",
              "      <th>10</th>\n",
              "      <td>1</td>\n",
              "      <td>1.0</td>\n",
              "      <td>-1.0</td>\n",
              "      <td>-1.0</td>\n",
              "      <td>-1.0</td>\n",
              "      <td>-1.0</td>\n",
              "      <td>-1.0</td>\n",
              "    </tr>\n",
              "    <tr>\n",
              "      <th>...</th>\n",
              "      <td>...</td>\n",
              "      <td>...</td>\n",
              "      <td>...</td>\n",
              "      <td>...</td>\n",
              "      <td>...</td>\n",
              "      <td>...</td>\n",
              "      <td>...</td>\n",
              "    </tr>\n",
              "    <tr>\n",
              "      <th>59940</th>\n",
              "      <td>1</td>\n",
              "      <td>-1.0</td>\n",
              "      <td>-1.0</td>\n",
              "      <td>-1.0</td>\n",
              "      <td>-1.0</td>\n",
              "      <td>-1.0</td>\n",
              "      <td>-1.0</td>\n",
              "    </tr>\n",
              "    <tr>\n",
              "      <th>59943</th>\n",
              "      <td>1</td>\n",
              "      <td>0.0</td>\n",
              "      <td>0.0</td>\n",
              "      <td>3.0</td>\n",
              "      <td>-1.0</td>\n",
              "      <td>-1.0</td>\n",
              "      <td>-1.0</td>\n",
              "    </tr>\n",
              "    <tr>\n",
              "      <th>59944</th>\n",
              "      <td>1</td>\n",
              "      <td>1.0</td>\n",
              "      <td>-1.0</td>\n",
              "      <td>-1.0</td>\n",
              "      <td>-1.0</td>\n",
              "      <td>-1.0</td>\n",
              "      <td>-1.0</td>\n",
              "    </tr>\n",
              "    <tr>\n",
              "      <th>59945</th>\n",
              "      <td>1</td>\n",
              "      <td>-1.0</td>\n",
              "      <td>-1.0</td>\n",
              "      <td>-1.0</td>\n",
              "      <td>-1.0</td>\n",
              "      <td>-1.0</td>\n",
              "      <td>-1.0</td>\n",
              "    </tr>\n",
              "    <tr>\n",
              "      <th>59946</th>\n",
              "      <td>1</td>\n",
              "      <td>-1.0</td>\n",
              "      <td>-1.0</td>\n",
              "      <td>-1.0</td>\n",
              "      <td>-1.0</td>\n",
              "      <td>-1.0</td>\n",
              "      <td>-1.0</td>\n",
              "    </tr>\n",
              "  </tbody>\n",
              "</table>\n",
              "<p>38809 rows × 7 columns</p>\n",
              "</div>"
            ],
            "text/plain": [
              "       intercept  drinks_0  drinks_1  drinks_2  drinks_3  drinks_4  drinks_5\n",
              "1              1      -1.0      -1.0      -1.0      -1.0      -1.0      -1.0\n",
              "4              1      -1.0      -1.0      -1.0      -1.0      -1.0      -1.0\n",
              "6              1      -1.0      -1.0      -1.0      -1.0      -1.0      -1.0\n",
              "8              1      -1.0      -1.0      -1.0      -1.0      -1.0      -1.0\n",
              "10             1       1.0      -1.0      -1.0      -1.0      -1.0      -1.0\n",
              "...          ...       ...       ...       ...       ...       ...       ...\n",
              "59940          1      -1.0      -1.0      -1.0      -1.0      -1.0      -1.0\n",
              "59943          1       0.0       0.0       3.0      -1.0      -1.0      -1.0\n",
              "59944          1       1.0      -1.0      -1.0      -1.0      -1.0      -1.0\n",
              "59945          1      -1.0      -1.0      -1.0      -1.0      -1.0      -1.0\n",
              "59946          1      -1.0      -1.0      -1.0      -1.0      -1.0      -1.0\n",
              "\n",
              "[38809 rows x 7 columns]"
            ]
          },
          "metadata": {
            "tags": []
          },
          "execution_count": 78
        }
      ]
    },
    {
      "cell_type": "code",
      "metadata": {
        "id": "EyuORMsGYNwV",
        "outputId": "a8e2ab23-17a5-4d27-dc1c-c326f03ce4bc",
        "colab": {
          "base_uri": "https://localhost:8080/",
          "height": 325
        }
      },
      "source": [
        "helm_enc.mapping[0]['mapping']"
      ],
      "execution_count": 79,
      "outputs": [
        {
          "output_type": "execute_result",
          "data": {
            "text/html": [
              "<div>\n",
              "<style scoped>\n",
              "    .dataframe tbody tr th:only-of-type {\n",
              "        vertical-align: middle;\n",
              "    }\n",
              "\n",
              "    .dataframe tbody tr th {\n",
              "        vertical-align: top;\n",
              "    }\n",
              "\n",
              "    .dataframe thead th {\n",
              "        text-align: right;\n",
              "    }\n",
              "</style>\n",
              "<table border=\"1\" class=\"dataframe\">\n",
              "  <thead>\n",
              "    <tr style=\"text-align: right;\">\n",
              "      <th></th>\n",
              "      <th>drinks_0</th>\n",
              "      <th>drinks_1</th>\n",
              "      <th>drinks_2</th>\n",
              "      <th>drinks_3</th>\n",
              "      <th>drinks_4</th>\n",
              "      <th>drinks_5</th>\n",
              "    </tr>\n",
              "  </thead>\n",
              "  <tbody>\n",
              "    <tr>\n",
              "      <th>1</th>\n",
              "      <td>-1.0</td>\n",
              "      <td>-1.0</td>\n",
              "      <td>-1.0</td>\n",
              "      <td>-1.0</td>\n",
              "      <td>-1.0</td>\n",
              "      <td>-1.0</td>\n",
              "    </tr>\n",
              "    <tr>\n",
              "      <th>2</th>\n",
              "      <td>1.0</td>\n",
              "      <td>-1.0</td>\n",
              "      <td>-1.0</td>\n",
              "      <td>-1.0</td>\n",
              "      <td>-1.0</td>\n",
              "      <td>-1.0</td>\n",
              "    </tr>\n",
              "    <tr>\n",
              "      <th>3</th>\n",
              "      <td>0.0</td>\n",
              "      <td>2.0</td>\n",
              "      <td>-1.0</td>\n",
              "      <td>-1.0</td>\n",
              "      <td>-1.0</td>\n",
              "      <td>-1.0</td>\n",
              "    </tr>\n",
              "    <tr>\n",
              "      <th>4</th>\n",
              "      <td>0.0</td>\n",
              "      <td>0.0</td>\n",
              "      <td>3.0</td>\n",
              "      <td>-1.0</td>\n",
              "      <td>-1.0</td>\n",
              "      <td>-1.0</td>\n",
              "    </tr>\n",
              "    <tr>\n",
              "      <th>5</th>\n",
              "      <td>0.0</td>\n",
              "      <td>0.0</td>\n",
              "      <td>0.0</td>\n",
              "      <td>4.0</td>\n",
              "      <td>-1.0</td>\n",
              "      <td>-1.0</td>\n",
              "    </tr>\n",
              "    <tr>\n",
              "      <th>6</th>\n",
              "      <td>0.0</td>\n",
              "      <td>0.0</td>\n",
              "      <td>0.0</td>\n",
              "      <td>0.0</td>\n",
              "      <td>5.0</td>\n",
              "      <td>-1.0</td>\n",
              "    </tr>\n",
              "    <tr>\n",
              "      <th>7</th>\n",
              "      <td>0.0</td>\n",
              "      <td>0.0</td>\n",
              "      <td>0.0</td>\n",
              "      <td>0.0</td>\n",
              "      <td>0.0</td>\n",
              "      <td>6.0</td>\n",
              "    </tr>\n",
              "    <tr>\n",
              "      <th>-1</th>\n",
              "      <td>0.0</td>\n",
              "      <td>0.0</td>\n",
              "      <td>0.0</td>\n",
              "      <td>0.0</td>\n",
              "      <td>0.0</td>\n",
              "      <td>0.0</td>\n",
              "    </tr>\n",
              "    <tr>\n",
              "      <th>-2</th>\n",
              "      <td>0.0</td>\n",
              "      <td>0.0</td>\n",
              "      <td>0.0</td>\n",
              "      <td>0.0</td>\n",
              "      <td>0.0</td>\n",
              "      <td>0.0</td>\n",
              "    </tr>\n",
              "  </tbody>\n",
              "</table>\n",
              "</div>"
            ],
            "text/plain": [
              "    drinks_0  drinks_1  drinks_2  drinks_3  drinks_4  drinks_5\n",
              " 1      -1.0      -1.0      -1.0      -1.0      -1.0      -1.0\n",
              " 2       1.0      -1.0      -1.0      -1.0      -1.0      -1.0\n",
              " 3       0.0       2.0      -1.0      -1.0      -1.0      -1.0\n",
              " 4       0.0       0.0       3.0      -1.0      -1.0      -1.0\n",
              " 5       0.0       0.0       0.0       4.0      -1.0      -1.0\n",
              " 6       0.0       0.0       0.0       0.0       5.0      -1.0\n",
              " 7       0.0       0.0       0.0       0.0       0.0       6.0\n",
              "-1       0.0       0.0       0.0       0.0       0.0       0.0\n",
              "-2       0.0       0.0       0.0       0.0       0.0       0.0"
            ]
          },
          "metadata": {
            "tags": []
          },
          "execution_count": 79
        }
      ]
    },
    {
      "cell_type": "code",
      "metadata": {
        "id": "EbabJfmhYNz2"
      },
      "source": [
        ""
      ],
      "execution_count": 51,
      "outputs": []
    },
    {
      "cell_type": "markdown",
      "metadata": {
        "id": "yHPhkTQWA3us"
      },
      "source": [
        "Utilizando el ejemplo de prueba"
      ]
    },
    {
      "cell_type": "code",
      "metadata": {
        "id": "yB5BVu1LYPy5",
        "outputId": "97155dad-23e1-414a-f843-af3f90148a4c",
        "colab": {
          "base_uri": "https://localhost:8080/",
          "height": 394
        }
      },
      "source": [
        "helm_enc = HelmertEncoder()\n",
        "helm_df = helm_enc.fit_transform(df_test['City'])\n",
        "helm_df['Rent']=df_test['Rent']\n",
        "helm_df"
      ],
      "execution_count": 80,
      "outputs": [
        {
          "output_type": "stream",
          "text": [
            "/usr/local/lib/python3.7/dist-packages/category_encoders/utils.py:21: FutureWarning:\n",
            "\n",
            "is_categorical is deprecated and will be removed in a future version.  Use is_categorical_dtype instead\n",
            "\n"
          ],
          "name": "stderr"
        },
        {
          "output_type": "execute_result",
          "data": {
            "text/html": [
              "<div>\n",
              "<style scoped>\n",
              "    .dataframe tbody tr th:only-of-type {\n",
              "        vertical-align: middle;\n",
              "    }\n",
              "\n",
              "    .dataframe tbody tr th {\n",
              "        vertical-align: top;\n",
              "    }\n",
              "\n",
              "    .dataframe thead th {\n",
              "        text-align: right;\n",
              "    }\n",
              "</style>\n",
              "<table border=\"1\" class=\"dataframe\">\n",
              "  <thead>\n",
              "    <tr style=\"text-align: right;\">\n",
              "      <th></th>\n",
              "      <th>intercept</th>\n",
              "      <th>City_0</th>\n",
              "      <th>City_1</th>\n",
              "      <th>Rent</th>\n",
              "    </tr>\n",
              "  </thead>\n",
              "  <tbody>\n",
              "    <tr>\n",
              "      <th>0</th>\n",
              "      <td>1</td>\n",
              "      <td>-1.0</td>\n",
              "      <td>-1.0</td>\n",
              "      <td>3999</td>\n",
              "    </tr>\n",
              "    <tr>\n",
              "      <th>1</th>\n",
              "      <td>1</td>\n",
              "      <td>-1.0</td>\n",
              "      <td>-1.0</td>\n",
              "      <td>4000</td>\n",
              "    </tr>\n",
              "    <tr>\n",
              "      <th>2</th>\n",
              "      <td>1</td>\n",
              "      <td>-1.0</td>\n",
              "      <td>-1.0</td>\n",
              "      <td>4001</td>\n",
              "    </tr>\n",
              "    <tr>\n",
              "      <th>3</th>\n",
              "      <td>1</td>\n",
              "      <td>1.0</td>\n",
              "      <td>-1.0</td>\n",
              "      <td>3499</td>\n",
              "    </tr>\n",
              "    <tr>\n",
              "      <th>4</th>\n",
              "      <td>1</td>\n",
              "      <td>1.0</td>\n",
              "      <td>-1.0</td>\n",
              "      <td>3500</td>\n",
              "    </tr>\n",
              "    <tr>\n",
              "      <th>5</th>\n",
              "      <td>1</td>\n",
              "      <td>1.0</td>\n",
              "      <td>-1.0</td>\n",
              "      <td>3501</td>\n",
              "    </tr>\n",
              "    <tr>\n",
              "      <th>6</th>\n",
              "      <td>1</td>\n",
              "      <td>0.0</td>\n",
              "      <td>2.0</td>\n",
              "      <td>2499</td>\n",
              "    </tr>\n",
              "    <tr>\n",
              "      <th>7</th>\n",
              "      <td>1</td>\n",
              "      <td>0.0</td>\n",
              "      <td>2.0</td>\n",
              "      <td>2500</td>\n",
              "    </tr>\n",
              "    <tr>\n",
              "      <th>8</th>\n",
              "      <td>1</td>\n",
              "      <td>0.0</td>\n",
              "      <td>2.0</td>\n",
              "      <td>2501</td>\n",
              "    </tr>\n",
              "  </tbody>\n",
              "</table>\n",
              "</div>"
            ],
            "text/plain": [
              "   intercept  City_0  City_1  Rent\n",
              "0          1    -1.0    -1.0  3999\n",
              "1          1    -1.0    -1.0  4000\n",
              "2          1    -1.0    -1.0  4001\n",
              "3          1     1.0    -1.0  3499\n",
              "4          1     1.0    -1.0  3500\n",
              "5          1     1.0    -1.0  3501\n",
              "6          1     0.0     2.0  2499\n",
              "7          1     0.0     2.0  2500\n",
              "8          1     0.0     2.0  2501"
            ]
          },
          "metadata": {
            "tags": []
          },
          "execution_count": 80
        }
      ]
    },
    {
      "cell_type": "code",
      "metadata": {
        "id": "_TsOqaDkYP4O",
        "outputId": "9b44609f-3441-445a-e30c-049a41d527f9",
        "colab": {
          "base_uri": "https://localhost:8080/",
          "height": 202
        }
      },
      "source": [
        "helm_enc.mapping[0]['mapping']"
      ],
      "execution_count": 81,
      "outputs": [
        {
          "output_type": "execute_result",
          "data": {
            "text/html": [
              "<div>\n",
              "<style scoped>\n",
              "    .dataframe tbody tr th:only-of-type {\n",
              "        vertical-align: middle;\n",
              "    }\n",
              "\n",
              "    .dataframe tbody tr th {\n",
              "        vertical-align: top;\n",
              "    }\n",
              "\n",
              "    .dataframe thead th {\n",
              "        text-align: right;\n",
              "    }\n",
              "</style>\n",
              "<table border=\"1\" class=\"dataframe\">\n",
              "  <thead>\n",
              "    <tr style=\"text-align: right;\">\n",
              "      <th></th>\n",
              "      <th>City_0</th>\n",
              "      <th>City_1</th>\n",
              "    </tr>\n",
              "  </thead>\n",
              "  <tbody>\n",
              "    <tr>\n",
              "      <th>1</th>\n",
              "      <td>-1.0</td>\n",
              "      <td>-1.0</td>\n",
              "    </tr>\n",
              "    <tr>\n",
              "      <th>2</th>\n",
              "      <td>1.0</td>\n",
              "      <td>-1.0</td>\n",
              "    </tr>\n",
              "    <tr>\n",
              "      <th>3</th>\n",
              "      <td>0.0</td>\n",
              "      <td>2.0</td>\n",
              "    </tr>\n",
              "    <tr>\n",
              "      <th>-1</th>\n",
              "      <td>0.0</td>\n",
              "      <td>0.0</td>\n",
              "    </tr>\n",
              "    <tr>\n",
              "      <th>-2</th>\n",
              "      <td>0.0</td>\n",
              "      <td>0.0</td>\n",
              "    </tr>\n",
              "  </tbody>\n",
              "</table>\n",
              "</div>"
            ],
            "text/plain": [
              "    City_0  City_1\n",
              " 1    -1.0    -1.0\n",
              " 2     1.0    -1.0\n",
              " 3     0.0     2.0\n",
              "-1     0.0     0.0\n",
              "-2     0.0     0.0"
            ]
          },
          "metadata": {
            "tags": []
          },
          "execution_count": 81
        }
      ]
    },
    {
      "cell_type": "code",
      "metadata": {
        "id": "aXmn-oZdYP8U",
        "outputId": "7586ffdb-8579-4806-dac6-3f7391136bfe",
        "colab": {
          "base_uri": "https://localhost:8080/"
        }
      },
      "source": [
        "model = linear_model.LinearRegression()\n",
        "model.fit(helm_df[['City_0','City_1']],helm_df['Rent'])"
      ],
      "execution_count": 82,
      "outputs": [
        {
          "output_type": "execute_result",
          "data": {
            "text/plain": [
              "LinearRegression(copy_X=True, fit_intercept=True, n_jobs=None, normalize=False)"
            ]
          },
          "metadata": {
            "tags": []
          },
          "execution_count": 82
        }
      ]
    },
    {
      "cell_type": "code",
      "metadata": {
        "id": "ZmAT5PQ4YP_n",
        "outputId": "c087855f-f728-41fd-86ab-0df6398ee668",
        "colab": {
          "base_uri": "https://localhost:8080/"
        }
      },
      "source": [
        "print(f'Coefficients: {model.coef_}')\n",
        "print(f'Intercept: {model.intercept_}')"
      ],
      "execution_count": 83,
      "outputs": [
        {
          "output_type": "stream",
          "text": [
            "Coefficients: [-250.         -416.66666667]\n",
            "Intercept: 3333.3333333333335\n"
          ],
          "name": "stdout"
        }
      ]
    },
    {
      "cell_type": "code",
      "metadata": {
        "id": "oD5XuzGQYQD2"
      },
      "source": [
        "print('Global mean: ', df_test['Rent'].mean())\n",
        "print(df_test.groupby('City').mean())"
      ],
      "execution_count": 51,
      "outputs": []
    },
    {
      "cell_type": "code",
      "metadata": {
        "id": "5l7x8fN5YQHA",
        "outputId": "266cd55d-da5a-48f7-ef19-e2e9a529560f",
        "colab": {
          "base_uri": "https://localhost:8080/"
        }
      },
      "source": [
        "df_test[df_test['City']!='NYC']['Rent'].mean()"
      ],
      "execution_count": 84,
      "outputs": [
        {
          "output_type": "execute_result",
          "data": {
            "text/plain": [
              "3250.0"
            ]
          },
          "metadata": {
            "tags": []
          },
          "execution_count": 84
        }
      ]
    },
    {
      "cell_type": "code",
      "metadata": {
        "id": "n8WYX3nTYQJq"
      },
      "source": [
        ""
      ],
      "execution_count": 51,
      "outputs": []
    },
    {
      "cell_type": "markdown",
      "metadata": {
        "id": "9amfYePmVlt5"
      },
      "source": [
        "#Supervised Encoders"
      ]
    },
    {
      "cell_type": "code",
      "metadata": {
        "id": "xmEJN_oCO5Fx"
      },
      "source": [
        "col_cat = 'drinks'\n",
        "col_num = 'essay_length'"
      ],
      "execution_count": 85,
      "outputs": []
    },
    {
      "cell_type": "code",
      "metadata": {
        "id": "XJ41viXsYTPh"
      },
      "source": [
        "from sklearn.preprocessing import LabelEncoder"
      ],
      "execution_count": 86,
      "outputs": []
    },
    {
      "cell_type": "code",
      "metadata": {
        "id": "C_Er02mBYTTv"
      },
      "source": [
        "label_enc = LabelEncoder()\n",
        "df['Class_enc'] = label_enc.fit_transform(df['Class'])"
      ],
      "execution_count": 87,
      "outputs": []
    },
    {
      "cell_type": "code",
      "metadata": {
        "id": "FM6FNRVXO5IE",
        "outputId": "a51076f1-0630-40cd-f7e6-88e2fa6cfac1",
        "colab": {
          "base_uri": "https://localhost:8080/",
          "height": 222
        }
      },
      "source": [
        "df.head()"
      ],
      "execution_count": 88,
      "outputs": [
        {
          "output_type": "execute_result",
          "data": {
            "text/html": [
              "<div>\n",
              "<style scoped>\n",
              "    .dataframe tbody tr th:only-of-type {\n",
              "        vertical-align: middle;\n",
              "    }\n",
              "\n",
              "    .dataframe tbody tr th {\n",
              "        vertical-align: top;\n",
              "    }\n",
              "\n",
              "    .dataframe thead th {\n",
              "        text-align: right;\n",
              "    }\n",
              "</style>\n",
              "<table border=\"1\" class=\"dataframe\">\n",
              "  <thead>\n",
              "    <tr style=\"text-align: right;\">\n",
              "      <th></th>\n",
              "      <th>age</th>\n",
              "      <th>diet</th>\n",
              "      <th>drinks</th>\n",
              "      <th>drugs</th>\n",
              "      <th>education</th>\n",
              "      <th>height</th>\n",
              "      <th>income</th>\n",
              "      <th>last_online</th>\n",
              "      <th>offspring</th>\n",
              "      <th>pets</th>\n",
              "      <th>religion</th>\n",
              "      <th>sign</th>\n",
              "      <th>smokes</th>\n",
              "      <th>status</th>\n",
              "      <th>where_state</th>\n",
              "      <th>where_town</th>\n",
              "      <th>religion_modifer</th>\n",
              "      <th>sign_modifer</th>\n",
              "      <th>cpp</th>\n",
              "      <th>cpp_fluently</th>\n",
              "      <th>cpp_okay</th>\n",
              "      <th>cpp_poorly</th>\n",
              "      <th>lisp</th>\n",
              "      <th>lisp_fluently</th>\n",
              "      <th>lisp_okay</th>\n",
              "      <th>lisp_poorly</th>\n",
              "      <th>asian</th>\n",
              "      <th>black</th>\n",
              "      <th>hispanic_latin</th>\n",
              "      <th>indian</th>\n",
              "      <th>middle_eastern</th>\n",
              "      <th>native_american</th>\n",
              "      <th>other</th>\n",
              "      <th>pacific_islander</th>\n",
              "      <th>white</th>\n",
              "      <th>essay_length</th>\n",
              "      <th>Class</th>\n",
              "      <th>profile</th>\n",
              "      <th>Class_enc</th>\n",
              "    </tr>\n",
              "  </thead>\n",
              "  <tbody>\n",
              "    <tr>\n",
              "      <th>1</th>\n",
              "      <td>22</td>\n",
              "      <td>strictly_anything</td>\n",
              "      <td>socially</td>\n",
              "      <td>never</td>\n",
              "      <td>working_on_college_university</td>\n",
              "      <td>75</td>\n",
              "      <td>missing</td>\n",
              "      <td>3</td>\n",
              "      <td>doesnt_have_kids_but_might_want_them</td>\n",
              "      <td>likes_dogs_and_likes_cats</td>\n",
              "      <td>agnosticism</td>\n",
              "      <td>gemini</td>\n",
              "      <td>sometimes</td>\n",
              "      <td>single</td>\n",
              "      <td>california</td>\n",
              "      <td>south_san_francisco</td>\n",
              "      <td>and_very_serious_about_it</td>\n",
              "      <td>sign_mod_missing</td>\n",
              "      <td>0</td>\n",
              "      <td>0</td>\n",
              "      <td>0</td>\n",
              "      <td>0</td>\n",
              "      <td>0</td>\n",
              "      <td>0</td>\n",
              "      <td>0</td>\n",
              "      <td>0</td>\n",
              "      <td>1</td>\n",
              "      <td>0</td>\n",
              "      <td>0</td>\n",
              "      <td>0</td>\n",
              "      <td>0</td>\n",
              "      <td>0</td>\n",
              "      <td>0</td>\n",
              "      <td>0</td>\n",
              "      <td>1</td>\n",
              "      <td>3.420945</td>\n",
              "      <td>other</td>\n",
              "      <td>1</td>\n",
              "      <td>0</td>\n",
              "    </tr>\n",
              "    <tr>\n",
              "      <th>4</th>\n",
              "      <td>23</td>\n",
              "      <td>vegetarian</td>\n",
              "      <td>socially</td>\n",
              "      <td>drugs_missing</td>\n",
              "      <td>working_on_college_university</td>\n",
              "      <td>71</td>\n",
              "      <td>inc20000</td>\n",
              "      <td>3</td>\n",
              "      <td>doesnt_want_kids</td>\n",
              "      <td>likes_cats</td>\n",
              "      <td>religion_missing</td>\n",
              "      <td>pisces</td>\n",
              "      <td>no</td>\n",
              "      <td>single</td>\n",
              "      <td>california</td>\n",
              "      <td>berkeley</td>\n",
              "      <td>religion_mod_missing</td>\n",
              "      <td>sign_mod_missing</td>\n",
              "      <td>0</td>\n",
              "      <td>0</td>\n",
              "      <td>0</td>\n",
              "      <td>0</td>\n",
              "      <td>0</td>\n",
              "      <td>0</td>\n",
              "      <td>0</td>\n",
              "      <td>0</td>\n",
              "      <td>0</td>\n",
              "      <td>0</td>\n",
              "      <td>0</td>\n",
              "      <td>0</td>\n",
              "      <td>0</td>\n",
              "      <td>0</td>\n",
              "      <td>0</td>\n",
              "      <td>0</td>\n",
              "      <td>1</td>\n",
              "      <td>2.671173</td>\n",
              "      <td>other</td>\n",
              "      <td>3</td>\n",
              "      <td>0</td>\n",
              "    </tr>\n",
              "    <tr>\n",
              "      <th>6</th>\n",
              "      <td>29</td>\n",
              "      <td>mostly_anything</td>\n",
              "      <td>socially</td>\n",
              "      <td>drugs_missing</td>\n",
              "      <td>graduated_from_college_university</td>\n",
              "      <td>67</td>\n",
              "      <td>missing</td>\n",
              "      <td>2</td>\n",
              "      <td>doesnt_have_kids_but_might_want_them</td>\n",
              "      <td>likes_cats</td>\n",
              "      <td>atheism</td>\n",
              "      <td>taurus</td>\n",
              "      <td>no</td>\n",
              "      <td>single</td>\n",
              "      <td>california</td>\n",
              "      <td>san_francisco</td>\n",
              "      <td>religion_mod_missing</td>\n",
              "      <td>sign_mod_missing</td>\n",
              "      <td>0</td>\n",
              "      <td>0</td>\n",
              "      <td>0</td>\n",
              "      <td>0</td>\n",
              "      <td>0</td>\n",
              "      <td>0</td>\n",
              "      <td>0</td>\n",
              "      <td>0</td>\n",
              "      <td>0</td>\n",
              "      <td>0</td>\n",
              "      <td>0</td>\n",
              "      <td>0</td>\n",
              "      <td>0</td>\n",
              "      <td>0</td>\n",
              "      <td>0</td>\n",
              "      <td>0</td>\n",
              "      <td>1</td>\n",
              "      <td>3.391112</td>\n",
              "      <td>stem</td>\n",
              "      <td>5</td>\n",
              "      <td>1</td>\n",
              "    </tr>\n",
              "    <tr>\n",
              "      <th>8</th>\n",
              "      <td>31</td>\n",
              "      <td>mostly_anything</td>\n",
              "      <td>socially</td>\n",
              "      <td>never</td>\n",
              "      <td>graduated_from_college_university</td>\n",
              "      <td>65</td>\n",
              "      <td>missing</td>\n",
              "      <td>2</td>\n",
              "      <td>doesnt_have_kids_but_wants_them</td>\n",
              "      <td>likes_dogs_and_likes_cats</td>\n",
              "      <td>christianity</td>\n",
              "      <td>sagittarius</td>\n",
              "      <td>no</td>\n",
              "      <td>single</td>\n",
              "      <td>california</td>\n",
              "      <td>san_francisco</td>\n",
              "      <td>religion_mod_missing</td>\n",
              "      <td>sign_mod_missing</td>\n",
              "      <td>0</td>\n",
              "      <td>0</td>\n",
              "      <td>0</td>\n",
              "      <td>0</td>\n",
              "      <td>0</td>\n",
              "      <td>0</td>\n",
              "      <td>0</td>\n",
              "      <td>0</td>\n",
              "      <td>0</td>\n",
              "      <td>0</td>\n",
              "      <td>0</td>\n",
              "      <td>0</td>\n",
              "      <td>0</td>\n",
              "      <td>0</td>\n",
              "      <td>0</td>\n",
              "      <td>0</td>\n",
              "      <td>1</td>\n",
              "      <td>3.090611</td>\n",
              "      <td>other</td>\n",
              "      <td>6</td>\n",
              "      <td>0</td>\n",
              "    </tr>\n",
              "    <tr>\n",
              "      <th>10</th>\n",
              "      <td>37</td>\n",
              "      <td>mostly_anything</td>\n",
              "      <td>not_at_all</td>\n",
              "      <td>never</td>\n",
              "      <td>working_on_two_year_college</td>\n",
              "      <td>65</td>\n",
              "      <td>missing</td>\n",
              "      <td>3</td>\n",
              "      <td>kids_missing</td>\n",
              "      <td>likes_dogs_and_likes_cats</td>\n",
              "      <td>atheism</td>\n",
              "      <td>cancer</td>\n",
              "      <td>no</td>\n",
              "      <td>single</td>\n",
              "      <td>california</td>\n",
              "      <td>san_mateo</td>\n",
              "      <td>and_laughing_about_it</td>\n",
              "      <td>but_it_doesnt_matter</td>\n",
              "      <td>0</td>\n",
              "      <td>0</td>\n",
              "      <td>0</td>\n",
              "      <td>0</td>\n",
              "      <td>0</td>\n",
              "      <td>0</td>\n",
              "      <td>0</td>\n",
              "      <td>0</td>\n",
              "      <td>0</td>\n",
              "      <td>0</td>\n",
              "      <td>0</td>\n",
              "      <td>0</td>\n",
              "      <td>0</td>\n",
              "      <td>0</td>\n",
              "      <td>0</td>\n",
              "      <td>0</td>\n",
              "      <td>1</td>\n",
              "      <td>3.382377</td>\n",
              "      <td>other</td>\n",
              "      <td>7</td>\n",
              "      <td>0</td>\n",
              "    </tr>\n",
              "  </tbody>\n",
              "</table>\n",
              "</div>"
            ],
            "text/plain": [
              "    age               diet      drinks  ...  Class profile  Class_enc\n",
              "1    22  strictly_anything    socially  ...  other       1          0\n",
              "4    23         vegetarian    socially  ...  other       3          0\n",
              "6    29    mostly_anything    socially  ...   stem       5          1\n",
              "8    31    mostly_anything    socially  ...  other       6          0\n",
              "10   37    mostly_anything  not_at_all  ...  other       7          0\n",
              "\n",
              "[5 rows x 39 columns]"
            ]
          },
          "metadata": {
            "tags": []
          },
          "execution_count": 88
        }
      ]
    },
    {
      "cell_type": "markdown",
      "metadata": {
        "id": "GjKnBAVhVovy"
      },
      "source": [
        "## Target Encoder"
      ]
    },
    {
      "cell_type": "code",
      "metadata": {
        "id": "1DCvjNXRYWLs"
      },
      "source": [
        "from category_encoders import TargetEncoder"
      ],
      "execution_count": 89,
      "outputs": []
    },
    {
      "cell_type": "code",
      "metadata": {
        "id": "4o4mYAb3YWPW",
        "outputId": "fd408523-7079-42c3-be3e-e39bef6bb791",
        "colab": {
          "base_uri": "https://localhost:8080/",
          "height": 485
        }
      },
      "source": [
        "target_enc = TargetEncoder()\n",
        "target_enc.fit_transform(df[col_cat],df['Class_enc'])"
      ],
      "execution_count": 90,
      "outputs": [
        {
          "output_type": "stream",
          "text": [
            "/usr/local/lib/python3.7/dist-packages/category_encoders/utils.py:21: FutureWarning:\n",
            "\n",
            "is_categorical is deprecated and will be removed in a future version.  Use is_categorical_dtype instead\n",
            "\n"
          ],
          "name": "stderr"
        },
        {
          "output_type": "execute_result",
          "data": {
            "text/html": [
              "<div>\n",
              "<style scoped>\n",
              "    .dataframe tbody tr th:only-of-type {\n",
              "        vertical-align: middle;\n",
              "    }\n",
              "\n",
              "    .dataframe tbody tr th {\n",
              "        vertical-align: top;\n",
              "    }\n",
              "\n",
              "    .dataframe thead th {\n",
              "        text-align: right;\n",
              "    }\n",
              "</style>\n",
              "<table border=\"1\" class=\"dataframe\">\n",
              "  <thead>\n",
              "    <tr style=\"text-align: right;\">\n",
              "      <th></th>\n",
              "      <th>drinks</th>\n",
              "    </tr>\n",
              "  </thead>\n",
              "  <tbody>\n",
              "    <tr>\n",
              "      <th>1</th>\n",
              "      <td>0.189201</td>\n",
              "    </tr>\n",
              "    <tr>\n",
              "      <th>4</th>\n",
              "      <td>0.189201</td>\n",
              "    </tr>\n",
              "    <tr>\n",
              "      <th>6</th>\n",
              "      <td>0.189201</td>\n",
              "    </tr>\n",
              "    <tr>\n",
              "      <th>8</th>\n",
              "      <td>0.189201</td>\n",
              "    </tr>\n",
              "    <tr>\n",
              "      <th>10</th>\n",
              "      <td>0.147891</td>\n",
              "    </tr>\n",
              "    <tr>\n",
              "      <th>...</th>\n",
              "      <td>...</td>\n",
              "    </tr>\n",
              "    <tr>\n",
              "      <th>59940</th>\n",
              "      <td>0.189201</td>\n",
              "    </tr>\n",
              "    <tr>\n",
              "      <th>59943</th>\n",
              "      <td>0.195429</td>\n",
              "    </tr>\n",
              "    <tr>\n",
              "      <th>59944</th>\n",
              "      <td>0.147891</td>\n",
              "    </tr>\n",
              "    <tr>\n",
              "      <th>59945</th>\n",
              "      <td>0.189201</td>\n",
              "    </tr>\n",
              "    <tr>\n",
              "      <th>59946</th>\n",
              "      <td>0.189201</td>\n",
              "    </tr>\n",
              "  </tbody>\n",
              "</table>\n",
              "<p>38809 rows × 1 columns</p>\n",
              "</div>"
            ],
            "text/plain": [
              "         drinks\n",
              "1      0.189201\n",
              "4      0.189201\n",
              "6      0.189201\n",
              "8      0.189201\n",
              "10     0.147891\n",
              "...         ...\n",
              "59940  0.189201\n",
              "59943  0.195429\n",
              "59944  0.147891\n",
              "59945  0.189201\n",
              "59946  0.189201\n",
              "\n",
              "[38809 rows x 1 columns]"
            ]
          },
          "metadata": {
            "tags": []
          },
          "execution_count": 90
        }
      ]
    },
    {
      "cell_type": "code",
      "metadata": {
        "id": "s7LWU1zcYWSi",
        "outputId": "d1bdcb67-a29a-4868-e75e-b53b6947a924",
        "colab": {
          "base_uri": "https://localhost:8080/"
        }
      },
      "source": [
        "target_enc.mapping"
      ],
      "execution_count": 91,
      "outputs": [
        {
          "output_type": "execute_result",
          "data": {
            "text/plain": [
              "{'drinks': drinks\n",
              "  1    0.189201\n",
              "  2    0.147891\n",
              "  3    0.170058\n",
              "  4    0.195429\n",
              "  5    0.179636\n",
              "  6    0.137931\n",
              "  7    0.171429\n",
              " -1    0.184674\n",
              " -2    0.184674\n",
              " dtype: float64}"
            ]
          },
          "metadata": {
            "tags": []
          },
          "execution_count": 91
        }
      ]
    },
    {
      "cell_type": "code",
      "metadata": {
        "id": "GSgzXWMfYWVt",
        "outputId": "2739790d-89ef-4abb-9288-a34fb5012e08",
        "colab": {
          "base_uri": "https://localhost:8080/",
          "height": 485
        }
      },
      "source": [
        "target_enc = TargetEncoder()\n",
        "target_enc.fit_transform(df[col_cat],df[col_num])"
      ],
      "execution_count": 92,
      "outputs": [
        {
          "output_type": "stream",
          "text": [
            "/usr/local/lib/python3.7/dist-packages/category_encoders/utils.py:21: FutureWarning:\n",
            "\n",
            "is_categorical is deprecated and will be removed in a future version.  Use is_categorical_dtype instead\n",
            "\n"
          ],
          "name": "stderr"
        },
        {
          "output_type": "execute_result",
          "data": {
            "text/html": [
              "<div>\n",
              "<style scoped>\n",
              "    .dataframe tbody tr th:only-of-type {\n",
              "        vertical-align: middle;\n",
              "    }\n",
              "\n",
              "    .dataframe tbody tr th {\n",
              "        vertical-align: top;\n",
              "    }\n",
              "\n",
              "    .dataframe thead th {\n",
              "        text-align: right;\n",
              "    }\n",
              "</style>\n",
              "<table border=\"1\" class=\"dataframe\">\n",
              "  <thead>\n",
              "    <tr style=\"text-align: right;\">\n",
              "      <th></th>\n",
              "      <th>drinks</th>\n",
              "    </tr>\n",
              "  </thead>\n",
              "  <tbody>\n",
              "    <tr>\n",
              "      <th>1</th>\n",
              "      <td>3.136058</td>\n",
              "    </tr>\n",
              "    <tr>\n",
              "      <th>4</th>\n",
              "      <td>3.136058</td>\n",
              "    </tr>\n",
              "    <tr>\n",
              "      <th>6</th>\n",
              "      <td>3.136058</td>\n",
              "    </tr>\n",
              "    <tr>\n",
              "      <th>8</th>\n",
              "      <td>3.136058</td>\n",
              "    </tr>\n",
              "    <tr>\n",
              "      <th>10</th>\n",
              "      <td>3.145403</td>\n",
              "    </tr>\n",
              "    <tr>\n",
              "      <th>...</th>\n",
              "      <td>...</td>\n",
              "    </tr>\n",
              "    <tr>\n",
              "      <th>59940</th>\n",
              "      <td>3.136058</td>\n",
              "    </tr>\n",
              "    <tr>\n",
              "      <th>59943</th>\n",
              "      <td>3.138155</td>\n",
              "    </tr>\n",
              "    <tr>\n",
              "      <th>59944</th>\n",
              "      <td>3.145403</td>\n",
              "    </tr>\n",
              "    <tr>\n",
              "      <th>59945</th>\n",
              "      <td>3.136058</td>\n",
              "    </tr>\n",
              "    <tr>\n",
              "      <th>59946</th>\n",
              "      <td>3.136058</td>\n",
              "    </tr>\n",
              "  </tbody>\n",
              "</table>\n",
              "<p>38809 rows × 1 columns</p>\n",
              "</div>"
            ],
            "text/plain": [
              "         drinks\n",
              "1      3.136058\n",
              "4      3.136058\n",
              "6      3.136058\n",
              "8      3.136058\n",
              "10     3.145403\n",
              "...         ...\n",
              "59940  3.136058\n",
              "59943  3.138155\n",
              "59944  3.145403\n",
              "59945  3.136058\n",
              "59946  3.136058\n",
              "\n",
              "[38809 rows x 1 columns]"
            ]
          },
          "metadata": {
            "tags": []
          },
          "execution_count": 92
        }
      ]
    },
    {
      "cell_type": "code",
      "metadata": {
        "id": "JfjlA_k6YWYp",
        "outputId": "dee66635-860d-414d-ba11-e02dfd5f46d3",
        "colab": {
          "base_uri": "https://localhost:8080/"
        }
      },
      "source": [
        "target_enc.mapping"
      ],
      "execution_count": 93,
      "outputs": [
        {
          "output_type": "execute_result",
          "data": {
            "text/plain": [
              "{'drinks': drinks\n",
              "  1    3.136058\n",
              "  2    3.145403\n",
              "  3    3.164222\n",
              "  4    3.138155\n",
              "  5    2.963267\n",
              "  6    2.915820\n",
              "  7    3.072538\n",
              " -1    3.132119\n",
              " -2    3.132119\n",
              " dtype: float64}"
            ]
          },
          "metadata": {
            "tags": []
          },
          "execution_count": 93
        }
      ]
    },
    {
      "cell_type": "markdown",
      "metadata": {
        "id": "3TFTlmR2VsDP"
      },
      "source": [
        "## Leave-one-out Encoder"
      ]
    },
    {
      "cell_type": "code",
      "metadata": {
        "id": "63iPr69eYX2y"
      },
      "source": [
        "from category_encoders import LeaveOneOutEncoder"
      ],
      "execution_count": 95,
      "outputs": []
    },
    {
      "cell_type": "code",
      "metadata": {
        "id": "KMDJZHTQYX6I",
        "outputId": "95eb4961-6070-49db-de53-7ddc558c3798",
        "colab": {
          "base_uri": "https://localhost:8080/",
          "height": 415
        }
      },
      "source": [
        "lou_enc = LeaveOneOutEncoder(sigma=0.05)\n",
        "lou_enc.fit_transform(df[col_cat],df['Class_enc'])"
      ],
      "execution_count": 96,
      "outputs": [
        {
          "output_type": "execute_result",
          "data": {
            "text/html": [
              "<div>\n",
              "<style scoped>\n",
              "    .dataframe tbody tr th:only-of-type {\n",
              "        vertical-align: middle;\n",
              "    }\n",
              "\n",
              "    .dataframe tbody tr th {\n",
              "        vertical-align: top;\n",
              "    }\n",
              "\n",
              "    .dataframe thead th {\n",
              "        text-align: right;\n",
              "    }\n",
              "</style>\n",
              "<table border=\"1\" class=\"dataframe\">\n",
              "  <thead>\n",
              "    <tr style=\"text-align: right;\">\n",
              "      <th></th>\n",
              "      <th>drinks</th>\n",
              "    </tr>\n",
              "  </thead>\n",
              "  <tbody>\n",
              "    <tr>\n",
              "      <th>1</th>\n",
              "      <td>0.194842</td>\n",
              "    </tr>\n",
              "    <tr>\n",
              "      <th>4</th>\n",
              "      <td>0.182455</td>\n",
              "    </tr>\n",
              "    <tr>\n",
              "      <th>6</th>\n",
              "      <td>0.194632</td>\n",
              "    </tr>\n",
              "    <tr>\n",
              "      <th>8</th>\n",
              "      <td>0.187972</td>\n",
              "    </tr>\n",
              "    <tr>\n",
              "      <th>10</th>\n",
              "      <td>0.141390</td>\n",
              "    </tr>\n",
              "    <tr>\n",
              "      <th>...</th>\n",
              "      <td>...</td>\n",
              "    </tr>\n",
              "    <tr>\n",
              "      <th>59940</th>\n",
              "      <td>0.186762</td>\n",
              "    </tr>\n",
              "    <tr>\n",
              "      <th>59943</th>\n",
              "      <td>0.205560</td>\n",
              "    </tr>\n",
              "    <tr>\n",
              "      <th>59944</th>\n",
              "      <td>0.155299</td>\n",
              "    </tr>\n",
              "    <tr>\n",
              "      <th>59945</th>\n",
              "      <td>0.170656</td>\n",
              "    </tr>\n",
              "    <tr>\n",
              "      <th>59946</th>\n",
              "      <td>0.190273</td>\n",
              "    </tr>\n",
              "  </tbody>\n",
              "</table>\n",
              "<p>38809 rows × 1 columns</p>\n",
              "</div>"
            ],
            "text/plain": [
              "         drinks\n",
              "1      0.194842\n",
              "4      0.182455\n",
              "6      0.194632\n",
              "8      0.187972\n",
              "10     0.141390\n",
              "...         ...\n",
              "59940  0.186762\n",
              "59943  0.205560\n",
              "59944  0.155299\n",
              "59945  0.170656\n",
              "59946  0.190273\n",
              "\n",
              "[38809 rows x 1 columns]"
            ]
          },
          "metadata": {
            "tags": []
          },
          "execution_count": 96
        }
      ]
    },
    {
      "cell_type": "code",
      "metadata": {
        "id": "eKc3F8qEYX9T",
        "outputId": "9ff06987-72ca-4267-ddfa-0266b91c79f8",
        "colab": {
          "base_uri": "https://localhost:8080/"
        }
      },
      "source": [
        "lou_enc.mapping"
      ],
      "execution_count": 97,
      "outputs": [
        {
          "output_type": "execute_result",
          "data": {
            "text/plain": [
              "{'drinks':                    sum  count\n",
              " desperately       36.0    210\n",
              " drinks_missing   217.0   1208\n",
              " not_at_all       319.0   2157\n",
              " often            667.0   3413\n",
              " rarely           677.0   3981\n",
              " socially        5207.0  27521\n",
              " very_often        44.0    319}"
            ]
          },
          "metadata": {
            "tags": []
          },
          "execution_count": 97
        }
      ]
    },
    {
      "cell_type": "code",
      "metadata": {
        "id": "lLeKxXUKYYAa",
        "outputId": "f4e18fb2-f7b9-4ae5-d6ce-d4c2f245abb1",
        "colab": {
          "base_uri": "https://localhost:8080/",
          "height": 415
        }
      },
      "source": [
        "lou_enc = LeaveOneOutEncoder(sigma=0.05)\n",
        "lou_enc.fit_transform(df[col_cat],df['essay_length'])"
      ],
      "execution_count": 98,
      "outputs": [
        {
          "output_type": "execute_result",
          "data": {
            "text/html": [
              "<div>\n",
              "<style scoped>\n",
              "    .dataframe tbody tr th:only-of-type {\n",
              "        vertical-align: middle;\n",
              "    }\n",
              "\n",
              "    .dataframe tbody tr th {\n",
              "        vertical-align: top;\n",
              "    }\n",
              "\n",
              "    .dataframe thead th {\n",
              "        text-align: right;\n",
              "    }\n",
              "</style>\n",
              "<table border=\"1\" class=\"dataframe\">\n",
              "  <thead>\n",
              "    <tr style=\"text-align: right;\">\n",
              "      <th></th>\n",
              "      <th>drinks</th>\n",
              "    </tr>\n",
              "  </thead>\n",
              "  <tbody>\n",
              "    <tr>\n",
              "      <th>1</th>\n",
              "      <td>3.362083</td>\n",
              "    </tr>\n",
              "    <tr>\n",
              "      <th>4</th>\n",
              "      <td>3.361772</td>\n",
              "    </tr>\n",
              "    <tr>\n",
              "      <th>6</th>\n",
              "      <td>3.252471</td>\n",
              "    </tr>\n",
              "    <tr>\n",
              "      <th>8</th>\n",
              "      <td>2.982701</td>\n",
              "    </tr>\n",
              "    <tr>\n",
              "      <th>10</th>\n",
              "      <td>3.344125</td>\n",
              "    </tr>\n",
              "    <tr>\n",
              "      <th>...</th>\n",
              "      <td>...</td>\n",
              "    </tr>\n",
              "    <tr>\n",
              "      <th>59940</th>\n",
              "      <td>3.123251</td>\n",
              "    </tr>\n",
              "    <tr>\n",
              "      <th>59943</th>\n",
              "      <td>3.119482</td>\n",
              "    </tr>\n",
              "    <tr>\n",
              "      <th>59944</th>\n",
              "      <td>3.091538</td>\n",
              "    </tr>\n",
              "    <tr>\n",
              "      <th>59945</th>\n",
              "      <td>3.327391</td>\n",
              "    </tr>\n",
              "    <tr>\n",
              "      <th>59946</th>\n",
              "      <td>2.985308</td>\n",
              "    </tr>\n",
              "  </tbody>\n",
              "</table>\n",
              "<p>38809 rows × 1 columns</p>\n",
              "</div>"
            ],
            "text/plain": [
              "         drinks\n",
              "1      3.362083\n",
              "4      3.361772\n",
              "6      3.252471\n",
              "8      2.982701\n",
              "10     3.344125\n",
              "...         ...\n",
              "59940  3.123251\n",
              "59943  3.119482\n",
              "59944  3.091538\n",
              "59945  3.327391\n",
              "59946  2.985308\n",
              "\n",
              "[38809 rows x 1 columns]"
            ]
          },
          "metadata": {
            "tags": []
          },
          "execution_count": 98
        }
      ]
    },
    {
      "cell_type": "code",
      "metadata": {
        "id": "lYmXVYfPnBVo",
        "outputId": "210ea871-2156-4917-ca3c-da98f1ae81ba",
        "colab": {
          "base_uri": "https://localhost:8080/"
        }
      },
      "source": [
        "lou_enc.mapping"
      ],
      "execution_count": 99,
      "outputs": [
        {
          "output_type": "execute_result",
          "data": {
            "text/plain": [
              "{'drinks':                          sum  count\n",
              " desperately       645.232955    210\n",
              " drinks_missing   3579.626046   1208\n",
              " not_at_all       6784.635061   2157\n",
              " often           10710.522351   3413\n",
              " rarely          12596.767259   3981\n",
              " socially        86307.461805  27521\n",
              " very_often        930.146539    319}"
            ]
          },
          "metadata": {
            "tags": []
          },
          "execution_count": 99
        }
      ]
    },
    {
      "cell_type": "markdown",
      "metadata": {
        "id": "ZCIDBuHIVvoM"
      },
      "source": [
        "## M-estimate Encoder"
      ]
    },
    {
      "cell_type": "code",
      "metadata": {
        "id": "akkEuspSYZXk"
      },
      "source": [
        "from category_encoders import MEstimateEncoder"
      ],
      "execution_count": 100,
      "outputs": []
    },
    {
      "cell_type": "code",
      "metadata": {
        "id": "Pi5orBe1YZbP",
        "outputId": "1b781767-603a-419d-8a14-186eaf3a0b87",
        "colab": {
          "base_uri": "https://localhost:8080/",
          "height": 485
        }
      },
      "source": [
        "mest_enc = MEstimateEncoder(m=10)\n",
        "mest_enc.fit_transform(df[col_cat],df['Class_enc'])"
      ],
      "execution_count": 102,
      "outputs": [
        {
          "output_type": "stream",
          "text": [
            "/usr/local/lib/python3.7/dist-packages/category_encoders/utils.py:21: FutureWarning:\n",
            "\n",
            "is_categorical is deprecated and will be removed in a future version.  Use is_categorical_dtype instead\n",
            "\n"
          ],
          "name": "stderr"
        },
        {
          "output_type": "execute_result",
          "data": {
            "text/html": [
              "<div>\n",
              "<style scoped>\n",
              "    .dataframe tbody tr th:only-of-type {\n",
              "        vertical-align: middle;\n",
              "    }\n",
              "\n",
              "    .dataframe tbody tr th {\n",
              "        vertical-align: top;\n",
              "    }\n",
              "\n",
              "    .dataframe thead th {\n",
              "        text-align: right;\n",
              "    }\n",
              "</style>\n",
              "<table border=\"1\" class=\"dataframe\">\n",
              "  <thead>\n",
              "    <tr style=\"text-align: right;\">\n",
              "      <th></th>\n",
              "      <th>drinks</th>\n",
              "    </tr>\n",
              "  </thead>\n",
              "  <tbody>\n",
              "    <tr>\n",
              "      <th>1</th>\n",
              "      <td>0.189199</td>\n",
              "    </tr>\n",
              "    <tr>\n",
              "      <th>4</th>\n",
              "      <td>0.189199</td>\n",
              "    </tr>\n",
              "    <tr>\n",
              "      <th>6</th>\n",
              "      <td>0.189199</td>\n",
              "    </tr>\n",
              "    <tr>\n",
              "      <th>8</th>\n",
              "      <td>0.189199</td>\n",
              "    </tr>\n",
              "    <tr>\n",
              "      <th>10</th>\n",
              "      <td>0.148060</td>\n",
              "    </tr>\n",
              "    <tr>\n",
              "      <th>...</th>\n",
              "      <td>...</td>\n",
              "    </tr>\n",
              "    <tr>\n",
              "      <th>59940</th>\n",
              "      <td>0.189199</td>\n",
              "    </tr>\n",
              "    <tr>\n",
              "      <th>59943</th>\n",
              "      <td>0.195398</td>\n",
              "    </tr>\n",
              "    <tr>\n",
              "      <th>59944</th>\n",
              "      <td>0.148060</td>\n",
              "    </tr>\n",
              "    <tr>\n",
              "      <th>59945</th>\n",
              "      <td>0.189199</td>\n",
              "    </tr>\n",
              "    <tr>\n",
              "      <th>59946</th>\n",
              "      <td>0.189199</td>\n",
              "    </tr>\n",
              "  </tbody>\n",
              "</table>\n",
              "<p>38809 rows × 1 columns</p>\n",
              "</div>"
            ],
            "text/plain": [
              "         drinks\n",
              "1      0.189199\n",
              "4      0.189199\n",
              "6      0.189199\n",
              "8      0.189199\n",
              "10     0.148060\n",
              "...         ...\n",
              "59940  0.189199\n",
              "59943  0.195398\n",
              "59944  0.148060\n",
              "59945  0.189199\n",
              "59946  0.189199\n",
              "\n",
              "[38809 rows x 1 columns]"
            ]
          },
          "metadata": {
            "tags": []
          },
          "execution_count": 102
        }
      ]
    },
    {
      "cell_type": "code",
      "metadata": {
        "id": "Q6HkdGZVYZen",
        "outputId": "36c67ae6-1840-4b25-f5eb-1abf5ef95e65",
        "colab": {
          "base_uri": "https://localhost:8080/"
        }
      },
      "source": [
        "mest_enc.mapping"
      ],
      "execution_count": 103,
      "outputs": [
        {
          "output_type": "execute_result",
          "data": {
            "text/plain": [
              "{'drinks': drinks\n",
              "  1    0.189199\n",
              "  2    0.148060\n",
              "  3    0.170094\n",
              "  4    0.195398\n",
              "  5    0.179677\n",
              "  6    0.139352\n",
              "  7    0.172031\n",
              " -1    0.184674\n",
              " -2    0.184674\n",
              " dtype: float64}"
            ]
          },
          "metadata": {
            "tags": []
          },
          "execution_count": 103
        }
      ]
    },
    {
      "cell_type": "code",
      "metadata": {
        "id": "_KVzeQxNYZh3"
      },
      "source": [
        ""
      ],
      "execution_count": 51,
      "outputs": []
    },
    {
      "cell_type": "markdown",
      "metadata": {
        "id": "JTxlXgAIVyTk"
      },
      "source": [
        "## Weight of Evidence Encoder"
      ]
    },
    {
      "cell_type": "code",
      "metadata": {
        "id": "jZ1cl1TyV65K"
      },
      "source": [
        ""
      ],
      "execution_count": 51,
      "outputs": []
    },
    {
      "cell_type": "code",
      "metadata": {
        "id": "W3gBiLN0V_ep"
      },
      "source": [
        ""
      ],
      "execution_count": 51,
      "outputs": []
    },
    {
      "cell_type": "code",
      "metadata": {
        "id": "GIlWJqj0WBAV"
      },
      "source": [
        ""
      ],
      "execution_count": 51,
      "outputs": []
    },
    {
      "cell_type": "code",
      "metadata": {
        "id": "uj68FhWqG59g"
      },
      "source": [
        ""
      ],
      "execution_count": 51,
      "outputs": []
    }
  ]
}