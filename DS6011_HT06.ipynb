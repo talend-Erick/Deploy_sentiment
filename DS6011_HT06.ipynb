{
  "nbformat": 4,
  "nbformat_minor": 0,
  "metadata": {
    "colab": {
      "name": "DS6011_HT06.ipynb",
      "provenance": [],
      "collapsed_sections": []
    },
    "kernelspec": {
      "name": "python3",
      "display_name": "Python 3"
    },
    "language_info": {
      "name": "python"
    }
  },
  "cells": [
    {
      "cell_type": "markdown",
      "metadata": {
        "id": "saaO06RMwzGH"
      },
      "source": [
        "# Hoja de Trabajo \\# 6\n",
        "\n",
        "\n",
        "---\n",
        "\n",
        "\n",
        "por Josué Obregón <br>\n",
        "DS6011 - Feature Engineering <br>\n",
        "UVG Masters - Escuela de Negocios<br>\n"
      ]
    },
    {
      "cell_type": "markdown",
      "metadata": {
        "id": "w0-nImUHNxOv"
      },
      "source": [
        "## Objetivos\n",
        "\n",
        "El objetivo de esta hoja de trabajo  es presentar al estudiante diferentes técnicas selección de atributos.\n",
        "\n",
        "También se busca que el estudiante practique la utilización de éstas técnicas con las librerías disponibles en el lenguaje Python."
      ]
    },
    {
      "cell_type": "markdown",
      "metadata": {
        "id": "RYjZ_KEuTCTe"
      },
      "source": [
        "## Importación de librerías y carga de los datos\n",
        "\n",
        "Las librerías que importaremos para empezar son pandas y numpy para el manejo de los datos, y matplotlib, seaborn y plotly para la generación de visualizaciones. \n",
        "\n"
      ]
    },
    {
      "cell_type": "markdown",
      "metadata": {
        "id": "3xWTzcgYiK33"
      },
      "source": [
        "Primero hacemos un update a scikit-learn para poder utilizar la versión mas reciente"
      ]
    },
    {
      "cell_type": "code",
      "metadata": {
        "id": "E01KAqxVh-G2",
        "outputId": "d800ba21-847b-4d41-d90a-ad7e4c7568f6",
        "colab": {
          "base_uri": "https://localhost:8080/"
        }
      },
      "source": [
        "!pip install --upgrade scikit-learn"
      ],
      "execution_count": 1,
      "outputs": [
        {
          "output_type": "stream",
          "text": [
            "Collecting scikit-learn\n",
            "\u001b[?25l  Downloading https://files.pythonhosted.org/packages/a8/eb/a48f25c967526b66d5f1fa7a984594f0bf0a5afafa94a8c4dbc317744620/scikit_learn-0.24.2-cp37-cp37m-manylinux2010_x86_64.whl (22.3MB)\n",
            "\u001b[K     |████████████████████████████████| 22.3MB 4.5MB/s \n",
            "\u001b[?25hCollecting threadpoolctl>=2.0.0\n",
            "  Downloading https://files.pythonhosted.org/packages/f7/12/ec3f2e203afa394a149911729357aa48affc59c20e2c1c8297a60f33f133/threadpoolctl-2.1.0-py3-none-any.whl\n",
            "Requirement already satisfied, skipping upgrade: joblib>=0.11 in /usr/local/lib/python3.7/dist-packages (from scikit-learn) (1.0.1)\n",
            "Requirement already satisfied, skipping upgrade: scipy>=0.19.1 in /usr/local/lib/python3.7/dist-packages (from scikit-learn) (1.4.1)\n",
            "Requirement already satisfied, skipping upgrade: numpy>=1.13.3 in /usr/local/lib/python3.7/dist-packages (from scikit-learn) (1.19.5)\n",
            "Installing collected packages: threadpoolctl, scikit-learn\n",
            "  Found existing installation: scikit-learn 0.22.2.post1\n",
            "    Uninstalling scikit-learn-0.22.2.post1:\n",
            "      Successfully uninstalled scikit-learn-0.22.2.post1\n",
            "Successfully installed scikit-learn-0.24.2 threadpoolctl-2.1.0\n"
          ],
          "name": "stdout"
        }
      ]
    },
    {
      "cell_type": "code",
      "metadata": {
        "id": "EoXELFC48mlh"
      },
      "source": [
        "import pandas as pd\n",
        "import numpy as np\n",
        "import matplotlib.pyplot as plt\n",
        "import seaborn as sns\n",
        "import plotly.express as px\n",
        "import plotly.graph_objects as go"
      ],
      "execution_count": 2,
      "outputs": []
    },
    {
      "cell_type": "markdown",
      "metadata": {
        "id": "D2RN6ldfA9Mb"
      },
      "source": [
        "### Cargando los datos"
      ]
    },
    {
      "cell_type": "code",
      "metadata": {
        "id": "U1qfjKMGBAyj"
      },
      "source": [
        "from sklearn.datasets import fetch_openml\n",
        "from sklearn.preprocessing import LabelEncoder\n",
        "from sklearn.model_selection import train_test_split"
      ],
      "execution_count": 3,
      "outputs": []
    },
    {
      "cell_type": "code",
      "metadata": {
        "id": "xSUrDnSQBFoe"
      },
      "source": [
        "credit_g =  fetch_openml('credit-g') # https://www.openml.org/t/31"
      ],
      "execution_count": 4,
      "outputs": []
    },
    {
      "cell_type": "code",
      "metadata": {
        "id": "5SQfRjhbBhal",
        "outputId": "61ea8edb-618e-48a4-9094-94d500577585",
        "colab": {
          "base_uri": "https://localhost:8080/"
        }
      },
      "source": [
        "credit_g.keys()"
      ],
      "execution_count": 5,
      "outputs": [
        {
          "output_type": "execute_result",
          "data": {
            "text/plain": [
              "dict_keys(['data', 'target', 'frame', 'categories', 'feature_names', 'target_names', 'DESCR', 'details', 'url'])"
            ]
          },
          "metadata": {
            "tags": []
          },
          "execution_count": 5
        }
      ]
    },
    {
      "cell_type": "code",
      "metadata": {
        "id": "kYdAx40dBFrS",
        "outputId": "f7ca82e7-8224-4e11-e02f-f967d28d86f0",
        "colab": {
          "base_uri": "https://localhost:8080/"
        }
      },
      "source": [
        "print(credit_g['DESCR'])"
      ],
      "execution_count": 6,
      "outputs": [
        {
          "output_type": "stream",
          "text": [
            "**Author**: Dr. Hans Hofmann  \n",
            "**Source**: [UCI](https://archive.ics.uci.edu/ml/datasets/statlog+(german+credit+data)) - 1994    \n",
            "**Please cite**: [UCI](https://archive.ics.uci.edu/ml/citation_policy.html)\n",
            "\n",
            "**German Credit dataset**  \n",
            "This dataset classifies people described by a set of attributes as good or bad credit risks.\n",
            "\n",
            "This dataset comes with a cost matrix: \n",
            "``` \n",
            "Good  Bad (predicted)  \n",
            "Good   0    1   (actual)  \n",
            "Bad    5    0  \n",
            "```\n",
            "\n",
            "It is worse to class a customer as good when they are bad (5), than it is to class a customer as bad when they are good (1).  \n",
            "\n",
            "### Attribute description  \n",
            "\n",
            "1. Status of existing checking account, in Deutsche Mark.  \n",
            "2. Duration in months  \n",
            "3. Credit history (credits taken, paid back duly, delays, critical accounts)  \n",
            "4. Purpose of the credit (car, television,...)  \n",
            "5. Credit amount  \n",
            "6. Status of savings account/bonds, in Deutsche Mark.  \n",
            "7. Present employment, in number of years.  \n",
            "8. Installment rate in percentage of disposable income  \n",
            "9. Personal status (married, single,...) and sex  \n",
            "10. Other debtors / guarantors  \n",
            "11. Present residence since X years  \n",
            "12. Property (e.g. real estate)  \n",
            "13. Age in years  \n",
            "14. Other installment plans (banks, stores)  \n",
            "15. Housing (rent, own,...)  \n",
            "16. Number of existing credits at this bank  \n",
            "17. Job  \n",
            "18. Number of people being liable to provide maintenance for  \n",
            "19. Telephone (yes,no)  \n",
            "20. Foreign worker (yes,no)\n",
            "\n",
            "Downloaded from openml.org.\n"
          ],
          "name": "stdout"
        }
      ]
    },
    {
      "cell_type": "code",
      "metadata": {
        "id": "aLbwlg78BFts",
        "outputId": "85399c65-4612-4877-bbb1-d15657c8fc70",
        "colab": {
          "base_uri": "https://localhost:8080/",
          "height": 291
        }
      },
      "source": [
        "df_credit = credit_g['data']\n",
        "lbl_enc = LabelEncoder()\n",
        "df_credit['class']= lbl_enc.fit_transform(credit_g['target'])\n",
        "df_credit.head()"
      ],
      "execution_count": 7,
      "outputs": [
        {
          "output_type": "execute_result",
          "data": {
            "text/html": [
              "<div>\n",
              "<style scoped>\n",
              "    .dataframe tbody tr th:only-of-type {\n",
              "        vertical-align: middle;\n",
              "    }\n",
              "\n",
              "    .dataframe tbody tr th {\n",
              "        vertical-align: top;\n",
              "    }\n",
              "\n",
              "    .dataframe thead th {\n",
              "        text-align: right;\n",
              "    }\n",
              "</style>\n",
              "<table border=\"1\" class=\"dataframe\">\n",
              "  <thead>\n",
              "    <tr style=\"text-align: right;\">\n",
              "      <th></th>\n",
              "      <th>checking_status</th>\n",
              "      <th>duration</th>\n",
              "      <th>credit_history</th>\n",
              "      <th>purpose</th>\n",
              "      <th>credit_amount</th>\n",
              "      <th>savings_status</th>\n",
              "      <th>employment</th>\n",
              "      <th>installment_commitment</th>\n",
              "      <th>personal_status</th>\n",
              "      <th>other_parties</th>\n",
              "      <th>residence_since</th>\n",
              "      <th>property_magnitude</th>\n",
              "      <th>age</th>\n",
              "      <th>other_payment_plans</th>\n",
              "      <th>housing</th>\n",
              "      <th>existing_credits</th>\n",
              "      <th>job</th>\n",
              "      <th>num_dependents</th>\n",
              "      <th>own_telephone</th>\n",
              "      <th>foreign_worker</th>\n",
              "      <th>class</th>\n",
              "    </tr>\n",
              "  </thead>\n",
              "  <tbody>\n",
              "    <tr>\n",
              "      <th>0</th>\n",
              "      <td>&lt;0</td>\n",
              "      <td>6.0</td>\n",
              "      <td>critical/other existing credit</td>\n",
              "      <td>radio/tv</td>\n",
              "      <td>1169.0</td>\n",
              "      <td>no known savings</td>\n",
              "      <td>&gt;=7</td>\n",
              "      <td>4.0</td>\n",
              "      <td>male single</td>\n",
              "      <td>none</td>\n",
              "      <td>4.0</td>\n",
              "      <td>real estate</td>\n",
              "      <td>67.0</td>\n",
              "      <td>none</td>\n",
              "      <td>own</td>\n",
              "      <td>2.0</td>\n",
              "      <td>skilled</td>\n",
              "      <td>1.0</td>\n",
              "      <td>yes</td>\n",
              "      <td>yes</td>\n",
              "      <td>1</td>\n",
              "    </tr>\n",
              "    <tr>\n",
              "      <th>1</th>\n",
              "      <td>0&lt;=X&lt;200</td>\n",
              "      <td>48.0</td>\n",
              "      <td>existing paid</td>\n",
              "      <td>radio/tv</td>\n",
              "      <td>5951.0</td>\n",
              "      <td>&lt;100</td>\n",
              "      <td>1&lt;=X&lt;4</td>\n",
              "      <td>2.0</td>\n",
              "      <td>female div/dep/mar</td>\n",
              "      <td>none</td>\n",
              "      <td>2.0</td>\n",
              "      <td>real estate</td>\n",
              "      <td>22.0</td>\n",
              "      <td>none</td>\n",
              "      <td>own</td>\n",
              "      <td>1.0</td>\n",
              "      <td>skilled</td>\n",
              "      <td>1.0</td>\n",
              "      <td>none</td>\n",
              "      <td>yes</td>\n",
              "      <td>0</td>\n",
              "    </tr>\n",
              "    <tr>\n",
              "      <th>2</th>\n",
              "      <td>no checking</td>\n",
              "      <td>12.0</td>\n",
              "      <td>critical/other existing credit</td>\n",
              "      <td>education</td>\n",
              "      <td>2096.0</td>\n",
              "      <td>&lt;100</td>\n",
              "      <td>4&lt;=X&lt;7</td>\n",
              "      <td>2.0</td>\n",
              "      <td>male single</td>\n",
              "      <td>none</td>\n",
              "      <td>3.0</td>\n",
              "      <td>real estate</td>\n",
              "      <td>49.0</td>\n",
              "      <td>none</td>\n",
              "      <td>own</td>\n",
              "      <td>1.0</td>\n",
              "      <td>unskilled resident</td>\n",
              "      <td>2.0</td>\n",
              "      <td>none</td>\n",
              "      <td>yes</td>\n",
              "      <td>1</td>\n",
              "    </tr>\n",
              "    <tr>\n",
              "      <th>3</th>\n",
              "      <td>&lt;0</td>\n",
              "      <td>42.0</td>\n",
              "      <td>existing paid</td>\n",
              "      <td>furniture/equipment</td>\n",
              "      <td>7882.0</td>\n",
              "      <td>&lt;100</td>\n",
              "      <td>4&lt;=X&lt;7</td>\n",
              "      <td>2.0</td>\n",
              "      <td>male single</td>\n",
              "      <td>guarantor</td>\n",
              "      <td>4.0</td>\n",
              "      <td>life insurance</td>\n",
              "      <td>45.0</td>\n",
              "      <td>none</td>\n",
              "      <td>for free</td>\n",
              "      <td>1.0</td>\n",
              "      <td>skilled</td>\n",
              "      <td>2.0</td>\n",
              "      <td>none</td>\n",
              "      <td>yes</td>\n",
              "      <td>1</td>\n",
              "    </tr>\n",
              "    <tr>\n",
              "      <th>4</th>\n",
              "      <td>&lt;0</td>\n",
              "      <td>24.0</td>\n",
              "      <td>delayed previously</td>\n",
              "      <td>new car</td>\n",
              "      <td>4870.0</td>\n",
              "      <td>&lt;100</td>\n",
              "      <td>1&lt;=X&lt;4</td>\n",
              "      <td>3.0</td>\n",
              "      <td>male single</td>\n",
              "      <td>none</td>\n",
              "      <td>4.0</td>\n",
              "      <td>no known property</td>\n",
              "      <td>53.0</td>\n",
              "      <td>none</td>\n",
              "      <td>for free</td>\n",
              "      <td>2.0</td>\n",
              "      <td>skilled</td>\n",
              "      <td>2.0</td>\n",
              "      <td>none</td>\n",
              "      <td>yes</td>\n",
              "      <td>0</td>\n",
              "    </tr>\n",
              "  </tbody>\n",
              "</table>\n",
              "</div>"
            ],
            "text/plain": [
              "  checking_status  duration  ... foreign_worker class\n",
              "0              <0       6.0  ...            yes     1\n",
              "1        0<=X<200      48.0  ...            yes     0\n",
              "2     no checking      12.0  ...            yes     1\n",
              "3              <0      42.0  ...            yes     1\n",
              "4              <0      24.0  ...            yes     0\n",
              "\n",
              "[5 rows x 21 columns]"
            ]
          },
          "metadata": {
            "tags": []
          },
          "execution_count": 7
        }
      ]
    },
    {
      "cell_type": "markdown",
      "metadata": {
        "id": "35BTVieVKnBm"
      },
      "source": [
        "Generamos el conjunto de datos de entrenamiento y el de prueba"
      ]
    },
    {
      "cell_type": "code",
      "metadata": {
        "id": "U4Zj1Ex6KKgM",
        "outputId": "5f4779f6-dd0a-4eed-c1d8-9efcfe8a366b",
        "colab": {
          "base_uri": "https://localhost:8080/"
        }
      },
      "source": [
        "X_train, X_test, y_train, y_test = train_test_split(df_credit.drop(['class'],axis=1),df_credit['class'],train_size=0.80, random_state=6011, shuffle=True)\n",
        "print(X_train.shape)\n",
        "print(y_train.shape)\n",
        "print(X_test.shape)\n",
        "print(y_test.shape)"
      ],
      "execution_count": 8,
      "outputs": [
        {
          "output_type": "stream",
          "text": [
            "(800, 20)\n",
            "(800,)\n",
            "(200, 20)\n",
            "(200,)\n"
          ],
          "name": "stdout"
        }
      ]
    },
    {
      "cell_type": "markdown",
      "metadata": {
        "id": "3vtAGMPVIgp6"
      },
      "source": [
        "#### Codificando variables categóricas"
      ]
    },
    {
      "cell_type": "code",
      "metadata": {
        "id": "aJpOmmoqdQyM",
        "outputId": "1b678a0c-4702-438d-8d35-41e0712ee04c",
        "colab": {
          "base_uri": "https://localhost:8080/"
        }
      },
      "source": [
        "!pip install category_encoders"
      ],
      "execution_count": 9,
      "outputs": [
        {
          "output_type": "stream",
          "text": [
            "Collecting category_encoders\n",
            "\u001b[?25l  Downloading https://files.pythonhosted.org/packages/44/57/fcef41c248701ee62e8325026b90c432adea35555cbc870aff9cfba23727/category_encoders-2.2.2-py2.py3-none-any.whl (80kB)\n",
            "\r\u001b[K     |████                            | 10kB 13.6MB/s eta 0:00:01\r\u001b[K     |████████▏                       | 20kB 18.3MB/s eta 0:00:01\r\u001b[K     |████████████▏                   | 30kB 15.2MB/s eta 0:00:01\r\u001b[K     |████████████████▎               | 40kB 10.9MB/s eta 0:00:01\r\u001b[K     |████████████████████▎           | 51kB 9.9MB/s eta 0:00:01\r\u001b[K     |████████████████████████▍       | 61kB 11.5MB/s eta 0:00:01\r\u001b[K     |████████████████████████████▍   | 71kB 8.5MB/s eta 0:00:01\r\u001b[K     |████████████████████████████████| 81kB 5.3MB/s \n",
            "\u001b[?25hRequirement already satisfied: scikit-learn>=0.20.0 in /usr/local/lib/python3.7/dist-packages (from category_encoders) (0.24.2)\n",
            "Requirement already satisfied: numpy>=1.14.0 in /usr/local/lib/python3.7/dist-packages (from category_encoders) (1.19.5)\n",
            "Requirement already satisfied: pandas>=0.21.1 in /usr/local/lib/python3.7/dist-packages (from category_encoders) (1.1.5)\n",
            "Requirement already satisfied: patsy>=0.5.1 in /usr/local/lib/python3.7/dist-packages (from category_encoders) (0.5.1)\n",
            "Requirement already satisfied: scipy>=1.0.0 in /usr/local/lib/python3.7/dist-packages (from category_encoders) (1.4.1)\n",
            "Requirement already satisfied: statsmodels>=0.9.0 in /usr/local/lib/python3.7/dist-packages (from category_encoders) (0.10.2)\n",
            "Requirement already satisfied: threadpoolctl>=2.0.0 in /usr/local/lib/python3.7/dist-packages (from scikit-learn>=0.20.0->category_encoders) (2.1.0)\n",
            "Requirement already satisfied: joblib>=0.11 in /usr/local/lib/python3.7/dist-packages (from scikit-learn>=0.20.0->category_encoders) (1.0.1)\n",
            "Requirement already satisfied: pytz>=2017.2 in /usr/local/lib/python3.7/dist-packages (from pandas>=0.21.1->category_encoders) (2018.9)\n",
            "Requirement already satisfied: python-dateutil>=2.7.3 in /usr/local/lib/python3.7/dist-packages (from pandas>=0.21.1->category_encoders) (2.8.1)\n",
            "Requirement already satisfied: six in /usr/local/lib/python3.7/dist-packages (from patsy>=0.5.1->category_encoders) (1.15.0)\n",
            "Installing collected packages: category-encoders\n",
            "Successfully installed category-encoders-2.2.2\n"
          ],
          "name": "stdout"
        }
      ]
    },
    {
      "cell_type": "code",
      "metadata": {
        "id": "DPjxMGjDdV0k",
        "outputId": "ca7dd559-6873-49db-d380-3446ecd415ac",
        "colab": {
          "base_uri": "https://localhost:8080/"
        }
      },
      "source": [
        "from category_encoders import MEstimateEncoder"
      ],
      "execution_count": 10,
      "outputs": [
        {
          "output_type": "stream",
          "text": [
            "/usr/local/lib/python3.7/dist-packages/statsmodels/tools/_testing.py:19: FutureWarning:\n",
            "\n",
            "pandas.util.testing is deprecated. Use the functions in the public API at pandas.testing instead.\n",
            "\n"
          ],
          "name": "stderr"
        }
      ]
    },
    {
      "cell_type": "code",
      "metadata": {
        "id": "kJCDGOZ_EJnu"
      },
      "source": [
        "cat_cols = ['checking_status','credit_history','purpose','savings_status','employment','personal_status','other_parties','residence_since','property_magnitude','other_payment_plans','housing','job','own_telephone','foreign_worker']"
      ],
      "execution_count": 11,
      "outputs": []
    },
    {
      "cell_type": "code",
      "metadata": {
        "id": "pdO125jHdcsY"
      },
      "source": [
        "mest_enc = MEstimateEncoder( cols=cat_cols)"
      ],
      "execution_count": 12,
      "outputs": []
    },
    {
      "cell_type": "code",
      "metadata": {
        "id": "16qqaIGteC-A",
        "outputId": "b6befd20-41a0-4550-dfd1-b0b80006e6d6",
        "colab": {
          "base_uri": "https://localhost:8080/"
        }
      },
      "source": [
        "X_train_cod1 = mest_enc.fit_transform(X_train, y_train)"
      ],
      "execution_count": 13,
      "outputs": [
        {
          "output_type": "stream",
          "text": [
            "/usr/local/lib/python3.7/dist-packages/category_encoders/utils.py:21: FutureWarning:\n",
            "\n",
            "is_categorical is deprecated and will be removed in a future version.  Use is_categorical_dtype instead\n",
            "\n"
          ],
          "name": "stderr"
        }
      ]
    },
    {
      "cell_type": "code",
      "metadata": {
        "id": "phDz1BK0eDAy",
        "outputId": "a086eb1d-2851-4d68-de08-d6319c374132",
        "colab": {
          "base_uri": "https://localhost:8080/",
          "height": 435
        }
      },
      "source": [
        "X_train_cod1"
      ],
      "execution_count": 14,
      "outputs": [
        {
          "output_type": "execute_result",
          "data": {
            "text/html": [
              "<div>\n",
              "<style scoped>\n",
              "    .dataframe tbody tr th:only-of-type {\n",
              "        vertical-align: middle;\n",
              "    }\n",
              "\n",
              "    .dataframe tbody tr th {\n",
              "        vertical-align: top;\n",
              "    }\n",
              "\n",
              "    .dataframe thead th {\n",
              "        text-align: right;\n",
              "    }\n",
              "</style>\n",
              "<table border=\"1\" class=\"dataframe\">\n",
              "  <thead>\n",
              "    <tr style=\"text-align: right;\">\n",
              "      <th></th>\n",
              "      <th>checking_status</th>\n",
              "      <th>duration</th>\n",
              "      <th>credit_history</th>\n",
              "      <th>purpose</th>\n",
              "      <th>credit_amount</th>\n",
              "      <th>savings_status</th>\n",
              "      <th>employment</th>\n",
              "      <th>installment_commitment</th>\n",
              "      <th>personal_status</th>\n",
              "      <th>other_parties</th>\n",
              "      <th>residence_since</th>\n",
              "      <th>property_magnitude</th>\n",
              "      <th>age</th>\n",
              "      <th>other_payment_plans</th>\n",
              "      <th>housing</th>\n",
              "      <th>existing_credits</th>\n",
              "      <th>job</th>\n",
              "      <th>num_dependents</th>\n",
              "      <th>own_telephone</th>\n",
              "      <th>foreign_worker</th>\n",
              "    </tr>\n",
              "  </thead>\n",
              "  <tbody>\n",
              "    <tr>\n",
              "      <th>621</th>\n",
              "      <td>0.874023</td>\n",
              "      <td>18.0</td>\n",
              "      <td>0.824947</td>\n",
              "      <td>0.607955</td>\n",
              "      <td>1530.0</td>\n",
              "      <td>0.622500</td>\n",
              "      <td>0.683036</td>\n",
              "      <td>3.0</td>\n",
              "      <td>0.723900</td>\n",
              "      <td>0.688523</td>\n",
              "      <td>0.672262</td>\n",
              "      <td>0.672126</td>\n",
              "      <td>32.0</td>\n",
              "      <td>0.568638</td>\n",
              "      <td>0.724373</td>\n",
              "      <td>2.0</td>\n",
              "      <td>0.692749</td>\n",
              "      <td>1.0</td>\n",
              "      <td>0.674349</td>\n",
              "      <td>0.680114</td>\n",
              "    </tr>\n",
              "    <tr>\n",
              "      <th>199</th>\n",
              "      <td>0.611944</td>\n",
              "      <td>18.0</td>\n",
              "      <td>0.671875</td>\n",
              "      <td>0.679789</td>\n",
              "      <td>4297.0</td>\n",
              "      <td>0.622500</td>\n",
              "      <td>0.737377</td>\n",
              "      <td>4.0</td>\n",
              "      <td>0.597384</td>\n",
              "      <td>0.688523</td>\n",
              "      <td>0.709500</td>\n",
              "      <td>0.550305</td>\n",
              "      <td>40.0</td>\n",
              "      <td>0.712270</td>\n",
              "      <td>0.724373</td>\n",
              "      <td>1.0</td>\n",
              "      <td>0.629808</td>\n",
              "      <td>1.0</td>\n",
              "      <td>0.707104</td>\n",
              "      <td>0.680114</td>\n",
              "    </tr>\n",
              "    <tr>\n",
              "      <th>360</th>\n",
              "      <td>0.611944</td>\n",
              "      <td>18.0</td>\n",
              "      <td>0.663586</td>\n",
              "      <td>0.556090</td>\n",
              "      <td>1239.0</td>\n",
              "      <td>0.803272</td>\n",
              "      <td>0.683036</td>\n",
              "      <td>4.0</td>\n",
              "      <td>0.723900</td>\n",
              "      <td>0.688523</td>\n",
              "      <td>0.681835</td>\n",
              "      <td>0.550305</td>\n",
              "      <td>61.0</td>\n",
              "      <td>0.712270</td>\n",
              "      <td>0.586596</td>\n",
              "      <td>1.0</td>\n",
              "      <td>0.692749</td>\n",
              "      <td>1.0</td>\n",
              "      <td>0.674349</td>\n",
              "      <td>0.680114</td>\n",
              "    </tr>\n",
              "    <tr>\n",
              "      <th>65</th>\n",
              "      <td>0.874023</td>\n",
              "      <td>27.0</td>\n",
              "      <td>0.663586</td>\n",
              "      <td>0.634375</td>\n",
              "      <td>5190.0</td>\n",
              "      <td>0.803272</td>\n",
              "      <td>0.737377</td>\n",
              "      <td>4.0</td>\n",
              "      <td>0.723900</td>\n",
              "      <td>0.688523</td>\n",
              "      <td>0.681835</td>\n",
              "      <td>0.672126</td>\n",
              "      <td>48.0</td>\n",
              "      <td>0.712270</td>\n",
              "      <td>0.724373</td>\n",
              "      <td>4.0</td>\n",
              "      <td>0.692749</td>\n",
              "      <td>2.0</td>\n",
              "      <td>0.707104</td>\n",
              "      <td>0.680114</td>\n",
              "    </tr>\n",
              "    <tr>\n",
              "      <th>981</th>\n",
              "      <td>0.874023</td>\n",
              "      <td>48.0</td>\n",
              "      <td>0.663586</td>\n",
              "      <td>0.638117</td>\n",
              "      <td>4844.0</td>\n",
              "      <td>0.622500</td>\n",
              "      <td>0.593750</td>\n",
              "      <td>3.0</td>\n",
              "      <td>0.723900</td>\n",
              "      <td>0.688523</td>\n",
              "      <td>0.672262</td>\n",
              "      <td>0.679136</td>\n",
              "      <td>33.0</td>\n",
              "      <td>0.568638</td>\n",
              "      <td>0.596391</td>\n",
              "      <td>1.0</td>\n",
              "      <td>0.629808</td>\n",
              "      <td>1.0</td>\n",
              "      <td>0.707104</td>\n",
              "      <td>0.680114</td>\n",
              "    </tr>\n",
              "    <tr>\n",
              "      <th>...</th>\n",
              "      <td>...</td>\n",
              "      <td>...</td>\n",
              "      <td>...</td>\n",
              "      <td>...</td>\n",
              "      <td>...</td>\n",
              "      <td>...</td>\n",
              "      <td>...</td>\n",
              "      <td>...</td>\n",
              "      <td>...</td>\n",
              "      <td>...</td>\n",
              "      <td>...</td>\n",
              "      <td>...</td>\n",
              "      <td>...</td>\n",
              "      <td>...</td>\n",
              "      <td>...</td>\n",
              "      <td>...</td>\n",
              "      <td>...</td>\n",
              "      <td>...</td>\n",
              "      <td>...</td>\n",
              "      <td>...</td>\n",
              "    </tr>\n",
              "    <tr>\n",
              "      <th>187</th>\n",
              "      <td>0.611944</td>\n",
              "      <td>16.0</td>\n",
              "      <td>0.824947</td>\n",
              "      <td>0.607955</td>\n",
              "      <td>1175.0</td>\n",
              "      <td>0.622500</td>\n",
              "      <td>0.593750</td>\n",
              "      <td>2.0</td>\n",
              "      <td>0.723900</td>\n",
              "      <td>0.688523</td>\n",
              "      <td>0.709500</td>\n",
              "      <td>0.679136</td>\n",
              "      <td>68.0</td>\n",
              "      <td>0.712270</td>\n",
              "      <td>0.586596</td>\n",
              "      <td>3.0</td>\n",
              "      <td>0.593750</td>\n",
              "      <td>1.0</td>\n",
              "      <td>0.707104</td>\n",
              "      <td>0.680114</td>\n",
              "    </tr>\n",
              "    <tr>\n",
              "      <th>478</th>\n",
              "      <td>0.611944</td>\n",
              "      <td>12.0</td>\n",
              "      <td>0.663586</td>\n",
              "      <td>0.638117</td>\n",
              "      <td>1037.0</td>\n",
              "      <td>0.681882</td>\n",
              "      <td>0.784052</td>\n",
              "      <td>3.0</td>\n",
              "      <td>0.723900</td>\n",
              "      <td>0.688523</td>\n",
              "      <td>0.681835</td>\n",
              "      <td>0.785278</td>\n",
              "      <td>39.0</td>\n",
              "      <td>0.712270</td>\n",
              "      <td>0.724373</td>\n",
              "      <td>1.0</td>\n",
              "      <td>0.724124</td>\n",
              "      <td>1.0</td>\n",
              "      <td>0.674349</td>\n",
              "      <td>0.680114</td>\n",
              "    </tr>\n",
              "    <tr>\n",
              "      <th>559</th>\n",
              "      <td>0.611944</td>\n",
              "      <td>18.0</td>\n",
              "      <td>0.824947</td>\n",
              "      <td>0.679789</td>\n",
              "      <td>1928.0</td>\n",
              "      <td>0.622500</td>\n",
              "      <td>0.558067</td>\n",
              "      <td>2.0</td>\n",
              "      <td>0.723900</td>\n",
              "      <td>0.688523</td>\n",
              "      <td>0.672262</td>\n",
              "      <td>0.785278</td>\n",
              "      <td>31.0</td>\n",
              "      <td>0.712270</td>\n",
              "      <td>0.724373</td>\n",
              "      <td>2.0</td>\n",
              "      <td>0.724124</td>\n",
              "      <td>1.0</td>\n",
              "      <td>0.674349</td>\n",
              "      <td>0.680114</td>\n",
              "    </tr>\n",
              "    <tr>\n",
              "      <th>305</th>\n",
              "      <td>0.874023</td>\n",
              "      <td>6.0</td>\n",
              "      <td>0.663586</td>\n",
              "      <td>0.679789</td>\n",
              "      <td>1543.0</td>\n",
              "      <td>0.876453</td>\n",
              "      <td>0.683036</td>\n",
              "      <td>4.0</td>\n",
              "      <td>0.597384</td>\n",
              "      <td>0.688523</td>\n",
              "      <td>0.672262</td>\n",
              "      <td>0.785278</td>\n",
              "      <td>33.0</td>\n",
              "      <td>0.712270</td>\n",
              "      <td>0.724373</td>\n",
              "      <td>1.0</td>\n",
              "      <td>0.692749</td>\n",
              "      <td>1.0</td>\n",
              "      <td>0.674349</td>\n",
              "      <td>0.680114</td>\n",
              "    </tr>\n",
              "    <tr>\n",
              "      <th>243</th>\n",
              "      <td>0.874023</td>\n",
              "      <td>12.0</td>\n",
              "      <td>0.824947</td>\n",
              "      <td>0.638117</td>\n",
              "      <td>1185.0</td>\n",
              "      <td>0.622500</td>\n",
              "      <td>0.683036</td>\n",
              "      <td>3.0</td>\n",
              "      <td>0.623214</td>\n",
              "      <td>0.688523</td>\n",
              "      <td>0.672262</td>\n",
              "      <td>0.785278</td>\n",
              "      <td>27.0</td>\n",
              "      <td>0.712270</td>\n",
              "      <td>0.724373</td>\n",
              "      <td>2.0</td>\n",
              "      <td>0.692749</td>\n",
              "      <td>1.0</td>\n",
              "      <td>0.674349</td>\n",
              "      <td>0.680114</td>\n",
              "    </tr>\n",
              "  </tbody>\n",
              "</table>\n",
              "<p>800 rows × 20 columns</p>\n",
              "</div>"
            ],
            "text/plain": [
              "     checking_status  duration  ...  own_telephone  foreign_worker\n",
              "621         0.874023      18.0  ...       0.674349        0.680114\n",
              "199         0.611944      18.0  ...       0.707104        0.680114\n",
              "360         0.611944      18.0  ...       0.674349        0.680114\n",
              "65          0.874023      27.0  ...       0.707104        0.680114\n",
              "981         0.874023      48.0  ...       0.707104        0.680114\n",
              "..               ...       ...  ...            ...             ...\n",
              "187         0.611944      16.0  ...       0.707104        0.680114\n",
              "478         0.611944      12.0  ...       0.674349        0.680114\n",
              "559         0.611944      18.0  ...       0.674349        0.680114\n",
              "305         0.874023       6.0  ...       0.674349        0.680114\n",
              "243         0.874023      12.0  ...       0.674349        0.680114\n",
              "\n",
              "[800 rows x 20 columns]"
            ]
          },
          "metadata": {
            "tags": []
          },
          "execution_count": 14
        }
      ]
    },
    {
      "cell_type": "code",
      "metadata": {
        "id": "L3lsJrKFeh9X",
        "outputId": "362e3edb-cfb6-4ea0-bf9a-de8631b89451",
        "colab": {
          "base_uri": "https://localhost:8080/"
        }
      },
      "source": [
        "mest_enc.mapping"
      ],
      "execution_count": 15,
      "outputs": [
        {
          "output_type": "execute_result",
          "data": {
            "text/plain": [
              "{'checking_status': checking_status\n",
              "  1    0.874023\n",
              "  2    0.611944\n",
              "  3    0.477192\n",
              "  4    0.722656\n",
              " -1    0.687500\n",
              " -2    0.687500\n",
              " dtype: float64, 'credit_history': credit_history\n",
              "  1    0.824947\n",
              "  2    0.671875\n",
              "  3    0.663586\n",
              "  4    0.417187\n",
              "  5    0.391071\n",
              " -1    0.687500\n",
              " -2    0.687500\n",
              " dtype: float64, 'employment': employment\n",
              "  1    0.683036\n",
              "  2    0.737377\n",
              "  3    0.593750\n",
              "  4    0.784052\n",
              "  5    0.558067\n",
              " -1    0.687500\n",
              " -2    0.687500\n",
              " dtype: float64, 'foreign_worker': foreign_worker\n",
              "  1    0.680114\n",
              "  2    0.865234\n",
              " -1    0.687500\n",
              " -2    0.687500\n",
              " dtype: float64, 'housing': housing\n",
              "  1    0.724373\n",
              "  2    0.586596\n",
              "  3    0.596391\n",
              " -1    0.687500\n",
              " -2    0.687500\n",
              " dtype: float64, 'job': job\n",
              "  1    0.692749\n",
              "  2    0.629808\n",
              "  3    0.724124\n",
              "  4    0.593750\n",
              " -1    0.687500\n",
              " -2    0.687500\n",
              " dtype: float64, 'other_parties': other_parties\n",
              "  1    0.688523\n",
              "  2    0.535985\n",
              "  3    0.802365\n",
              " -1    0.687500\n",
              " -2    0.687500\n",
              " dtype: float64, 'other_payment_plans': other_payment_plans\n",
              "  1    0.568638\n",
              "  2    0.712270\n",
              "  3    0.617188\n",
              " -1    0.687500\n",
              " -2    0.687500\n",
              " dtype: float64, 'own_telephone': own_telephone\n",
              "  1    0.674349\n",
              "  2    0.707104\n",
              " -1    0.687500\n",
              " -2    0.687500\n",
              " dtype: float64, 'personal_status': personal_status\n",
              "  1    0.723900\n",
              "  2    0.597384\n",
              "  3    0.735445\n",
              "  4    0.623214\n",
              " -1    0.687500\n",
              " -2    0.687500\n",
              " dtype: float64, 'property_magnitude': property_magnitude\n",
              "  1    0.672126\n",
              "  2    0.550305\n",
              "  3    0.679136\n",
              "  4    0.785278\n",
              " -1    0.687500\n",
              " -2    0.687500\n",
              " dtype: float64, 'purpose': purpose\n",
              "  1     0.607955\n",
              "  2     0.679789\n",
              "  3     0.556090\n",
              "  4     0.634375\n",
              "  5     0.638117\n",
              "  6     0.764895\n",
              "  7     0.810320\n",
              "  8     0.568750\n",
              "  9     0.835938\n",
              "  10    0.607955\n",
              " -1     0.687500\n",
              " -2     0.687500\n",
              " dtype: float64, 'residence_since': residence_since\n",
              "  1    0.672262\n",
              "  2    0.709500\n",
              "  3    0.681835\n",
              "  4    0.714033\n",
              " -1    0.687500\n",
              " -2    0.687500\n",
              " dtype: float64, 'savings_status': savings_status\n",
              "  1    0.622500\n",
              "  2    0.803272\n",
              "  3    0.809949\n",
              "  4    0.681882\n",
              "  5    0.876453\n",
              " -1    0.687500\n",
              " -2    0.687500\n",
              " dtype: float64}"
            ]
          },
          "metadata": {
            "tags": []
          },
          "execution_count": 15
        }
      ]
    },
    {
      "cell_type": "code",
      "metadata": {
        "id": "fvblAl1AgTMn"
      },
      "source": [
        "X_test_cod1 = mest_enc.transform(X_test)"
      ],
      "execution_count": 16,
      "outputs": []
    },
    {
      "cell_type": "code",
      "metadata": {
        "id": "lux5I1vLhRaS"
      },
      "source": [
        "from sklearn.preprocessing import PolynomialFeatures"
      ],
      "execution_count": 17,
      "outputs": []
    },
    {
      "cell_type": "code",
      "metadata": {
        "id": "utS44rR5hVzz"
      },
      "source": [
        "poly_gen = PolynomialFeatures(2)"
      ],
      "execution_count": 18,
      "outputs": []
    },
    {
      "cell_type": "code",
      "metadata": {
        "id": "7lSBa5MmhV2m",
        "outputId": "52b45338-3c56-45e9-f162-19e34d3169da",
        "colab": {
          "base_uri": "https://localhost:8080/"
        }
      },
      "source": [
        "poly_gen.fit_transform(X_train_cod1).shape"
      ],
      "execution_count": 19,
      "outputs": [
        {
          "output_type": "execute_result",
          "data": {
            "text/plain": [
              "(800, 231)"
            ]
          },
          "metadata": {
            "tags": []
          },
          "execution_count": 19
        }
      ]
    },
    {
      "cell_type": "code",
      "metadata": {
        "id": "RB-4q3prhV5y",
        "outputId": "837699b4-6739-4b5d-ebcf-722aeb656d11",
        "colab": {
          "base_uri": "https://localhost:8080/",
          "height": 453
        }
      },
      "source": [
        "X_train_cod = pd.DataFrame(poly_gen.fit_transform(X_train_cod1), columns=poly_gen.get_feature_names() )\n",
        "X_train_cod"
      ],
      "execution_count": 20,
      "outputs": [
        {
          "output_type": "execute_result",
          "data": {
            "text/html": [
              "<div>\n",
              "<style scoped>\n",
              "    .dataframe tbody tr th:only-of-type {\n",
              "        vertical-align: middle;\n",
              "    }\n",
              "\n",
              "    .dataframe tbody tr th {\n",
              "        vertical-align: top;\n",
              "    }\n",
              "\n",
              "    .dataframe thead th {\n",
              "        text-align: right;\n",
              "    }\n",
              "</style>\n",
              "<table border=\"1\" class=\"dataframe\">\n",
              "  <thead>\n",
              "    <tr style=\"text-align: right;\">\n",
              "      <th></th>\n",
              "      <th>1</th>\n",
              "      <th>x0</th>\n",
              "      <th>x1</th>\n",
              "      <th>x2</th>\n",
              "      <th>x3</th>\n",
              "      <th>x4</th>\n",
              "      <th>x5</th>\n",
              "      <th>x6</th>\n",
              "      <th>x7</th>\n",
              "      <th>x8</th>\n",
              "      <th>x9</th>\n",
              "      <th>x10</th>\n",
              "      <th>x11</th>\n",
              "      <th>x12</th>\n",
              "      <th>x13</th>\n",
              "      <th>x14</th>\n",
              "      <th>x15</th>\n",
              "      <th>x16</th>\n",
              "      <th>x17</th>\n",
              "      <th>x18</th>\n",
              "      <th>x19</th>\n",
              "      <th>x0^2</th>\n",
              "      <th>x0 x1</th>\n",
              "      <th>x0 x2</th>\n",
              "      <th>x0 x3</th>\n",
              "      <th>x0 x4</th>\n",
              "      <th>x0 x5</th>\n",
              "      <th>x0 x6</th>\n",
              "      <th>x0 x7</th>\n",
              "      <th>x0 x8</th>\n",
              "      <th>x0 x9</th>\n",
              "      <th>x0 x10</th>\n",
              "      <th>x0 x11</th>\n",
              "      <th>x0 x12</th>\n",
              "      <th>x0 x13</th>\n",
              "      <th>x0 x14</th>\n",
              "      <th>x0 x15</th>\n",
              "      <th>x0 x16</th>\n",
              "      <th>x0 x17</th>\n",
              "      <th>x0 x18</th>\n",
              "      <th>...</th>\n",
              "      <th>x11 x16</th>\n",
              "      <th>x11 x17</th>\n",
              "      <th>x11 x18</th>\n",
              "      <th>x11 x19</th>\n",
              "      <th>x12^2</th>\n",
              "      <th>x12 x13</th>\n",
              "      <th>x12 x14</th>\n",
              "      <th>x12 x15</th>\n",
              "      <th>x12 x16</th>\n",
              "      <th>x12 x17</th>\n",
              "      <th>x12 x18</th>\n",
              "      <th>x12 x19</th>\n",
              "      <th>x13^2</th>\n",
              "      <th>x13 x14</th>\n",
              "      <th>x13 x15</th>\n",
              "      <th>x13 x16</th>\n",
              "      <th>x13 x17</th>\n",
              "      <th>x13 x18</th>\n",
              "      <th>x13 x19</th>\n",
              "      <th>x14^2</th>\n",
              "      <th>x14 x15</th>\n",
              "      <th>x14 x16</th>\n",
              "      <th>x14 x17</th>\n",
              "      <th>x14 x18</th>\n",
              "      <th>x14 x19</th>\n",
              "      <th>x15^2</th>\n",
              "      <th>x15 x16</th>\n",
              "      <th>x15 x17</th>\n",
              "      <th>x15 x18</th>\n",
              "      <th>x15 x19</th>\n",
              "      <th>x16^2</th>\n",
              "      <th>x16 x17</th>\n",
              "      <th>x16 x18</th>\n",
              "      <th>x16 x19</th>\n",
              "      <th>x17^2</th>\n",
              "      <th>x17 x18</th>\n",
              "      <th>x17 x19</th>\n",
              "      <th>x18^2</th>\n",
              "      <th>x18 x19</th>\n",
              "      <th>x19^2</th>\n",
              "    </tr>\n",
              "  </thead>\n",
              "  <tbody>\n",
              "    <tr>\n",
              "      <th>0</th>\n",
              "      <td>1.0</td>\n",
              "      <td>0.874023</td>\n",
              "      <td>18.0</td>\n",
              "      <td>0.824947</td>\n",
              "      <td>0.607955</td>\n",
              "      <td>1530.0</td>\n",
              "      <td>0.622500</td>\n",
              "      <td>0.683036</td>\n",
              "      <td>3.0</td>\n",
              "      <td>0.723900</td>\n",
              "      <td>0.688523</td>\n",
              "      <td>0.672262</td>\n",
              "      <td>0.672126</td>\n",
              "      <td>32.0</td>\n",
              "      <td>0.568638</td>\n",
              "      <td>0.724373</td>\n",
              "      <td>2.0</td>\n",
              "      <td>0.692749</td>\n",
              "      <td>1.0</td>\n",
              "      <td>0.674349</td>\n",
              "      <td>0.680114</td>\n",
              "      <td>0.763917</td>\n",
              "      <td>15.732422</td>\n",
              "      <td>0.721023</td>\n",
              "      <td>0.531367</td>\n",
              "      <td>1337.255859</td>\n",
              "      <td>0.544080</td>\n",
              "      <td>0.596989</td>\n",
              "      <td>2.622070</td>\n",
              "      <td>0.632705</td>\n",
              "      <td>0.601785</td>\n",
              "      <td>0.587573</td>\n",
              "      <td>0.587454</td>\n",
              "      <td>27.968750</td>\n",
              "      <td>0.497003</td>\n",
              "      <td>0.633119</td>\n",
              "      <td>1.748047</td>\n",
              "      <td>0.605479</td>\n",
              "      <td>0.874023</td>\n",
              "      <td>0.589397</td>\n",
              "      <td>...</td>\n",
              "      <td>0.465614</td>\n",
              "      <td>0.672126</td>\n",
              "      <td>0.453247</td>\n",
              "      <td>0.457122</td>\n",
              "      <td>1024.0</td>\n",
              "      <td>18.196429</td>\n",
              "      <td>23.179931</td>\n",
              "      <td>64.0</td>\n",
              "      <td>22.167969</td>\n",
              "      <td>32.0</td>\n",
              "      <td>21.579167</td>\n",
              "      <td>21.763636</td>\n",
              "      <td>0.323350</td>\n",
              "      <td>0.411906</td>\n",
              "      <td>1.137277</td>\n",
              "      <td>0.393924</td>\n",
              "      <td>0.568638</td>\n",
              "      <td>0.383461</td>\n",
              "      <td>0.386739</td>\n",
              "      <td>0.524716</td>\n",
              "      <td>1.448746</td>\n",
              "      <td>0.501809</td>\n",
              "      <td>0.724373</td>\n",
              "      <td>0.488480</td>\n",
              "      <td>0.492656</td>\n",
              "      <td>4.0</td>\n",
              "      <td>1.385498</td>\n",
              "      <td>2.0</td>\n",
              "      <td>1.348698</td>\n",
              "      <td>1.360227</td>\n",
              "      <td>0.479901</td>\n",
              "      <td>0.692749</td>\n",
              "      <td>0.467155</td>\n",
              "      <td>0.471148</td>\n",
              "      <td>1.0</td>\n",
              "      <td>0.674349</td>\n",
              "      <td>0.680114</td>\n",
              "      <td>0.454747</td>\n",
              "      <td>0.458634</td>\n",
              "      <td>0.462555</td>\n",
              "    </tr>\n",
              "    <tr>\n",
              "      <th>1</th>\n",
              "      <td>1.0</td>\n",
              "      <td>0.611944</td>\n",
              "      <td>18.0</td>\n",
              "      <td>0.671875</td>\n",
              "      <td>0.679789</td>\n",
              "      <td>4297.0</td>\n",
              "      <td>0.622500</td>\n",
              "      <td>0.737377</td>\n",
              "      <td>4.0</td>\n",
              "      <td>0.597384</td>\n",
              "      <td>0.688523</td>\n",
              "      <td>0.709500</td>\n",
              "      <td>0.550305</td>\n",
              "      <td>40.0</td>\n",
              "      <td>0.712270</td>\n",
              "      <td>0.724373</td>\n",
              "      <td>1.0</td>\n",
              "      <td>0.629808</td>\n",
              "      <td>1.0</td>\n",
              "      <td>0.707104</td>\n",
              "      <td>0.680114</td>\n",
              "      <td>0.374476</td>\n",
              "      <td>11.015000</td>\n",
              "      <td>0.411150</td>\n",
              "      <td>0.415993</td>\n",
              "      <td>2629.525278</td>\n",
              "      <td>0.380935</td>\n",
              "      <td>0.451234</td>\n",
              "      <td>2.447778</td>\n",
              "      <td>0.365566</td>\n",
              "      <td>0.421338</td>\n",
              "      <td>0.434175</td>\n",
              "      <td>0.336756</td>\n",
              "      <td>24.477778</td>\n",
              "      <td>0.435869</td>\n",
              "      <td>0.443276</td>\n",
              "      <td>0.611944</td>\n",
              "      <td>0.385407</td>\n",
              "      <td>0.611944</td>\n",
              "      <td>0.432708</td>\n",
              "      <td>...</td>\n",
              "      <td>0.346586</td>\n",
              "      <td>0.550305</td>\n",
              "      <td>0.389123</td>\n",
              "      <td>0.374270</td>\n",
              "      <td>1600.0</td>\n",
              "      <td>28.490783</td>\n",
              "      <td>28.974913</td>\n",
              "      <td>40.0</td>\n",
              "      <td>25.192308</td>\n",
              "      <td>40.0</td>\n",
              "      <td>28.284161</td>\n",
              "      <td>27.204545</td>\n",
              "      <td>0.507328</td>\n",
              "      <td>0.515949</td>\n",
              "      <td>0.712270</td>\n",
              "      <td>0.448593</td>\n",
              "      <td>0.712270</td>\n",
              "      <td>0.503649</td>\n",
              "      <td>0.484424</td>\n",
              "      <td>0.524716</td>\n",
              "      <td>0.724373</td>\n",
              "      <td>0.456216</td>\n",
              "      <td>0.724373</td>\n",
              "      <td>0.512207</td>\n",
              "      <td>0.492656</td>\n",
              "      <td>1.0</td>\n",
              "      <td>0.629808</td>\n",
              "      <td>1.0</td>\n",
              "      <td>0.707104</td>\n",
              "      <td>0.680114</td>\n",
              "      <td>0.396658</td>\n",
              "      <td>0.629808</td>\n",
              "      <td>0.445340</td>\n",
              "      <td>0.428341</td>\n",
              "      <td>1.0</td>\n",
              "      <td>0.707104</td>\n",
              "      <td>0.680114</td>\n",
              "      <td>0.499996</td>\n",
              "      <td>0.480911</td>\n",
              "      <td>0.462555</td>\n",
              "    </tr>\n",
              "    <tr>\n",
              "      <th>2</th>\n",
              "      <td>1.0</td>\n",
              "      <td>0.611944</td>\n",
              "      <td>18.0</td>\n",
              "      <td>0.663586</td>\n",
              "      <td>0.556090</td>\n",
              "      <td>1239.0</td>\n",
              "      <td>0.803272</td>\n",
              "      <td>0.683036</td>\n",
              "      <td>4.0</td>\n",
              "      <td>0.723900</td>\n",
              "      <td>0.688523</td>\n",
              "      <td>0.681835</td>\n",
              "      <td>0.550305</td>\n",
              "      <td>61.0</td>\n",
              "      <td>0.712270</td>\n",
              "      <td>0.586596</td>\n",
              "      <td>1.0</td>\n",
              "      <td>0.692749</td>\n",
              "      <td>1.0</td>\n",
              "      <td>0.674349</td>\n",
              "      <td>0.680114</td>\n",
              "      <td>0.374476</td>\n",
              "      <td>11.015000</td>\n",
              "      <td>0.406078</td>\n",
              "      <td>0.340296</td>\n",
              "      <td>758.199167</td>\n",
              "      <td>0.491558</td>\n",
              "      <td>0.417980</td>\n",
              "      <td>2.447778</td>\n",
              "      <td>0.442986</td>\n",
              "      <td>0.421338</td>\n",
              "      <td>0.417245</td>\n",
              "      <td>0.336756</td>\n",
              "      <td>37.328611</td>\n",
              "      <td>0.435869</td>\n",
              "      <td>0.358964</td>\n",
              "      <td>0.611944</td>\n",
              "      <td>0.423924</td>\n",
              "      <td>0.611944</td>\n",
              "      <td>0.412664</td>\n",
              "      <td>...</td>\n",
              "      <td>0.381223</td>\n",
              "      <td>0.550305</td>\n",
              "      <td>0.371098</td>\n",
              "      <td>0.374270</td>\n",
              "      <td>3721.0</td>\n",
              "      <td>43.448445</td>\n",
              "      <td>35.782380</td>\n",
              "      <td>61.0</td>\n",
              "      <td>42.257690</td>\n",
              "      <td>61.0</td>\n",
              "      <td>41.135286</td>\n",
              "      <td>41.486932</td>\n",
              "      <td>0.507328</td>\n",
              "      <td>0.417815</td>\n",
              "      <td>0.712270</td>\n",
              "      <td>0.493424</td>\n",
              "      <td>0.712270</td>\n",
              "      <td>0.480318</td>\n",
              "      <td>0.484424</td>\n",
              "      <td>0.344095</td>\n",
              "      <td>0.586596</td>\n",
              "      <td>0.406364</td>\n",
              "      <td>0.586596</td>\n",
              "      <td>0.395571</td>\n",
              "      <td>0.398952</td>\n",
              "      <td>1.0</td>\n",
              "      <td>0.692749</td>\n",
              "      <td>1.0</td>\n",
              "      <td>0.674349</td>\n",
              "      <td>0.680114</td>\n",
              "      <td>0.479901</td>\n",
              "      <td>0.692749</td>\n",
              "      <td>0.467155</td>\n",
              "      <td>0.471148</td>\n",
              "      <td>1.0</td>\n",
              "      <td>0.674349</td>\n",
              "      <td>0.680114</td>\n",
              "      <td>0.454747</td>\n",
              "      <td>0.458634</td>\n",
              "      <td>0.462555</td>\n",
              "    </tr>\n",
              "    <tr>\n",
              "      <th>3</th>\n",
              "      <td>1.0</td>\n",
              "      <td>0.874023</td>\n",
              "      <td>27.0</td>\n",
              "      <td>0.663586</td>\n",
              "      <td>0.634375</td>\n",
              "      <td>5190.0</td>\n",
              "      <td>0.803272</td>\n",
              "      <td>0.737377</td>\n",
              "      <td>4.0</td>\n",
              "      <td>0.723900</td>\n",
              "      <td>0.688523</td>\n",
              "      <td>0.681835</td>\n",
              "      <td>0.672126</td>\n",
              "      <td>48.0</td>\n",
              "      <td>0.712270</td>\n",
              "      <td>0.724373</td>\n",
              "      <td>4.0</td>\n",
              "      <td>0.692749</td>\n",
              "      <td>2.0</td>\n",
              "      <td>0.707104</td>\n",
              "      <td>0.680114</td>\n",
              "      <td>0.763917</td>\n",
              "      <td>23.598633</td>\n",
              "      <td>0.579989</td>\n",
              "      <td>0.554459</td>\n",
              "      <td>4536.181641</td>\n",
              "      <td>0.702078</td>\n",
              "      <td>0.644485</td>\n",
              "      <td>3.496094</td>\n",
              "      <td>0.632705</td>\n",
              "      <td>0.601785</td>\n",
              "      <td>0.595940</td>\n",
              "      <td>0.587454</td>\n",
              "      <td>41.953125</td>\n",
              "      <td>0.622540</td>\n",
              "      <td>0.633119</td>\n",
              "      <td>3.496094</td>\n",
              "      <td>0.605479</td>\n",
              "      <td>1.748047</td>\n",
              "      <td>0.618026</td>\n",
              "      <td>...</td>\n",
              "      <td>0.465614</td>\n",
              "      <td>1.344251</td>\n",
              "      <td>0.475263</td>\n",
              "      <td>0.457122</td>\n",
              "      <td>2304.0</td>\n",
              "      <td>34.188940</td>\n",
              "      <td>34.769896</td>\n",
              "      <td>192.0</td>\n",
              "      <td>33.251953</td>\n",
              "      <td>96.0</td>\n",
              "      <td>33.940994</td>\n",
              "      <td>32.645455</td>\n",
              "      <td>0.507328</td>\n",
              "      <td>0.515949</td>\n",
              "      <td>2.849078</td>\n",
              "      <td>0.493424</td>\n",
              "      <td>1.424539</td>\n",
              "      <td>0.503649</td>\n",
              "      <td>0.484424</td>\n",
              "      <td>0.524716</td>\n",
              "      <td>2.897491</td>\n",
              "      <td>0.501809</td>\n",
              "      <td>1.448746</td>\n",
              "      <td>0.512207</td>\n",
              "      <td>0.492656</td>\n",
              "      <td>16.0</td>\n",
              "      <td>2.770996</td>\n",
              "      <td>8.0</td>\n",
              "      <td>2.828416</td>\n",
              "      <td>2.720455</td>\n",
              "      <td>0.479901</td>\n",
              "      <td>1.385498</td>\n",
              "      <td>0.489846</td>\n",
              "      <td>0.471148</td>\n",
              "      <td>4.0</td>\n",
              "      <td>1.414208</td>\n",
              "      <td>1.360227</td>\n",
              "      <td>0.499996</td>\n",
              "      <td>0.480911</td>\n",
              "      <td>0.462555</td>\n",
              "    </tr>\n",
              "    <tr>\n",
              "      <th>4</th>\n",
              "      <td>1.0</td>\n",
              "      <td>0.874023</td>\n",
              "      <td>48.0</td>\n",
              "      <td>0.663586</td>\n",
              "      <td>0.638117</td>\n",
              "      <td>4844.0</td>\n",
              "      <td>0.622500</td>\n",
              "      <td>0.593750</td>\n",
              "      <td>3.0</td>\n",
              "      <td>0.723900</td>\n",
              "      <td>0.688523</td>\n",
              "      <td>0.672262</td>\n",
              "      <td>0.679136</td>\n",
              "      <td>33.0</td>\n",
              "      <td>0.568638</td>\n",
              "      <td>0.596391</td>\n",
              "      <td>1.0</td>\n",
              "      <td>0.629808</td>\n",
              "      <td>1.0</td>\n",
              "      <td>0.707104</td>\n",
              "      <td>0.680114</td>\n",
              "      <td>0.763917</td>\n",
              "      <td>41.953125</td>\n",
              "      <td>0.579989</td>\n",
              "      <td>0.557729</td>\n",
              "      <td>4233.769531</td>\n",
              "      <td>0.544080</td>\n",
              "      <td>0.518951</td>\n",
              "      <td>2.622070</td>\n",
              "      <td>0.632705</td>\n",
              "      <td>0.601785</td>\n",
              "      <td>0.587573</td>\n",
              "      <td>0.593581</td>\n",
              "      <td>28.842773</td>\n",
              "      <td>0.497003</td>\n",
              "      <td>0.521260</td>\n",
              "      <td>0.874023</td>\n",
              "      <td>0.550467</td>\n",
              "      <td>0.874023</td>\n",
              "      <td>0.618026</td>\n",
              "      <td>...</td>\n",
              "      <td>0.427725</td>\n",
              "      <td>0.679136</td>\n",
              "      <td>0.480220</td>\n",
              "      <td>0.461889</td>\n",
              "      <td>1089.0</td>\n",
              "      <td>18.765067</td>\n",
              "      <td>19.680898</td>\n",
              "      <td>33.0</td>\n",
              "      <td>20.783654</td>\n",
              "      <td>33.0</td>\n",
              "      <td>23.334433</td>\n",
              "      <td>22.443750</td>\n",
              "      <td>0.323350</td>\n",
              "      <td>0.339131</td>\n",
              "      <td>0.568638</td>\n",
              "      <td>0.358133</td>\n",
              "      <td>0.568638</td>\n",
              "      <td>0.402087</td>\n",
              "      <td>0.386739</td>\n",
              "      <td>0.355682</td>\n",
              "      <td>0.596391</td>\n",
              "      <td>0.375612</td>\n",
              "      <td>0.596391</td>\n",
              "      <td>0.421710</td>\n",
              "      <td>0.405614</td>\n",
              "      <td>1.0</td>\n",
              "      <td>0.629808</td>\n",
              "      <td>1.0</td>\n",
              "      <td>0.707104</td>\n",
              "      <td>0.680114</td>\n",
              "      <td>0.396658</td>\n",
              "      <td>0.629808</td>\n",
              "      <td>0.445340</td>\n",
              "      <td>0.428341</td>\n",
              "      <td>1.0</td>\n",
              "      <td>0.707104</td>\n",
              "      <td>0.680114</td>\n",
              "      <td>0.499996</td>\n",
              "      <td>0.480911</td>\n",
              "      <td>0.462555</td>\n",
              "    </tr>\n",
              "    <tr>\n",
              "      <th>...</th>\n",
              "      <td>...</td>\n",
              "      <td>...</td>\n",
              "      <td>...</td>\n",
              "      <td>...</td>\n",
              "      <td>...</td>\n",
              "      <td>...</td>\n",
              "      <td>...</td>\n",
              "      <td>...</td>\n",
              "      <td>...</td>\n",
              "      <td>...</td>\n",
              "      <td>...</td>\n",
              "      <td>...</td>\n",
              "      <td>...</td>\n",
              "      <td>...</td>\n",
              "      <td>...</td>\n",
              "      <td>...</td>\n",
              "      <td>...</td>\n",
              "      <td>...</td>\n",
              "      <td>...</td>\n",
              "      <td>...</td>\n",
              "      <td>...</td>\n",
              "      <td>...</td>\n",
              "      <td>...</td>\n",
              "      <td>...</td>\n",
              "      <td>...</td>\n",
              "      <td>...</td>\n",
              "      <td>...</td>\n",
              "      <td>...</td>\n",
              "      <td>...</td>\n",
              "      <td>...</td>\n",
              "      <td>...</td>\n",
              "      <td>...</td>\n",
              "      <td>...</td>\n",
              "      <td>...</td>\n",
              "      <td>...</td>\n",
              "      <td>...</td>\n",
              "      <td>...</td>\n",
              "      <td>...</td>\n",
              "      <td>...</td>\n",
              "      <td>...</td>\n",
              "      <td>...</td>\n",
              "      <td>...</td>\n",
              "      <td>...</td>\n",
              "      <td>...</td>\n",
              "      <td>...</td>\n",
              "      <td>...</td>\n",
              "      <td>...</td>\n",
              "      <td>...</td>\n",
              "      <td>...</td>\n",
              "      <td>...</td>\n",
              "      <td>...</td>\n",
              "      <td>...</td>\n",
              "      <td>...</td>\n",
              "      <td>...</td>\n",
              "      <td>...</td>\n",
              "      <td>...</td>\n",
              "      <td>...</td>\n",
              "      <td>...</td>\n",
              "      <td>...</td>\n",
              "      <td>...</td>\n",
              "      <td>...</td>\n",
              "      <td>...</td>\n",
              "      <td>...</td>\n",
              "      <td>...</td>\n",
              "      <td>...</td>\n",
              "      <td>...</td>\n",
              "      <td>...</td>\n",
              "      <td>...</td>\n",
              "      <td>...</td>\n",
              "      <td>...</td>\n",
              "      <td>...</td>\n",
              "      <td>...</td>\n",
              "      <td>...</td>\n",
              "      <td>...</td>\n",
              "      <td>...</td>\n",
              "      <td>...</td>\n",
              "      <td>...</td>\n",
              "      <td>...</td>\n",
              "      <td>...</td>\n",
              "      <td>...</td>\n",
              "      <td>...</td>\n",
              "    </tr>\n",
              "    <tr>\n",
              "      <th>795</th>\n",
              "      <td>1.0</td>\n",
              "      <td>0.611944</td>\n",
              "      <td>16.0</td>\n",
              "      <td>0.824947</td>\n",
              "      <td>0.607955</td>\n",
              "      <td>1175.0</td>\n",
              "      <td>0.622500</td>\n",
              "      <td>0.593750</td>\n",
              "      <td>2.0</td>\n",
              "      <td>0.723900</td>\n",
              "      <td>0.688523</td>\n",
              "      <td>0.709500</td>\n",
              "      <td>0.679136</td>\n",
              "      <td>68.0</td>\n",
              "      <td>0.712270</td>\n",
              "      <td>0.586596</td>\n",
              "      <td>3.0</td>\n",
              "      <td>0.593750</td>\n",
              "      <td>1.0</td>\n",
              "      <td>0.707104</td>\n",
              "      <td>0.680114</td>\n",
              "      <td>0.374476</td>\n",
              "      <td>9.791111</td>\n",
              "      <td>0.504822</td>\n",
              "      <td>0.372034</td>\n",
              "      <td>719.034722</td>\n",
              "      <td>0.380935</td>\n",
              "      <td>0.363342</td>\n",
              "      <td>1.223889</td>\n",
              "      <td>0.442986</td>\n",
              "      <td>0.421338</td>\n",
              "      <td>0.434175</td>\n",
              "      <td>0.415593</td>\n",
              "      <td>41.612222</td>\n",
              "      <td>0.435869</td>\n",
              "      <td>0.358964</td>\n",
              "      <td>1.835833</td>\n",
              "      <td>0.363342</td>\n",
              "      <td>0.611944</td>\n",
              "      <td>0.432708</td>\n",
              "      <td>...</td>\n",
              "      <td>0.403237</td>\n",
              "      <td>0.679136</td>\n",
              "      <td>0.480220</td>\n",
              "      <td>0.461889</td>\n",
              "      <td>4624.0</td>\n",
              "      <td>48.434332</td>\n",
              "      <td>39.888554</td>\n",
              "      <td>204.0</td>\n",
              "      <td>40.375000</td>\n",
              "      <td>68.0</td>\n",
              "      <td>48.083075</td>\n",
              "      <td>46.247727</td>\n",
              "      <td>0.507328</td>\n",
              "      <td>0.417815</td>\n",
              "      <td>2.136809</td>\n",
              "      <td>0.422910</td>\n",
              "      <td>0.712270</td>\n",
              "      <td>0.503649</td>\n",
              "      <td>0.484424</td>\n",
              "      <td>0.344095</td>\n",
              "      <td>1.759789</td>\n",
              "      <td>0.348292</td>\n",
              "      <td>0.586596</td>\n",
              "      <td>0.414785</td>\n",
              "      <td>0.398952</td>\n",
              "      <td>9.0</td>\n",
              "      <td>1.781250</td>\n",
              "      <td>3.0</td>\n",
              "      <td>2.121312</td>\n",
              "      <td>2.040341</td>\n",
              "      <td>0.352539</td>\n",
              "      <td>0.593750</td>\n",
              "      <td>0.419843</td>\n",
              "      <td>0.403817</td>\n",
              "      <td>1.0</td>\n",
              "      <td>0.707104</td>\n",
              "      <td>0.680114</td>\n",
              "      <td>0.499996</td>\n",
              "      <td>0.480911</td>\n",
              "      <td>0.462555</td>\n",
              "    </tr>\n",
              "    <tr>\n",
              "      <th>796</th>\n",
              "      <td>1.0</td>\n",
              "      <td>0.611944</td>\n",
              "      <td>12.0</td>\n",
              "      <td>0.663586</td>\n",
              "      <td>0.638117</td>\n",
              "      <td>1037.0</td>\n",
              "      <td>0.681882</td>\n",
              "      <td>0.784052</td>\n",
              "      <td>3.0</td>\n",
              "      <td>0.723900</td>\n",
              "      <td>0.688523</td>\n",
              "      <td>0.681835</td>\n",
              "      <td>0.785278</td>\n",
              "      <td>39.0</td>\n",
              "      <td>0.712270</td>\n",
              "      <td>0.724373</td>\n",
              "      <td>1.0</td>\n",
              "      <td>0.724124</td>\n",
              "      <td>1.0</td>\n",
              "      <td>0.674349</td>\n",
              "      <td>0.680114</td>\n",
              "      <td>0.374476</td>\n",
              "      <td>7.343333</td>\n",
              "      <td>0.406078</td>\n",
              "      <td>0.390492</td>\n",
              "      <td>634.586389</td>\n",
              "      <td>0.417274</td>\n",
              "      <td>0.479796</td>\n",
              "      <td>1.835833</td>\n",
              "      <td>0.442986</td>\n",
              "      <td>0.421338</td>\n",
              "      <td>0.417245</td>\n",
              "      <td>0.480546</td>\n",
              "      <td>23.865833</td>\n",
              "      <td>0.435869</td>\n",
              "      <td>0.443276</td>\n",
              "      <td>0.611944</td>\n",
              "      <td>0.443124</td>\n",
              "      <td>0.611944</td>\n",
              "      <td>0.412664</td>\n",
              "      <td>...</td>\n",
              "      <td>0.568639</td>\n",
              "      <td>0.785278</td>\n",
              "      <td>0.529551</td>\n",
              "      <td>0.534078</td>\n",
              "      <td>1521.0</td>\n",
              "      <td>27.778514</td>\n",
              "      <td>28.250541</td>\n",
              "      <td>39.0</td>\n",
              "      <td>28.240844</td>\n",
              "      <td>39.0</td>\n",
              "      <td>26.299609</td>\n",
              "      <td>26.524432</td>\n",
              "      <td>0.507328</td>\n",
              "      <td>0.515949</td>\n",
              "      <td>0.712270</td>\n",
              "      <td>0.515772</td>\n",
              "      <td>0.712270</td>\n",
              "      <td>0.480318</td>\n",
              "      <td>0.484424</td>\n",
              "      <td>0.524716</td>\n",
              "      <td>0.724373</td>\n",
              "      <td>0.524536</td>\n",
              "      <td>0.724373</td>\n",
              "      <td>0.488480</td>\n",
              "      <td>0.492656</td>\n",
              "      <td>1.0</td>\n",
              "      <td>0.724124</td>\n",
              "      <td>1.0</td>\n",
              "      <td>0.674349</td>\n",
              "      <td>0.680114</td>\n",
              "      <td>0.524356</td>\n",
              "      <td>0.724124</td>\n",
              "      <td>0.488312</td>\n",
              "      <td>0.492487</td>\n",
              "      <td>1.0</td>\n",
              "      <td>0.674349</td>\n",
              "      <td>0.680114</td>\n",
              "      <td>0.454747</td>\n",
              "      <td>0.458634</td>\n",
              "      <td>0.462555</td>\n",
              "    </tr>\n",
              "    <tr>\n",
              "      <th>797</th>\n",
              "      <td>1.0</td>\n",
              "      <td>0.611944</td>\n",
              "      <td>18.0</td>\n",
              "      <td>0.824947</td>\n",
              "      <td>0.679789</td>\n",
              "      <td>1928.0</td>\n",
              "      <td>0.622500</td>\n",
              "      <td>0.558067</td>\n",
              "      <td>2.0</td>\n",
              "      <td>0.723900</td>\n",
              "      <td>0.688523</td>\n",
              "      <td>0.672262</td>\n",
              "      <td>0.785278</td>\n",
              "      <td>31.0</td>\n",
              "      <td>0.712270</td>\n",
              "      <td>0.724373</td>\n",
              "      <td>2.0</td>\n",
              "      <td>0.724124</td>\n",
              "      <td>1.0</td>\n",
              "      <td>0.674349</td>\n",
              "      <td>0.680114</td>\n",
              "      <td>0.374476</td>\n",
              "      <td>11.015000</td>\n",
              "      <td>0.504822</td>\n",
              "      <td>0.415993</td>\n",
              "      <td>1179.828889</td>\n",
              "      <td>0.380935</td>\n",
              "      <td>0.341506</td>\n",
              "      <td>1.223889</td>\n",
              "      <td>0.442986</td>\n",
              "      <td>0.421338</td>\n",
              "      <td>0.411387</td>\n",
              "      <td>0.480546</td>\n",
              "      <td>18.970278</td>\n",
              "      <td>0.435869</td>\n",
              "      <td>0.443276</td>\n",
              "      <td>1.223889</td>\n",
              "      <td>0.443124</td>\n",
              "      <td>0.611944</td>\n",
              "      <td>0.412664</td>\n",
              "      <td>...</td>\n",
              "      <td>0.568639</td>\n",
              "      <td>0.785278</td>\n",
              "      <td>0.529551</td>\n",
              "      <td>0.534078</td>\n",
              "      <td>961.0</td>\n",
              "      <td>22.080357</td>\n",
              "      <td>22.455558</td>\n",
              "      <td>62.0</td>\n",
              "      <td>22.447850</td>\n",
              "      <td>31.0</td>\n",
              "      <td>20.904818</td>\n",
              "      <td>21.083523</td>\n",
              "      <td>0.507328</td>\n",
              "      <td>0.515949</td>\n",
              "      <td>1.424539</td>\n",
              "      <td>0.515772</td>\n",
              "      <td>0.712270</td>\n",
              "      <td>0.480318</td>\n",
              "      <td>0.484424</td>\n",
              "      <td>0.524716</td>\n",
              "      <td>1.448746</td>\n",
              "      <td>0.524536</td>\n",
              "      <td>0.724373</td>\n",
              "      <td>0.488480</td>\n",
              "      <td>0.492656</td>\n",
              "      <td>4.0</td>\n",
              "      <td>1.448248</td>\n",
              "      <td>2.0</td>\n",
              "      <td>1.348698</td>\n",
              "      <td>1.360227</td>\n",
              "      <td>0.524356</td>\n",
              "      <td>0.724124</td>\n",
              "      <td>0.488312</td>\n",
              "      <td>0.492487</td>\n",
              "      <td>1.0</td>\n",
              "      <td>0.674349</td>\n",
              "      <td>0.680114</td>\n",
              "      <td>0.454747</td>\n",
              "      <td>0.458634</td>\n",
              "      <td>0.462555</td>\n",
              "    </tr>\n",
              "    <tr>\n",
              "      <th>798</th>\n",
              "      <td>1.0</td>\n",
              "      <td>0.874023</td>\n",
              "      <td>6.0</td>\n",
              "      <td>0.663586</td>\n",
              "      <td>0.679789</td>\n",
              "      <td>1543.0</td>\n",
              "      <td>0.876453</td>\n",
              "      <td>0.683036</td>\n",
              "      <td>4.0</td>\n",
              "      <td>0.597384</td>\n",
              "      <td>0.688523</td>\n",
              "      <td>0.672262</td>\n",
              "      <td>0.785278</td>\n",
              "      <td>33.0</td>\n",
              "      <td>0.712270</td>\n",
              "      <td>0.724373</td>\n",
              "      <td>1.0</td>\n",
              "      <td>0.692749</td>\n",
              "      <td>1.0</td>\n",
              "      <td>0.674349</td>\n",
              "      <td>0.680114</td>\n",
              "      <td>0.763917</td>\n",
              "      <td>5.244141</td>\n",
              "      <td>0.579989</td>\n",
              "      <td>0.594151</td>\n",
              "      <td>1348.618164</td>\n",
              "      <td>0.766041</td>\n",
              "      <td>0.596989</td>\n",
              "      <td>3.496094</td>\n",
              "      <td>0.522127</td>\n",
              "      <td>0.601785</td>\n",
              "      <td>0.587573</td>\n",
              "      <td>0.686351</td>\n",
              "      <td>28.842773</td>\n",
              "      <td>0.622540</td>\n",
              "      <td>0.633119</td>\n",
              "      <td>0.874023</td>\n",
              "      <td>0.605479</td>\n",
              "      <td>0.874023</td>\n",
              "      <td>0.589397</td>\n",
              "      <td>...</td>\n",
              "      <td>0.544000</td>\n",
              "      <td>0.785278</td>\n",
              "      <td>0.529551</td>\n",
              "      <td>0.534078</td>\n",
              "      <td>1089.0</td>\n",
              "      <td>23.504896</td>\n",
              "      <td>23.904304</td>\n",
              "      <td>33.0</td>\n",
              "      <td>22.860718</td>\n",
              "      <td>33.0</td>\n",
              "      <td>22.253516</td>\n",
              "      <td>22.443750</td>\n",
              "      <td>0.507328</td>\n",
              "      <td>0.515949</td>\n",
              "      <td>0.712270</td>\n",
              "      <td>0.493424</td>\n",
              "      <td>0.712270</td>\n",
              "      <td>0.480318</td>\n",
              "      <td>0.484424</td>\n",
              "      <td>0.524716</td>\n",
              "      <td>0.724373</td>\n",
              "      <td>0.501809</td>\n",
              "      <td>0.724373</td>\n",
              "      <td>0.488480</td>\n",
              "      <td>0.492656</td>\n",
              "      <td>1.0</td>\n",
              "      <td>0.692749</td>\n",
              "      <td>1.0</td>\n",
              "      <td>0.674349</td>\n",
              "      <td>0.680114</td>\n",
              "      <td>0.479901</td>\n",
              "      <td>0.692749</td>\n",
              "      <td>0.467155</td>\n",
              "      <td>0.471148</td>\n",
              "      <td>1.0</td>\n",
              "      <td>0.674349</td>\n",
              "      <td>0.680114</td>\n",
              "      <td>0.454747</td>\n",
              "      <td>0.458634</td>\n",
              "      <td>0.462555</td>\n",
              "    </tr>\n",
              "    <tr>\n",
              "      <th>799</th>\n",
              "      <td>1.0</td>\n",
              "      <td>0.874023</td>\n",
              "      <td>12.0</td>\n",
              "      <td>0.824947</td>\n",
              "      <td>0.638117</td>\n",
              "      <td>1185.0</td>\n",
              "      <td>0.622500</td>\n",
              "      <td>0.683036</td>\n",
              "      <td>3.0</td>\n",
              "      <td>0.623214</td>\n",
              "      <td>0.688523</td>\n",
              "      <td>0.672262</td>\n",
              "      <td>0.785278</td>\n",
              "      <td>27.0</td>\n",
              "      <td>0.712270</td>\n",
              "      <td>0.724373</td>\n",
              "      <td>2.0</td>\n",
              "      <td>0.692749</td>\n",
              "      <td>1.0</td>\n",
              "      <td>0.674349</td>\n",
              "      <td>0.680114</td>\n",
              "      <td>0.763917</td>\n",
              "      <td>10.488281</td>\n",
              "      <td>0.721023</td>\n",
              "      <td>0.557729</td>\n",
              "      <td>1035.717773</td>\n",
              "      <td>0.544080</td>\n",
              "      <td>0.596989</td>\n",
              "      <td>2.622070</td>\n",
              "      <td>0.544704</td>\n",
              "      <td>0.601785</td>\n",
              "      <td>0.587573</td>\n",
              "      <td>0.686351</td>\n",
              "      <td>23.598633</td>\n",
              "      <td>0.622540</td>\n",
              "      <td>0.633119</td>\n",
              "      <td>1.748047</td>\n",
              "      <td>0.605479</td>\n",
              "      <td>0.874023</td>\n",
              "      <td>0.589397</td>\n",
              "      <td>...</td>\n",
              "      <td>0.544000</td>\n",
              "      <td>0.785278</td>\n",
              "      <td>0.529551</td>\n",
              "      <td>0.534078</td>\n",
              "      <td>729.0</td>\n",
              "      <td>19.231279</td>\n",
              "      <td>19.558067</td>\n",
              "      <td>54.0</td>\n",
              "      <td>18.704224</td>\n",
              "      <td>27.0</td>\n",
              "      <td>18.207422</td>\n",
              "      <td>18.363068</td>\n",
              "      <td>0.507328</td>\n",
              "      <td>0.515949</td>\n",
              "      <td>1.424539</td>\n",
              "      <td>0.493424</td>\n",
              "      <td>0.712270</td>\n",
              "      <td>0.480318</td>\n",
              "      <td>0.484424</td>\n",
              "      <td>0.524716</td>\n",
              "      <td>1.448746</td>\n",
              "      <td>0.501809</td>\n",
              "      <td>0.724373</td>\n",
              "      <td>0.488480</td>\n",
              "      <td>0.492656</td>\n",
              "      <td>4.0</td>\n",
              "      <td>1.385498</td>\n",
              "      <td>2.0</td>\n",
              "      <td>1.348698</td>\n",
              "      <td>1.360227</td>\n",
              "      <td>0.479901</td>\n",
              "      <td>0.692749</td>\n",
              "      <td>0.467155</td>\n",
              "      <td>0.471148</td>\n",
              "      <td>1.0</td>\n",
              "      <td>0.674349</td>\n",
              "      <td>0.680114</td>\n",
              "      <td>0.454747</td>\n",
              "      <td>0.458634</td>\n",
              "      <td>0.462555</td>\n",
              "    </tr>\n",
              "  </tbody>\n",
              "</table>\n",
              "<p>800 rows × 231 columns</p>\n",
              "</div>"
            ],
            "text/plain": [
              "       1        x0    x1        x2  ...   x17 x19     x18^2   x18 x19     x19^2\n",
              "0    1.0  0.874023  18.0  0.824947  ...  0.680114  0.454747  0.458634  0.462555\n",
              "1    1.0  0.611944  18.0  0.671875  ...  0.680114  0.499996  0.480911  0.462555\n",
              "2    1.0  0.611944  18.0  0.663586  ...  0.680114  0.454747  0.458634  0.462555\n",
              "3    1.0  0.874023  27.0  0.663586  ...  1.360227  0.499996  0.480911  0.462555\n",
              "4    1.0  0.874023  48.0  0.663586  ...  0.680114  0.499996  0.480911  0.462555\n",
              "..   ...       ...   ...       ...  ...       ...       ...       ...       ...\n",
              "795  1.0  0.611944  16.0  0.824947  ...  0.680114  0.499996  0.480911  0.462555\n",
              "796  1.0  0.611944  12.0  0.663586  ...  0.680114  0.454747  0.458634  0.462555\n",
              "797  1.0  0.611944  18.0  0.824947  ...  0.680114  0.454747  0.458634  0.462555\n",
              "798  1.0  0.874023   6.0  0.663586  ...  0.680114  0.454747  0.458634  0.462555\n",
              "799  1.0  0.874023  12.0  0.824947  ...  0.680114  0.454747  0.458634  0.462555\n",
              "\n",
              "[800 rows x 231 columns]"
            ]
          },
          "metadata": {
            "tags": []
          },
          "execution_count": 20
        }
      ]
    },
    {
      "cell_type": "code",
      "metadata": {
        "id": "5LanwIjhiDdO"
      },
      "source": [
        "X_test_cod = pd.DataFrame(poly_gen.transform(X_test_cod1), columns=poly_gen.get_feature_names() )"
      ],
      "execution_count": 21,
      "outputs": []
    },
    {
      "cell_type": "markdown",
      "metadata": {
        "id": "JzQls2dVO-d_"
      },
      "source": [
        "#### Modelo base"
      ]
    },
    {
      "cell_type": "code",
      "metadata": {
        "id": "Qd6c_EbLPC7f"
      },
      "source": [
        "from sklearn.linear_model import LogisticRegression\n",
        "from sklearn.metrics import classification_report"
      ],
      "execution_count": 22,
      "outputs": []
    },
    {
      "cell_type": "code",
      "metadata": {
        "id": "dmX7eKFzPDEq",
        "outputId": "47cb3fb9-6f79-409c-ed50-6c8e8bace223",
        "colab": {
          "base_uri": "https://localhost:8080/"
        }
      },
      "source": [
        "base_model = LogisticRegression(penalty='none', max_iter=1000)\n",
        "base_model.fit(X_train_cod,y_train)"
      ],
      "execution_count": 23,
      "outputs": [
        {
          "output_type": "execute_result",
          "data": {
            "text/plain": [
              "LogisticRegression(max_iter=1000, penalty='none')"
            ]
          },
          "metadata": {
            "tags": []
          },
          "execution_count": 23
        }
      ]
    },
    {
      "cell_type": "code",
      "metadata": {
        "id": "l3_RyeLsQFRy",
        "outputId": "895cde48-9f54-4354-af42-d25bc1a75d84",
        "colab": {
          "base_uri": "https://localhost:8080/"
        }
      },
      "source": [
        "print(f'Coeficientes mayores a cero: {(base_model.coef_>0).sum()}')"
      ],
      "execution_count": 24,
      "outputs": [
        {
          "output_type": "stream",
          "text": [
            "Coeficientes mayores a cero: 199\n"
          ],
          "name": "stdout"
        }
      ]
    },
    {
      "cell_type": "code",
      "metadata": {
        "id": "0HR36AxtPhR3",
        "outputId": "7f14d3cc-44c5-4256-eb5f-21c749aef29c",
        "colab": {
          "base_uri": "https://localhost:8080/"
        }
      },
      "source": [
        "print(classification_report(y_test, base_model.predict(X_test_cod)))"
      ],
      "execution_count": 25,
      "outputs": [
        {
          "output_type": "stream",
          "text": [
            "              precision    recall  f1-score   support\n",
            "\n",
            "           0       0.63      0.24      0.35        50\n",
            "           1       0.79      0.95      0.86       150\n",
            "\n",
            "    accuracy                           0.78       200\n",
            "   macro avg       0.71      0.60      0.61       200\n",
            "weighted avg       0.75      0.78      0.73       200\n",
            "\n"
          ],
          "name": "stdout"
        }
      ]
    },
    {
      "cell_type": "markdown",
      "metadata": {
        "id": "20NXuQF2L9j9"
      },
      "source": [
        "# Métodos Intrínsecos"
      ]
    },
    {
      "cell_type": "markdown",
      "metadata": {
        "id": "jSV6T2kPKHN9"
      },
      "source": [
        "## Regresion Ridge"
      ]
    },
    {
      "cell_type": "code",
      "metadata": {
        "id": "JnJbw1M-QMyr"
      },
      "source": [
        "from sklearn.linear_model import LassoCV, RidgeCV, ElasticNetCV, LogisticRegressionCV"
      ],
      "execution_count": 26,
      "outputs": []
    },
    {
      "cell_type": "code",
      "metadata": {
        "id": "XsJ4yJlmQMyr",
        "outputId": "671c9872-09cf-4a66-9003-bfdfd9e44dbd",
        "colab": {
          "base_uri": "https://localhost:8080/"
        }
      },
      "source": [
        "ridge_classifier = LogisticRegressionCV(cv=2, max_iter=100, penalty='l2', solver='liblinear')\n",
        "ridge_classifier.fit(X_train_cod,y_train)"
      ],
      "execution_count": 27,
      "outputs": [
        {
          "output_type": "execute_result",
          "data": {
            "text/plain": [
              "LogisticRegressionCV(cv=2, solver='liblinear')"
            ]
          },
          "metadata": {
            "tags": []
          },
          "execution_count": 27
        }
      ]
    },
    {
      "cell_type": "code",
      "metadata": {
        "id": "TKRpyUEyQMyr",
        "outputId": "8081f904-3eab-4fbf-972d-638c963b7494",
        "colab": {
          "base_uri": "https://localhost:8080/"
        }
      },
      "source": [
        "ridge_classifier.classes_"
      ],
      "execution_count": 28,
      "outputs": [
        {
          "output_type": "execute_result",
          "data": {
            "text/plain": [
              "array([0, 1])"
            ]
          },
          "metadata": {
            "tags": []
          },
          "execution_count": 28
        }
      ]
    },
    {
      "cell_type": "code",
      "metadata": {
        "id": "aijpQ7Z5QMys",
        "outputId": "95c9c167-6d98-4ad7-e881-0daa67630c1e",
        "colab": {
          "base_uri": "https://localhost:8080/"
        }
      },
      "source": [
        "ridge_classifier.coef_"
      ],
      "execution_count": 29,
      "outputs": [
        {
          "output_type": "execute_result",
          "data": {
            "text/plain": [
              "array([[ 6.24738680e-06,  1.82255624e-05, -8.10023310e-05,\n",
              "         1.25880905e-05,  8.73636093e-06, -3.24914711e-03,\n",
              "         7.67350187e-06,  7.19661235e-06,  1.56774654e-05,\n",
              "         5.18459184e-06,  5.97899079e-06,  4.81220577e-06,\n",
              "         7.75974124e-06,  2.12220880e-04,  6.39457464e-06,\n",
              "         6.41755925e-06,  1.73387589e-05,  5.10746920e-06,\n",
              "         1.98647911e-06,  4.74233127e-06,  5.73044504e-06,\n",
              "         2.20360776e-05,  2.06705707e-04,  1.79008374e-05,\n",
              "         1.56554251e-05,  1.02507256e-03,  1.46615501e-05,\n",
              "         1.46170469e-05,  6.34312433e-05,  1.30740886e-05,\n",
              "         1.35752299e-05,  1.28955325e-05,  1.49493927e-05,\n",
              "         6.31525060e-04,  1.42981161e-05,  1.40676762e-05,\n",
              "         2.75865836e-05,  1.32527603e-05,  1.64244843e-05,\n",
              "         1.27702223e-05,  1.33589659e-05, -2.31703848e-03,\n",
              "        -2.16849095e-05,  1.01084751e-05,  2.49066452e-05,\n",
              "         3.13674361e-05, -5.68375564e-06, -2.97485034e-04,\n",
              "        -3.39125631e-05, -2.44357037e-05, -3.52780981e-05,\n",
              "        -2.07700914e-05, -4.57111726e-04, -1.71585165e-05,\n",
              "        -1.08749996e-05, -6.38917703e-05, -5.38625279e-05,\n",
              "        -1.15551143e-04, -4.10572183e-05, -3.84906019e-05,\n",
              "         1.38783555e-05,  1.15849704e-05,  2.58028967e-04,\n",
              "         1.05958512e-05,  1.06870689e-05,  3.87493484e-05,\n",
              "         9.23390474e-06,  9.74575291e-06,  9.05488278e-06,\n",
              "         1.07726062e-05,  4.66729611e-04,  1.02742151e-05,\n",
              "         9.89799658e-06,  2.75257188e-05,  9.16220987e-06,\n",
              "         1.41213495e-05,  8.98835774e-06,  9.60610687e-06,\n",
              "         9.12494407e-06,  5.49998740e-04,  8.18250029e-06,\n",
              "         8.03937975e-06,  2.75142673e-05,  6.59582912e-06,\n",
              "         7.24952498e-06,  6.35059841e-06,  8.44046110e-06,\n",
              "         3.00403229e-04,  7.40437263e-06,  7.56880000e-06,\n",
              "         1.87823605e-05,  6.55048767e-06,  6.73531458e-06,\n",
              "         6.26694160e-06,  6.92550559e-06, -1.08676057e-07,\n",
              "         8.93762313e-04,  9.26702639e-04, -5.99681665e-05,\n",
              "         1.92490068e-03,  1.12482972e-03,  2.56045934e-04,\n",
              "         7.56147343e-05, -8.06174368e-06,  7.44535536e-04,\n",
              "         2.95568852e-04, -4.86629711e-05, -2.29872894e-03,\n",
              "         4.03749754e-05, -1.10203997e-03,  1.36225215e-03,\n",
              "         7.91842132e-06,  7.20736113e-06,  2.44521815e-05,\n",
              "         5.82295044e-06,  6.31149497e-06,  5.60771089e-06,\n",
              "         7.85962967e-06,  2.57701866e-04,  6.71589747e-06,\n",
              "         6.83046333e-06,  1.50522155e-05,  5.81902632e-06,\n",
              "         5.43372777e-06,  5.58104126e-06,  6.26339744e-06,\n",
              "         6.90747469e-06,  2.03697361e-05,  5.43421343e-06,\n",
              "         6.04829296e-06,  5.29557113e-06,  7.40231272e-06,\n",
              "         2.38608016e-04,  6.59866744e-06,  6.41136891e-06,\n",
              "         1.65535563e-05,  5.51919365e-06,  4.77423970e-06,\n",
              "         5.27840773e-06,  5.85660774e-06,  6.17483196e-05,\n",
              "         1.43280553e-05,  1.50343618e-05,  1.24184186e-05,\n",
              "         2.05536812e-05,  5.13890413e-04,  1.81468892e-05,\n",
              "         1.84612197e-05,  6.17011786e-05,  1.24615839e-05,\n",
              "        -1.12408702e-05,  1.30524571e-05,  1.44350821e-05,\n",
              "         4.17359805e-06,  4.70823174e-06,  3.92447801e-06,\n",
              "         6.05895653e-06,  1.59953384e-04,  4.99434567e-06,\n",
              "         4.94785664e-06,  1.28358682e-05,  4.10199921e-06,\n",
              "         2.02511034e-06,  3.87060532e-06,  4.56903158e-06,\n",
              "         5.29199805e-06,  4.46498100e-06,  6.60446261e-06,\n",
              "         2.02727854e-04,  5.60084349e-06,  5.68577940e-06,\n",
              "         1.41421761e-05,  4.70425487e-06,  3.54230108e-06,\n",
              "         4.40204029e-06,  5.06701609e-06,  3.67078094e-06,\n",
              "         5.67036488e-06,  1.56758054e-04,  4.70165853e-06,\n",
              "         4.75555039e-06,  1.29063840e-05,  3.88011091e-06,\n",
              "         2.12603172e-06,  3.61632990e-06,  4.28986191e-06,\n",
              "         7.85101538e-06,  2.78849373e-04,  6.79511087e-06,\n",
              "         6.88543612e-06,  1.70873662e-05,  6.01521462e-06,\n",
              "         6.55947111e-06,  5.59929317e-06,  6.38393611e-06,\n",
              "         5.52772877e-04,  2.17657524e-04,  2.25436546e-04,\n",
              "         5.30592127e-04,  1.73850883e-04, -2.37830068e-05,\n",
              "         1.65622874e-04,  1.95968761e-04,  5.66802488e-06,\n",
              "         5.83578045e-06,  1.51570782e-05,  5.04861232e-06,\n",
              "         4.68607519e-06,  4.68756642e-06,  5.38996046e-06,\n",
              "         5.77755274e-06,  1.57498536e-05,  5.06374014e-06,\n",
              "         4.21559810e-06,  4.68920685e-06,  5.38761487e-06,\n",
              "         4.02998301e-05,  1.35257304e-05,  1.88138608e-05,\n",
              "         1.24684914e-05,  1.38411991e-05,  4.04388370e-06,\n",
              "         2.23179962e-06,  3.81328690e-06,  4.52576769e-06,\n",
              "        -6.53533627e-06,  2.08368054e-06,  3.43955861e-06,\n",
              "         3.57233587e-06,  4.23379997e-06,  5.17920900e-06]])"
            ]
          },
          "metadata": {
            "tags": []
          },
          "execution_count": 29
        }
      ]
    },
    {
      "cell_type": "code",
      "metadata": {
        "id": "pAvig7DyQMys",
        "outputId": "57a01eb7-a2c5-45c6-ffd6-cbf8e4a01fd7",
        "colab": {
          "base_uri": "https://localhost:8080/"
        }
      },
      "source": [
        "print(f'Coeficientes mayores a cero: {(ridge_classifier.coef_>0).sum()}')"
      ],
      "execution_count": 30,
      "outputs": [
        {
          "output_type": "stream",
          "text": [
            "Coeficientes mayores a cero: 204\n"
          ],
          "name": "stdout"
        }
      ]
    },
    {
      "cell_type": "code",
      "metadata": {
        "id": "Omn4C8BlQMys",
        "outputId": "dce7dfb8-e3cc-4778-e14f-d09f7d66e94b",
        "colab": {
          "base_uri": "https://localhost:8080/"
        }
      },
      "source": [
        "ridge_classifier.C_"
      ],
      "execution_count": 31,
      "outputs": [
        {
          "output_type": "execute_result",
          "data": {
            "text/plain": [
              "array([166.81005372])"
            ]
          },
          "metadata": {
            "tags": []
          },
          "execution_count": 31
        }
      ]
    },
    {
      "cell_type": "code",
      "metadata": {
        "id": "39qLEEtnQMys",
        "outputId": "ca80df6a-975f-402b-9e02-c92edb7c97ea",
        "colab": {
          "base_uri": "https://localhost:8080/"
        }
      },
      "source": [
        "print(f'Mejor valor para lambda: {1/ridge_classifier.C_}')"
      ],
      "execution_count": 32,
      "outputs": [
        {
          "output_type": "stream",
          "text": [
            "Mejor valor para lambda: [0.00599484]\n"
          ],
          "name": "stdout"
        }
      ]
    },
    {
      "cell_type": "code",
      "metadata": {
        "id": "7FfAoxepQMyt",
        "outputId": "eba59683-8fb1-418e-a64c-ac7ecb3c429e",
        "colab": {
          "base_uri": "https://localhost:8080/"
        }
      },
      "source": [
        "print('================ Resultados Ridge Classifier =================\\n')\n",
        "print(classification_report(y_test, ridge_classifier.predict(X_test_cod)))"
      ],
      "execution_count": 33,
      "outputs": [
        {
          "output_type": "stream",
          "text": [
            "================ Resultados Ridge Classifier =================\n",
            "\n",
            "              precision    recall  f1-score   support\n",
            "\n",
            "           0       0.62      0.50      0.56        50\n",
            "           1       0.84      0.90      0.87       150\n",
            "\n",
            "    accuracy                           0.80       200\n",
            "   macro avg       0.73      0.70      0.71       200\n",
            "weighted avg       0.79      0.80      0.79       200\n",
            "\n"
          ],
          "name": "stdout"
        }
      ]
    },
    {
      "cell_type": "markdown",
      "metadata": {
        "id": "yTvrCAncL9_S"
      },
      "source": [
        "## Regresión LASSO"
      ]
    },
    {
      "cell_type": "code",
      "metadata": {
        "id": "LiABPLonbb8N",
        "outputId": "9496b79f-0aed-492f-ab39-d63fcf8b2189",
        "colab": {
          "base_uri": "https://localhost:8080/"
        }
      },
      "source": [
        "lasso_classifier = LogisticRegressionCV(cv=2, penalty='l1', max_iter=100, solver='liblinear')\n",
        "lasso_classifier.fit(X_train_cod,y_train)\n",
        "# 21 sec"
      ],
      "execution_count": 34,
      "outputs": [
        {
          "output_type": "stream",
          "text": [
            "/usr/local/lib/python3.7/dist-packages/sklearn/svm/_base.py:986: ConvergenceWarning:\n",
            "\n",
            "Liblinear failed to converge, increase the number of iterations.\n",
            "\n",
            "/usr/local/lib/python3.7/dist-packages/sklearn/svm/_base.py:986: ConvergenceWarning:\n",
            "\n",
            "Liblinear failed to converge, increase the number of iterations.\n",
            "\n",
            "/usr/local/lib/python3.7/dist-packages/sklearn/svm/_base.py:986: ConvergenceWarning:\n",
            "\n",
            "Liblinear failed to converge, increase the number of iterations.\n",
            "\n",
            "/usr/local/lib/python3.7/dist-packages/sklearn/svm/_base.py:986: ConvergenceWarning:\n",
            "\n",
            "Liblinear failed to converge, increase the number of iterations.\n",
            "\n",
            "/usr/local/lib/python3.7/dist-packages/sklearn/svm/_base.py:986: ConvergenceWarning:\n",
            "\n",
            "Liblinear failed to converge, increase the number of iterations.\n",
            "\n",
            "/usr/local/lib/python3.7/dist-packages/sklearn/svm/_base.py:986: ConvergenceWarning:\n",
            "\n",
            "Liblinear failed to converge, increase the number of iterations.\n",
            "\n",
            "/usr/local/lib/python3.7/dist-packages/sklearn/svm/_base.py:986: ConvergenceWarning:\n",
            "\n",
            "Liblinear failed to converge, increase the number of iterations.\n",
            "\n",
            "/usr/local/lib/python3.7/dist-packages/sklearn/svm/_base.py:986: ConvergenceWarning:\n",
            "\n",
            "Liblinear failed to converge, increase the number of iterations.\n",
            "\n",
            "/usr/local/lib/python3.7/dist-packages/sklearn/svm/_base.py:986: ConvergenceWarning:\n",
            "\n",
            "Liblinear failed to converge, increase the number of iterations.\n",
            "\n",
            "/usr/local/lib/python3.7/dist-packages/sklearn/svm/_base.py:986: ConvergenceWarning:\n",
            "\n",
            "Liblinear failed to converge, increase the number of iterations.\n",
            "\n",
            "/usr/local/lib/python3.7/dist-packages/sklearn/svm/_base.py:986: ConvergenceWarning:\n",
            "\n",
            "Liblinear failed to converge, increase the number of iterations.\n",
            "\n",
            "/usr/local/lib/python3.7/dist-packages/sklearn/svm/_base.py:986: ConvergenceWarning:\n",
            "\n",
            "Liblinear failed to converge, increase the number of iterations.\n",
            "\n"
          ],
          "name": "stderr"
        },
        {
          "output_type": "execute_result",
          "data": {
            "text/plain": [
              "LogisticRegressionCV(cv=2, penalty='l1', solver='liblinear')"
            ]
          },
          "metadata": {
            "tags": []
          },
          "execution_count": 34
        }
      ]
    },
    {
      "cell_type": "code",
      "metadata": {
        "id": "AxqYvjHTKG_N",
        "outputId": "bb147f50-2c57-4ab1-8024-5441d6f2dab4",
        "colab": {
          "base_uri": "https://localhost:8080/"
        }
      },
      "source": [
        "lasso_classifier.classes_"
      ],
      "execution_count": 35,
      "outputs": [
        {
          "output_type": "execute_result",
          "data": {
            "text/plain": [
              "array([0, 1])"
            ]
          },
          "metadata": {
            "tags": []
          },
          "execution_count": 35
        }
      ]
    },
    {
      "cell_type": "code",
      "metadata": {
        "id": "99UCUElqKHCe",
        "outputId": "4c2f6ea2-0c86-49ad-911a-0d85a5f336d4",
        "colab": {
          "base_uri": "https://localhost:8080/"
        }
      },
      "source": [
        "lasso_classifier.coef_"
      ],
      "execution_count": 36,
      "outputs": [
        {
          "output_type": "execute_result",
          "data": {
            "text/plain": [
              "array([[ 0.00000000e+00,  0.00000000e+00, -2.37712089e-01,\n",
              "         0.00000000e+00,  0.00000000e+00, -8.47854699e-04,\n",
              "         0.00000000e+00,  0.00000000e+00,  0.00000000e+00,\n",
              "         0.00000000e+00,  0.00000000e+00,  0.00000000e+00,\n",
              "         0.00000000e+00, -2.22896774e-01,  0.00000000e+00,\n",
              "         0.00000000e+00,  0.00000000e+00,  0.00000000e+00,\n",
              "         0.00000000e+00,  0.00000000e+00,  0.00000000e+00,\n",
              "         0.00000000e+00,  1.97561894e-01,  0.00000000e+00,\n",
              "         0.00000000e+00, -6.31565821e-04,  0.00000000e+00,\n",
              "         0.00000000e+00,  0.00000000e+00,  0.00000000e+00,\n",
              "         0.00000000e+00,  0.00000000e+00,  0.00000000e+00,\n",
              "         8.15426808e-02,  0.00000000e+00,  0.00000000e+00,\n",
              "         0.00000000e+00,  0.00000000e+00,  0.00000000e+00,\n",
              "         0.00000000e+00,  0.00000000e+00, -1.32021010e-03,\n",
              "        -3.20781047e-01,  4.70105464e-02,  2.10147845e-05,\n",
              "         1.57987320e-01,  9.18623463e-02, -1.52901320e-02,\n",
              "         0.00000000e+00,  2.11682870e-02,  4.64406250e-02,\n",
              "        -6.09843411e-02,  1.13452447e-03,  1.32398760e-01,\n",
              "         8.34161643e-02,  4.84021068e-07, -1.42245969e-01,\n",
              "         6.77951460e-03,  0.00000000e+00,  0.00000000e+00,\n",
              "         0.00000000e+00,  0.00000000e+00,  2.79929165e-04,\n",
              "         0.00000000e+00,  0.00000000e+00,  0.00000000e+00,\n",
              "         0.00000000e+00,  0.00000000e+00,  0.00000000e+00,\n",
              "         0.00000000e+00,  2.79552930e-01,  0.00000000e+00,\n",
              "         0.00000000e+00,  0.00000000e+00,  0.00000000e+00,\n",
              "         0.00000000e+00,  0.00000000e+00,  0.00000000e+00,\n",
              "         0.00000000e+00, -4.45745405e-04,  0.00000000e+00,\n",
              "         0.00000000e+00,  0.00000000e+00,  0.00000000e+00,\n",
              "         0.00000000e+00,  0.00000000e+00,  0.00000000e+00,\n",
              "         1.42145207e-01,  0.00000000e+00,  0.00000000e+00,\n",
              "         0.00000000e+00,  0.00000000e+00,  0.00000000e+00,\n",
              "         0.00000000e+00,  0.00000000e+00, -8.32421764e-08,\n",
              "        -1.50665545e-04, -6.30006972e-05,  3.78239583e-05,\n",
              "         1.78413643e-03,  7.95111693e-04,  1.02764434e-03,\n",
              "        -3.07995227e-04, -1.29129724e-05, -2.82510983e-04,\n",
              "         3.08872863e-05, -2.08159854e-05, -7.03621006e-04,\n",
              "         1.54432636e-04, -3.34064645e-04,  8.64489873e-04,\n",
              "         0.00000000e+00,  0.00000000e+00,  0.00000000e+00,\n",
              "         0.00000000e+00,  0.00000000e+00,  0.00000000e+00,\n",
              "         0.00000000e+00, -1.15804620e-05,  0.00000000e+00,\n",
              "         0.00000000e+00,  0.00000000e+00,  0.00000000e+00,\n",
              "         0.00000000e+00,  0.00000000e+00,  0.00000000e+00,\n",
              "         0.00000000e+00,  0.00000000e+00,  0.00000000e+00,\n",
              "         0.00000000e+00,  0.00000000e+00,  0.00000000e+00,\n",
              "         5.66511659e-02,  0.00000000e+00,  0.00000000e+00,\n",
              "         0.00000000e+00,  0.00000000e+00,  0.00000000e+00,\n",
              "         0.00000000e+00,  0.00000000e+00,  5.85822160e-02,\n",
              "         0.00000000e+00,  0.00000000e+00,  0.00000000e+00,\n",
              "         0.00000000e+00, -5.71349508e-03,  0.00000000e+00,\n",
              "         0.00000000e+00,  4.18464359e-02,  0.00000000e+00,\n",
              "        -1.55758731e-01,  0.00000000e+00,  0.00000000e+00,\n",
              "         0.00000000e+00,  0.00000000e+00,  0.00000000e+00,\n",
              "         0.00000000e+00, -4.80509856e-02,  0.00000000e+00,\n",
              "         0.00000000e+00,  0.00000000e+00,  0.00000000e+00,\n",
              "         0.00000000e+00,  0.00000000e+00,  0.00000000e+00,\n",
              "         0.00000000e+00,  0.00000000e+00,  0.00000000e+00,\n",
              "         8.70870939e-02,  0.00000000e+00,  0.00000000e+00,\n",
              "         0.00000000e+00,  0.00000000e+00,  0.00000000e+00,\n",
              "         0.00000000e+00,  0.00000000e+00,  0.00000000e+00,\n",
              "         0.00000000e+00, -1.08868788e-01,  0.00000000e+00,\n",
              "         0.00000000e+00,  0.00000000e+00,  0.00000000e+00,\n",
              "         0.00000000e+00,  0.00000000e+00,  0.00000000e+00,\n",
              "         0.00000000e+00,  6.82240394e-02,  0.00000000e+00,\n",
              "         0.00000000e+00,  0.00000000e+00,  0.00000000e+00,\n",
              "         0.00000000e+00,  0.00000000e+00,  0.00000000e+00,\n",
              "         6.76761050e-05, -2.10168213e-02, -5.85229090e-03,\n",
              "        -2.00146902e-02, -5.11408831e-02, -1.73027160e-02,\n",
              "        -2.41629529e-02,  1.56178938e-02,  0.00000000e+00,\n",
              "         0.00000000e+00,  0.00000000e+00,  0.00000000e+00,\n",
              "         0.00000000e+00,  0.00000000e+00,  0.00000000e+00,\n",
              "         0.00000000e+00,  0.00000000e+00,  0.00000000e+00,\n",
              "         0.00000000e+00,  0.00000000e+00,  0.00000000e+00,\n",
              "         0.00000000e+00,  0.00000000e+00,  2.43620876e-01,\n",
              "         0.00000000e+00,  0.00000000e+00,  0.00000000e+00,\n",
              "         0.00000000e+00,  0.00000000e+00,  0.00000000e+00,\n",
              "         0.00000000e+00,  0.00000000e+00,  0.00000000e+00,\n",
              "         0.00000000e+00,  0.00000000e+00,  0.00000000e+00]])"
            ]
          },
          "metadata": {
            "tags": []
          },
          "execution_count": 36
        }
      ]
    },
    {
      "cell_type": "code",
      "metadata": {
        "id": "rvVuGWPBP67j",
        "outputId": "6b6f17d0-4cda-4ffa-ba39-fc0ac31bd97c",
        "colab": {
          "base_uri": "https://localhost:8080/"
        }
      },
      "source": [
        "print(f'Coeficientes mayores a cero: {(lasso_classifier.coef_>0).sum()}')"
      ],
      "execution_count": 37,
      "outputs": [
        {
          "output_type": "stream",
          "text": [
            "Coeficientes mayores a cero: 31\n"
          ],
          "name": "stdout"
        }
      ]
    },
    {
      "cell_type": "code",
      "metadata": {
        "id": "lD-YSULoKHFa",
        "outputId": "5c67d492-8354-4370-8636-ed8b39db4036",
        "colab": {
          "base_uri": "https://localhost:8080/"
        }
      },
      "source": [
        "lasso_classifier.C_"
      ],
      "execution_count": 38,
      "outputs": [
        {
          "output_type": "execute_result",
          "data": {
            "text/plain": [
              "array([0.35938137])"
            ]
          },
          "metadata": {
            "tags": []
          },
          "execution_count": 38
        }
      ]
    },
    {
      "cell_type": "code",
      "metadata": {
        "id": "WGqRToQyKHIA",
        "outputId": "79a861e0-0cfc-4f2f-eec4-a7c666ae5ae5",
        "colab": {
          "base_uri": "https://localhost:8080/"
        }
      },
      "source": [
        "print(f'Mejor valor para lambda: {1/lasso_classifier.C_}')"
      ],
      "execution_count": 39,
      "outputs": [
        {
          "output_type": "stream",
          "text": [
            "Mejor valor para lambda: [2.7825594]\n"
          ],
          "name": "stdout"
        }
      ]
    },
    {
      "cell_type": "code",
      "metadata": {
        "id": "-oy3pMVgKHK0",
        "outputId": "f8efd09b-111f-460b-aaae-97ea3d9f15e8",
        "colab": {
          "base_uri": "https://localhost:8080/"
        }
      },
      "source": [
        "print('================ Resultados LASSO Logistic Regressor =================\\n')\n",
        "print(classification_report(y_test, lasso_classifier.predict(X_test_cod)))"
      ],
      "execution_count": 40,
      "outputs": [
        {
          "output_type": "stream",
          "text": [
            "================ Resultados LASSO Logistic Regressor =================\n",
            "\n",
            "              precision    recall  f1-score   support\n",
            "\n",
            "           0       0.56      0.60      0.58        50\n",
            "           1       0.86      0.84      0.85       150\n",
            "\n",
            "    accuracy                           0.78       200\n",
            "   macro avg       0.71      0.72      0.71       200\n",
            "weighted avg       0.79      0.78      0.78       200\n",
            "\n"
          ],
          "name": "stdout"
        }
      ]
    },
    {
      "cell_type": "markdown",
      "metadata": {
        "id": "pEbpMvp9ROmb"
      },
      "source": [
        "## Elastic Net (L1 y L2 regularizer combinados)"
      ]
    },
    {
      "cell_type": "code",
      "metadata": {
        "id": "qrFbEGRIRVV_",
        "outputId": "48f8073d-0f92-4b0c-b7a4-9e3104e58028",
        "colab": {
          "base_uri": "https://localhost:8080/"
        }
      },
      "source": [
        "elastic_classifier = LogisticRegressionCV(cv=2, penalty='elasticnet', solver='saga', max_iter=100, l1_ratios=[0.5])\n",
        "elastic_classifier.fit(X_train_cod,y_train)"
      ],
      "execution_count": 41,
      "outputs": [
        {
          "output_type": "stream",
          "text": [
            "/usr/local/lib/python3.7/dist-packages/sklearn/linear_model/_sag.py:329: ConvergenceWarning:\n",
            "\n",
            "The max_iter was reached which means the coef_ did not converge\n",
            "\n",
            "/usr/local/lib/python3.7/dist-packages/sklearn/linear_model/_sag.py:329: ConvergenceWarning:\n",
            "\n",
            "The max_iter was reached which means the coef_ did not converge\n",
            "\n",
            "/usr/local/lib/python3.7/dist-packages/sklearn/linear_model/_sag.py:329: ConvergenceWarning:\n",
            "\n",
            "The max_iter was reached which means the coef_ did not converge\n",
            "\n",
            "/usr/local/lib/python3.7/dist-packages/sklearn/linear_model/_sag.py:329: ConvergenceWarning:\n",
            "\n",
            "The max_iter was reached which means the coef_ did not converge\n",
            "\n",
            "/usr/local/lib/python3.7/dist-packages/sklearn/linear_model/_sag.py:329: ConvergenceWarning:\n",
            "\n",
            "The max_iter was reached which means the coef_ did not converge\n",
            "\n",
            "/usr/local/lib/python3.7/dist-packages/sklearn/linear_model/_sag.py:329: ConvergenceWarning:\n",
            "\n",
            "The max_iter was reached which means the coef_ did not converge\n",
            "\n",
            "/usr/local/lib/python3.7/dist-packages/sklearn/linear_model/_sag.py:329: ConvergenceWarning:\n",
            "\n",
            "The max_iter was reached which means the coef_ did not converge\n",
            "\n",
            "/usr/local/lib/python3.7/dist-packages/sklearn/linear_model/_sag.py:329: ConvergenceWarning:\n",
            "\n",
            "The max_iter was reached which means the coef_ did not converge\n",
            "\n",
            "/usr/local/lib/python3.7/dist-packages/sklearn/linear_model/_sag.py:329: ConvergenceWarning:\n",
            "\n",
            "The max_iter was reached which means the coef_ did not converge\n",
            "\n",
            "/usr/local/lib/python3.7/dist-packages/sklearn/linear_model/_sag.py:329: ConvergenceWarning:\n",
            "\n",
            "The max_iter was reached which means the coef_ did not converge\n",
            "\n",
            "/usr/local/lib/python3.7/dist-packages/sklearn/linear_model/_sag.py:329: ConvergenceWarning:\n",
            "\n",
            "The max_iter was reached which means the coef_ did not converge\n",
            "\n",
            "/usr/local/lib/python3.7/dist-packages/sklearn/linear_model/_sag.py:329: ConvergenceWarning:\n",
            "\n",
            "The max_iter was reached which means the coef_ did not converge\n",
            "\n",
            "/usr/local/lib/python3.7/dist-packages/sklearn/linear_model/_sag.py:329: ConvergenceWarning:\n",
            "\n",
            "The max_iter was reached which means the coef_ did not converge\n",
            "\n",
            "/usr/local/lib/python3.7/dist-packages/sklearn/linear_model/_sag.py:329: ConvergenceWarning:\n",
            "\n",
            "The max_iter was reached which means the coef_ did not converge\n",
            "\n",
            "/usr/local/lib/python3.7/dist-packages/sklearn/linear_model/_sag.py:329: ConvergenceWarning:\n",
            "\n",
            "The max_iter was reached which means the coef_ did not converge\n",
            "\n",
            "/usr/local/lib/python3.7/dist-packages/sklearn/linear_model/_sag.py:329: ConvergenceWarning:\n",
            "\n",
            "The max_iter was reached which means the coef_ did not converge\n",
            "\n",
            "/usr/local/lib/python3.7/dist-packages/sklearn/linear_model/_sag.py:329: ConvergenceWarning:\n",
            "\n",
            "The max_iter was reached which means the coef_ did not converge\n",
            "\n",
            "/usr/local/lib/python3.7/dist-packages/sklearn/linear_model/_sag.py:329: ConvergenceWarning:\n",
            "\n",
            "The max_iter was reached which means the coef_ did not converge\n",
            "\n",
            "/usr/local/lib/python3.7/dist-packages/sklearn/linear_model/_sag.py:329: ConvergenceWarning:\n",
            "\n",
            "The max_iter was reached which means the coef_ did not converge\n",
            "\n",
            "/usr/local/lib/python3.7/dist-packages/sklearn/linear_model/_sag.py:329: ConvergenceWarning:\n",
            "\n",
            "The max_iter was reached which means the coef_ did not converge\n",
            "\n",
            "/usr/local/lib/python3.7/dist-packages/sklearn/linear_model/_sag.py:329: ConvergenceWarning:\n",
            "\n",
            "The max_iter was reached which means the coef_ did not converge\n",
            "\n"
          ],
          "name": "stderr"
        },
        {
          "output_type": "execute_result",
          "data": {
            "text/plain": [
              "LogisticRegressionCV(cv=2, l1_ratios=[0.5], penalty='elasticnet', solver='saga')"
            ]
          },
          "metadata": {
            "tags": []
          },
          "execution_count": 41
        }
      ]
    },
    {
      "cell_type": "code",
      "metadata": {
        "id": "8ZiM_5tARVV_",
        "outputId": "550d4299-cb5d-43eb-d8cc-8f25b324e7e7",
        "colab": {
          "base_uri": "https://localhost:8080/"
        }
      },
      "source": [
        "elastic_classifier.classes_"
      ],
      "execution_count": 42,
      "outputs": [
        {
          "output_type": "execute_result",
          "data": {
            "text/plain": [
              "array([0, 1])"
            ]
          },
          "metadata": {
            "tags": []
          },
          "execution_count": 42
        }
      ]
    },
    {
      "cell_type": "code",
      "metadata": {
        "id": "jVIu9FNzRVV_",
        "outputId": "5535f874-899a-4311-f9a8-b248be9ebffe",
        "colab": {
          "base_uri": "https://localhost:8080/"
        }
      },
      "source": [
        "elastic_classifier.coef_"
      ],
      "execution_count": 43,
      "outputs": [
        {
          "output_type": "execute_result",
          "data": {
            "text/plain": [
              "array([[1.10868467e-12, 9.26785901e-13, 1.76144636e-11, 8.40593106e-13,\n",
              "        7.95148956e-13, 2.98420735e-09, 8.03955860e-13, 7.91859976e-13,\n",
              "        3.35192754e-12, 7.71769251e-13, 7.65546280e-13, 7.57167503e-13,\n",
              "        7.92551377e-13, 5.15590515e-11, 7.72756121e-13, 7.78168346e-13,\n",
              "        1.70528129e-12, 7.62160944e-13, 1.30203183e-12, 7.56763841e-13,\n",
              "        7.63716461e-13, 7.79175384e-13, 1.65295838e-11, 6.89640478e-13,\n",
              "        6.59492657e-13, 2.77543790e-09, 6.66418559e-13, 6.57463905e-13,\n",
              "        2.85873409e-12, 6.41976187e-13, 6.35845075e-13, 6.31150105e-13,\n",
              "        6.54246712e-13, 4.26263180e-11, 6.44218147e-13, 6.46639243e-13,\n",
              "        1.38048321e-12, 6.35802019e-13, 1.07859200e-12, 6.31476667e-13,\n",
              "        6.35224404e-13, 2.77008273e-10, 1.33642429e-11, 1.29298610e-11,\n",
              "        3.87434041e-08, 1.33471746e-11, 1.27020713e-11, 5.18527137e-11,\n",
              "        1.21715174e-11, 1.19688846e-11, 1.17975133e-11, 1.25052663e-11,\n",
              "        7.77725805e-10, 1.20338440e-11, 1.24153802e-11, 2.69066134e-11,\n",
              "        1.17523912e-11, 2.09459593e-11, 1.18072647e-11, 1.17350037e-11,\n",
              "        6.36013928e-13, 5.97273212e-13, 2.38395376e-09, 6.03183070e-13,\n",
              "        5.97561902e-13, 2.53578476e-12, 5.82684197e-13, 5.77589403e-13,\n",
              "        5.72487952e-13, 5.95028426e-13, 3.93464550e-11, 5.85069429e-13,\n",
              "        5.85775567e-13, 1.30590869e-12, 5.75387949e-13, 9.94008672e-13,\n",
              "        5.72254697e-13, 5.77032207e-13, 5.74715233e-13, 2.26338811e-09,\n",
              "        5.73705227e-13, 5.65529522e-13, 2.38900868e-12, 5.51534146e-13,\n",
              "        5.47000011e-13, 5.40964965e-13, 5.65535103e-13, 3.65797442e-11,\n",
              "        5.51768902e-13, 5.56440541e-13, 1.18712147e-12, 5.44228209e-13,\n",
              "        9.27234630e-13, 5.40744399e-13, 5.44837422e-13, 7.25422467e-10,\n",
              "        2.30165444e-09, 2.21785142e-09, 8.15561760e-09, 2.14171119e-09,\n",
              "        2.09694228e-09, 2.06266478e-09, 2.20458510e-09, 1.10060079e-07,\n",
              "        2.10591222e-09, 2.14855363e-09, 4.49803949e-09, 2.07706439e-09,\n",
              "        3.74528576e-09, 2.04427454e-09, 2.04807373e-09, 5.91847634e-13,\n",
              "        5.71349782e-13, 2.43165133e-12, 5.56829425e-13, 5.52176141e-13,\n",
              "        5.46894496e-13, 5.71156816e-13, 3.72989710e-11, 5.58079936e-13,\n",
              "        5.61770939e-13, 1.19515819e-12, 5.50559481e-13, 9.39830221e-13,\n",
              "        5.47096944e-13, 5.51533396e-13, 5.67735174e-13, 2.38390174e-12,\n",
              "        5.48676376e-13, 5.44020720e-13, 5.38724769e-13, 5.62988285e-13,\n",
              "        3.66972615e-11, 5.50521659e-13, 5.53935638e-13, 1.19355338e-12,\n",
              "        5.42650186e-13, 9.26133102e-13, 5.38827459e-13, 5.42867018e-13,\n",
              "        1.13613828e-11, 2.31979714e-12, 2.28287135e-12, 2.25717825e-12,\n",
              "        2.36326494e-12, 1.55085697e-10, 2.31022239e-12, 2.34342944e-12,\n",
              "        5.20272977e-12, 2.26805557e-12, 3.78776156e-12, 2.26476383e-12,\n",
              "        2.27302422e-12, 5.37516753e-13, 5.30789523e-13, 5.25025754e-13,\n",
              "        5.49557524e-13, 3.57149351e-11, 5.35652393e-13, 5.39402927e-13,\n",
              "        1.16104736e-12, 5.28436813e-13, 9.05673235e-13, 5.24778826e-13,\n",
              "        5.29900345e-13, 5.27739273e-13, 5.20734301e-13, 5.45552339e-13,\n",
              "        3.54563832e-11, 5.31560283e-13, 5.35506263e-13, 1.15083719e-12,\n",
              "        5.24240269e-13, 8.98513663e-13, 5.20425939e-13, 5.25214601e-13,\n",
              "        5.15285570e-13, 5.39200312e-13, 3.50727099e-11, 5.25470753e-13,\n",
              "        5.29399674e-13, 1.13992963e-12, 5.18436659e-13, 8.87481130e-13,\n",
              "        5.14707556e-13, 5.19439018e-13, 5.69099553e-13, 3.67724083e-11,\n",
              "        5.50513447e-13, 5.55036591e-13, 1.18778432e-12, 5.43675584e-13,\n",
              "        9.34125443e-13, 5.38771481e-13, 5.44417994e-13, 2.37174141e-09,\n",
              "        3.58420249e-11, 3.61525925e-11, 7.91339192e-11, 3.52899888e-11,\n",
              "        6.03945352e-11, 3.51473576e-11, 3.54133813e-11, 5.37963092e-13,\n",
              "        5.40304592e-13, 1.15982282e-12, 5.29413315e-13, 9.05951573e-13,\n",
              "        5.25374110e-13, 5.30379158e-13, 5.46486661e-13, 1.17278712e-12,\n",
              "        5.33359605e-13, 9.13541166e-13, 5.29027153e-13, 5.33721123e-13,\n",
              "        3.07751247e-12, 1.14753763e-12, 2.06995684e-12, 1.13867592e-12,\n",
              "        1.14842696e-12, 5.22671261e-13, 8.92795832e-13, 5.17931581e-13,\n",
              "        5.23222760e-13, 1.71646790e-12, 8.86855360e-13, 8.99523549e-13,\n",
              "        5.14726212e-13, 5.19002126e-13, 5.26868075e-13]])"
            ]
          },
          "metadata": {
            "tags": []
          },
          "execution_count": 43
        }
      ]
    },
    {
      "cell_type": "code",
      "metadata": {
        "id": "Fma_i1dARVWA",
        "outputId": "876884cc-eb42-4880-ec50-0cf7765146ee",
        "colab": {
          "base_uri": "https://localhost:8080/"
        }
      },
      "source": [
        "print(f'Coeficientes mayores a cero: {(elastic_classifier.coef_>0).sum()}')"
      ],
      "execution_count": 44,
      "outputs": [
        {
          "output_type": "stream",
          "text": [
            "Coeficientes mayores a cero: 231\n"
          ],
          "name": "stdout"
        }
      ]
    },
    {
      "cell_type": "code",
      "metadata": {
        "id": "qNff6KeMRVWA",
        "outputId": "3728cc69-3ad2-4856-97d2-461060bbb3a1",
        "colab": {
          "base_uri": "https://localhost:8080/"
        }
      },
      "source": [
        "elastic_classifier.C_"
      ],
      "execution_count": 45,
      "outputs": [
        {
          "output_type": "execute_result",
          "data": {
            "text/plain": [
              "array([10000.])"
            ]
          },
          "metadata": {
            "tags": []
          },
          "execution_count": 45
        }
      ]
    },
    {
      "cell_type": "code",
      "metadata": {
        "id": "Zv6b4KOlRVWA",
        "outputId": "a8a97034-90fd-4b08-92cf-4d39ec37ac8a",
        "colab": {
          "base_uri": "https://localhost:8080/"
        }
      },
      "source": [
        "print(f'Mejor valor para lambda: {1/elastic_classifier.C_}')"
      ],
      "execution_count": 46,
      "outputs": [
        {
          "output_type": "stream",
          "text": [
            "Mejor valor para lambda: [0.0001]\n"
          ],
          "name": "stdout"
        }
      ]
    },
    {
      "cell_type": "code",
      "metadata": {
        "id": "QOwV38xSRVWA",
        "outputId": "d9fa8768-4070-4bf1-ef27-be306982779e",
        "colab": {
          "base_uri": "https://localhost:8080/"
        }
      },
      "source": [
        "print('================ Resultados de la Elastic Net =================\\n')\n",
        "print(classification_report(y_test, elastic_classifier.predict(X_test_cod)))"
      ],
      "execution_count": 47,
      "outputs": [
        {
          "output_type": "stream",
          "text": [
            "================ Resultados de la Elastic Net =================\n",
            "\n",
            "              precision    recall  f1-score   support\n",
            "\n",
            "           0       0.00      0.00      0.00        50\n",
            "           1       0.75      1.00      0.86       150\n",
            "\n",
            "    accuracy                           0.75       200\n",
            "   macro avg       0.38      0.50      0.43       200\n",
            "weighted avg       0.56      0.75      0.64       200\n",
            "\n"
          ],
          "name": "stdout"
        },
        {
          "output_type": "stream",
          "text": [
            "/usr/local/lib/python3.7/dist-packages/sklearn/metrics/_classification.py:1248: UndefinedMetricWarning:\n",
            "\n",
            "Precision and F-score are ill-defined and being set to 0.0 in labels with no predicted samples. Use `zero_division` parameter to control this behavior.\n",
            "\n",
            "/usr/local/lib/python3.7/dist-packages/sklearn/metrics/_classification.py:1248: UndefinedMetricWarning:\n",
            "\n",
            "Precision and F-score are ill-defined and being set to 0.0 in labels with no predicted samples. Use `zero_division` parameter to control this behavior.\n",
            "\n",
            "/usr/local/lib/python3.7/dist-packages/sklearn/metrics/_classification.py:1248: UndefinedMetricWarning:\n",
            "\n",
            "Precision and F-score are ill-defined and being set to 0.0 in labels with no predicted samples. Use `zero_division` parameter to control this behavior.\n",
            "\n"
          ],
          "name": "stderr"
        }
      ]
    },
    {
      "cell_type": "markdown",
      "metadata": {
        "id": "MJZCzbdOL-EZ"
      },
      "source": [
        "## Árboles de Decisión"
      ]
    },
    {
      "cell_type": "code",
      "metadata": {
        "id": "JgPFaxxAL-MV"
      },
      "source": [
        "from sklearn.tree import DecisionTreeClassifier\n",
        "from sklearn.ensemble import RandomForestClassifier, GradientBoostingClassifier"
      ],
      "execution_count": 48,
      "outputs": []
    },
    {
      "cell_type": "code",
      "metadata": {
        "id": "ofsyk40KTT49",
        "outputId": "20eac2b1-31fe-4d8b-95b9-885881471629",
        "colab": {
          "base_uri": "https://localhost:8080/"
        }
      },
      "source": [
        "dt = DecisionTreeClassifier()\n",
        "dt.fit(X_train_cod, y_train)"
      ],
      "execution_count": 49,
      "outputs": [
        {
          "output_type": "execute_result",
          "data": {
            "text/plain": [
              "DecisionTreeClassifier()"
            ]
          },
          "metadata": {
            "tags": []
          },
          "execution_count": 49
        }
      ]
    },
    {
      "cell_type": "code",
      "metadata": {
        "id": "5IMfXYlrTT74",
        "outputId": "ca6fd426-683f-4bd9-b2eb-f0369050d273",
        "colab": {
          "base_uri": "https://localhost:8080/"
        }
      },
      "source": [
        "dt.feature_importances_"
      ],
      "execution_count": 50,
      "outputs": [
        {
          "output_type": "execute_result",
          "data": {
            "text/plain": [
              "array([0.        , 0.        , 0.        , 0.        , 0.        ,\n",
              "       0.        , 0.        , 0.        , 0.        , 0.        ,\n",
              "       0.        , 0.        , 0.        , 0.00509091, 0.        ,\n",
              "       0.        , 0.        , 0.        , 0.        , 0.        ,\n",
              "       0.        , 0.        , 0.00930909, 0.01570909, 0.        ,\n",
              "       0.01582695, 0.14075527, 0.00561755, 0.        , 0.00551196,\n",
              "       0.        , 0.00857522, 0.        , 0.02153622, 0.        ,\n",
              "       0.00093444, 0.        , 0.        , 0.        , 0.        ,\n",
              "       0.        , 0.        , 0.        , 0.        , 0.        ,\n",
              "       0.        , 0.        , 0.01801024, 0.        , 0.01206988,\n",
              "       0.        , 0.03660315, 0.00649533, 0.00517172, 0.        ,\n",
              "       0.        , 0.        , 0.0097467 , 0.        , 0.        ,\n",
              "       0.        , 0.01994834, 0.06247227, 0.00892458, 0.        ,\n",
              "       0.        , 0.        , 0.        , 0.00484848, 0.04732802,\n",
              "       0.        , 0.00555372, 0.        , 0.01051565, 0.        ,\n",
              "       0.        , 0.01552614, 0.        , 0.        , 0.        ,\n",
              "       0.01164329, 0.01864796, 0.01034343, 0.        , 0.        ,\n",
              "       0.00115419, 0.01666116, 0.01125392, 0.        , 0.00167493,\n",
              "       0.01188739, 0.        , 0.01014784, 0.        , 0.00833333,\n",
              "       0.        , 0.        , 0.02651312, 0.01454545, 0.01144792,\n",
              "       0.        , 0.        , 0.00620606, 0.        , 0.00480416,\n",
              "       0.        , 0.00997403, 0.        , 0.00509091, 0.        ,\n",
              "       0.        , 0.        , 0.        , 0.        , 0.00564187,\n",
              "       0.01137389, 0.        , 0.00484848, 0.01459145, 0.        ,\n",
              "       0.00290909, 0.        , 0.01187879, 0.        , 0.        ,\n",
              "       0.        , 0.        , 0.        , 0.        , 0.01480353,\n",
              "       0.        , 0.        , 0.        , 0.02479309, 0.00971901,\n",
              "       0.        , 0.01847771, 0.        , 0.        , 0.        ,\n",
              "       0.        , 0.        , 0.        , 0.        , 0.0123516 ,\n",
              "       0.        , 0.        , 0.        , 0.        , 0.        ,\n",
              "       0.00484848, 0.00509091, 0.        , 0.        , 0.        ,\n",
              "       0.00838503, 0.        , 0.00145712, 0.        , 0.01292308,\n",
              "       0.        , 0.        , 0.00510145, 0.00555372, 0.        ,\n",
              "       0.        , 0.        , 0.01114007, 0.        , 0.        ,\n",
              "       0.        , 0.        , 0.        , 0.        , 0.        ,\n",
              "       0.        , 0.        , 0.02000098, 0.00484848, 0.        ,\n",
              "       0.        , 0.        , 0.0052472 , 0.        , 0.        ,\n",
              "       0.        , 0.        , 0.01000866, 0.00698182, 0.        ,\n",
              "       0.00992885, 0.        , 0.        , 0.00387879, 0.        ,\n",
              "       0.        , 0.01078713, 0.00393498, 0.01496104, 0.        ,\n",
              "       0.00546098, 0.        , 0.00659123, 0.        , 0.        ,\n",
              "       0.        , 0.        , 0.        , 0.        , 0.        ,\n",
              "       0.        , 0.        , 0.01282591, 0.        , 0.        ,\n",
              "       0.        , 0.        , 0.00496077, 0.0050994 , 0.01618538,\n",
              "       0.        , 0.        , 0.        , 0.        , 0.        ,\n",
              "       0.        , 0.        , 0.        , 0.        , 0.        ,\n",
              "       0.        ])"
            ]
          },
          "metadata": {
            "tags": []
          },
          "execution_count": 50
        }
      ]
    },
    {
      "cell_type": "code",
      "metadata": {
        "id": "yn12IDDGace3",
        "outputId": "bfa3bbb6-9bd7-47ec-ae6c-7cacc3103c00",
        "colab": {
          "base_uri": "https://localhost:8080/"
        }
      },
      "source": [
        "print(f'Importancias mayores a cero: {(dt.feature_importances_>0).sum()}')"
      ],
      "execution_count": 51,
      "outputs": [
        {
          "output_type": "stream",
          "text": [
            "Importancias mayores a cero: 76\n"
          ],
          "name": "stdout"
        }
      ]
    },
    {
      "cell_type": "code",
      "metadata": {
        "id": "-g5Ok9NxTT-u",
        "outputId": "6460d12b-5cbb-4840-a013-e5e6fe983b93",
        "colab": {
          "base_uri": "https://localhost:8080/"
        }
      },
      "source": [
        "print('================ Resultados Decision Tree =================\\n')\n",
        "print(classification_report(y_test, dt.predict(X_test_cod)))"
      ],
      "execution_count": 52,
      "outputs": [
        {
          "output_type": "stream",
          "text": [
            "================ Resultados Decision Tree =================\n",
            "\n",
            "              precision    recall  f1-score   support\n",
            "\n",
            "           0       0.42      0.52      0.46        50\n",
            "           1       0.83      0.76      0.79       150\n",
            "\n",
            "    accuracy                           0.70       200\n",
            "   macro avg       0.62      0.64      0.63       200\n",
            "weighted avg       0.72      0.70      0.71       200\n",
            "\n"
          ],
          "name": "stdout"
        }
      ]
    },
    {
      "cell_type": "markdown",
      "metadata": {
        "id": "tWyHp_OfTUBo"
      },
      "source": [
        "## Ensamblados de árboles"
      ]
    },
    {
      "cell_type": "code",
      "metadata": {
        "id": "nvj-wDSrUp_2",
        "outputId": "53869dbe-83a2-474a-e927-139de1611be1",
        "colab": {
          "base_uri": "https://localhost:8080/"
        }
      },
      "source": [
        "rf = RandomForestClassifier()\n",
        "rf.fit(X_train_cod, y_train)"
      ],
      "execution_count": 53,
      "outputs": [
        {
          "output_type": "execute_result",
          "data": {
            "text/plain": [
              "RandomForestClassifier()"
            ]
          },
          "metadata": {
            "tags": []
          },
          "execution_count": 53
        }
      ]
    },
    {
      "cell_type": "code",
      "metadata": {
        "id": "QrAEHOG4Up_8",
        "outputId": "0faefacb-6a1c-4ff1-f3b0-6b3912d0e94c",
        "colab": {
          "base_uri": "https://localhost:8080/"
        }
      },
      "source": [
        "rf.feature_importances_"
      ],
      "execution_count": 54,
      "outputs": [
        {
          "output_type": "execute_result",
          "data": {
            "text/plain": [
              "array([0.00000000e+00, 7.08783626e-03, 2.92312833e-03, 1.81856385e-03,\n",
              "       2.53002924e-03, 6.61862779e-03, 1.25116466e-03, 1.74868980e-03,\n",
              "       8.77022670e-04, 1.56947427e-03, 1.07381911e-03, 3.03893246e-03,\n",
              "       1.29773800e-03, 3.91340233e-03, 1.06398254e-03, 2.47608630e-04,\n",
              "       3.86050833e-04, 1.31823534e-03, 3.47706741e-04, 2.96281982e-04,\n",
              "       2.65515776e-05, 1.00647030e-02, 3.79631278e-03, 1.11615984e-02,\n",
              "       1.71455569e-02, 5.99580732e-03, 2.12825395e-02, 1.26039669e-02,\n",
              "       2.84144287e-03, 1.45066109e-02, 1.07403148e-02, 1.12096447e-02,\n",
              "       9.55742484e-03, 1.14719049e-02, 1.10191509e-02, 4.43217498e-03,\n",
              "       3.26158093e-03, 7.04368056e-03, 3.60971872e-03, 6.83143456e-03,\n",
              "       2.10482107e-03, 4.60481536e-03, 4.76859484e-03, 7.12724147e-03,\n",
              "       9.99118784e-03, 3.84625680e-03, 6.33542583e-03, 8.36130366e-03,\n",
              "       7.02896041e-03, 3.93574663e-03, 7.44339031e-03, 6.26735474e-03,\n",
              "       6.45980237e-03, 5.80502467e-03, 5.95106373e-03, 3.94859769e-03,\n",
              "       9.04159477e-03, 5.52621931e-03, 6.18784097e-03, 3.45319460e-03,\n",
              "       1.30448994e-03, 8.94552386e-03, 8.36310001e-03, 9.49558218e-03,\n",
              "       8.63121489e-03, 2.53665920e-03, 5.14195487e-03, 6.39512148e-03,\n",
              "       4.50604816e-03, 8.77567591e-03, 6.65671743e-03, 7.26338462e-03,\n",
              "       4.56438431e-03, 2.10815417e-03, 6.19674870e-03, 1.75681219e-03,\n",
              "       3.87522876e-03, 1.97952090e-03, 2.21759581e-03, 6.54557777e-03,\n",
              "       5.98177009e-03, 9.44951270e-03, 2.39257611e-03, 6.52529726e-03,\n",
              "       4.93563936e-03, 7.30353516e-03, 8.58806674e-03, 7.30884823e-03,\n",
              "       4.48355703e-03, 5.95046912e-03, 3.38296405e-03, 6.18712606e-03,\n",
              "       4.28932518e-03, 3.47631136e-03, 2.98913484e-03, 6.13908208e-03,\n",
              "       7.55115914e-03, 6.19232005e-03, 7.05127845e-03, 7.52419471e-03,\n",
              "       8.28921381e-03, 7.37822740e-03, 6.67714139e-03, 8.31291200e-03,\n",
              "       6.61697109e-03, 6.26191311e-03, 7.72548051e-03, 5.53585024e-03,\n",
              "       7.86389106e-03, 7.33706517e-03, 7.00298422e-03, 1.35820031e-03,\n",
              "       5.62629154e-03, 1.87965592e-03, 3.89778949e-03, 3.60272656e-03,\n",
              "       5.10173748e-03, 7.09630895e-03, 7.34633323e-03, 2.91276730e-03,\n",
              "       4.62486437e-03, 2.36423987e-03, 3.32420138e-03, 2.11493018e-03,\n",
              "       2.97484433e-03, 2.53090236e-03, 1.42362908e-03, 2.85369404e-03,\n",
              "       5.33861313e-03, 6.31093514e-03, 3.86823912e-03, 5.10799822e-03,\n",
              "       1.07066829e-02, 5.92282363e-03, 5.33782665e-03, 2.95688383e-03,\n",
              "       4.33304448e-03, 3.53992951e-03, 3.70708460e-03, 1.27085476e-03,\n",
              "       1.66817053e-03, 3.14230809e-03, 1.59080917e-03, 3.90328961e-03,\n",
              "       2.94211299e-03, 6.75451877e-03, 1.31927104e-03, 1.92099549e-03,\n",
              "       1.68782930e-03, 2.61112799e-03, 2.18605165e-03, 2.56378483e-03,\n",
              "       1.12950537e-03, 1.23405772e-03, 2.77518544e-03, 7.44690857e-03,\n",
              "       5.00687364e-03, 6.72251385e-03, 2.07241221e-03, 2.31343711e-03,\n",
              "       1.70127719e-03, 3.60244098e-03, 2.71295580e-03, 3.20474820e-03,\n",
              "       1.71178119e-03, 8.92952588e-04, 3.31656222e-03, 2.76140934e-03,\n",
              "       5.60289863e-03, 1.92435150e-03, 1.90574993e-03, 1.33876922e-03,\n",
              "       1.95559650e-03, 8.61095292e-04, 1.96065111e-03, 1.00769162e-03,\n",
              "       3.14202530e-03, 3.40359115e-03, 4.26139880e-03, 4.81818268e-03,\n",
              "       2.60868868e-03, 2.53612095e-03, 4.55995699e-03, 2.38791858e-03,\n",
              "       4.01726851e-03, 1.99048056e-03, 1.59043294e-03, 5.23356408e-03,\n",
              "       3.81441215e-03, 2.87075779e-03, 2.71418645e-03, 4.15269393e-03,\n",
              "       1.93983006e-03, 2.44528976e-03, 1.45714695e-03, 4.78564297e-03,\n",
              "       7.41538163e-03, 6.45243804e-03, 6.51771433e-03, 7.08518293e-03,\n",
              "       5.91860832e-03, 3.66368005e-03, 5.50066979e-03, 9.67465545e-04,\n",
              "       2.32954158e-03, 2.37370630e-03, 3.10756203e-03, 1.07896380e-03,\n",
              "       1.63166438e-03, 1.09789002e-03, 5.74283676e-04, 1.12144653e-03,\n",
              "       2.79145620e-03, 1.28474093e-03, 1.82995512e-03, 7.60635905e-04,\n",
              "       3.43238393e-04, 2.28403750e-03, 1.68505733e-03, 1.74029185e-03,\n",
              "       5.19248983e-04, 1.57449932e-03, 1.52370439e-03, 1.38898237e-03,\n",
              "       1.04761720e-03, 1.36103463e-04, 6.81869275e-04, 1.62854540e-04,\n",
              "       9.19527499e-04, 5.81735772e-04, 1.30363851e-04])"
            ]
          },
          "metadata": {
            "tags": []
          },
          "execution_count": 54
        }
      ]
    },
    {
      "cell_type": "code",
      "metadata": {
        "id": "A_Kiqjjqahuj",
        "outputId": "7368fdb6-c46f-4d08-b3e7-c5416336019a",
        "colab": {
          "base_uri": "https://localhost:8080/"
        }
      },
      "source": [
        "print(f'Importancias mayores a cero: {(rf.feature_importances_>0).sum()}')"
      ],
      "execution_count": 55,
      "outputs": [
        {
          "output_type": "stream",
          "text": [
            "Importancias mayores a cero: 230\n"
          ],
          "name": "stdout"
        }
      ]
    },
    {
      "cell_type": "code",
      "metadata": {
        "id": "xy7WoJW-Up_8",
        "outputId": "d3a9378d-df9d-4083-d623-9dfaa7bace57",
        "colab": {
          "base_uri": "https://localhost:8080/"
        }
      },
      "source": [
        "print('================ Resultados Random Forest =================\\n')\n",
        "print(classification_report(y_test, rf.predict(X_test_cod)))"
      ],
      "execution_count": 56,
      "outputs": [
        {
          "output_type": "stream",
          "text": [
            "================ Resultados Random Forest =================\n",
            "\n",
            "              precision    recall  f1-score   support\n",
            "\n",
            "           0       0.53      0.58      0.55        50\n",
            "           1       0.86      0.83      0.84       150\n",
            "\n",
            "    accuracy                           0.77       200\n",
            "   macro avg       0.69      0.70      0.70       200\n",
            "weighted avg       0.77      0.77      0.77       200\n",
            "\n"
          ],
          "name": "stdout"
        }
      ]
    },
    {
      "cell_type": "code",
      "metadata": {
        "id": "rt_M7VK7ao_v",
        "outputId": "99168b33-3168-4790-9319-61a623c19e0f",
        "colab": {
          "base_uri": "https://localhost:8080/"
        }
      },
      "source": [
        "gbt = GradientBoostingClassifier()\n",
        "gbt.fit(X_train_cod, y_train)"
      ],
      "execution_count": 57,
      "outputs": [
        {
          "output_type": "execute_result",
          "data": {
            "text/plain": [
              "GradientBoostingClassifier()"
            ]
          },
          "metadata": {
            "tags": []
          },
          "execution_count": 57
        }
      ]
    },
    {
      "cell_type": "code",
      "metadata": {
        "id": "Bd8uJWj8ao_0",
        "outputId": "15da5293-bd17-4ca0-d567-b94cc1de9edc",
        "colab": {
          "base_uri": "https://localhost:8080/"
        }
      },
      "source": [
        "gbt.feature_importances_"
      ],
      "execution_count": 58,
      "outputs": [
        {
          "output_type": "execute_result",
          "data": {
            "text/plain": [
              "array([0.00000000e+00, 1.54645828e-05, 0.00000000e+00, 0.00000000e+00,\n",
              "       0.00000000e+00, 1.51519694e-04, 0.00000000e+00, 0.00000000e+00,\n",
              "       0.00000000e+00, 0.00000000e+00, 0.00000000e+00, 2.80060814e-04,\n",
              "       0.00000000e+00, 6.83683044e-06, 0.00000000e+00, 0.00000000e+00,\n",
              "       0.00000000e+00, 0.00000000e+00, 0.00000000e+00, 0.00000000e+00,\n",
              "       0.00000000e+00, 0.00000000e+00, 5.58579103e-03, 5.33767304e-03,\n",
              "       3.78338500e-03, 1.26419641e-02, 1.08647813e-01, 1.33699018e-02,\n",
              "       2.19039539e-03, 2.75180936e-02, 2.31503472e-03, 4.91989292e-03,\n",
              "       4.53976113e-02, 3.21476816e-02, 7.07367261e-03, 8.78494108e-05,\n",
              "       9.17097800e-04, 1.88103532e-03, 0.00000000e+00, 1.05932059e-03,\n",
              "       5.97497231e-05, 3.44032325e-04, 3.12191783e-03, 1.64594853e-03,\n",
              "       4.97392406e-03, 2.03127822e-02, 5.26001037e-03, 3.23272646e-02,\n",
              "       2.06725856e-03, 1.95334627e-04, 2.74365004e-03, 1.25065845e-02,\n",
              "       1.91142732e-02, 4.50390575e-04, 8.60368747e-04, 1.94582374e-03,\n",
              "       2.09952087e-03, 1.40341691e-02, 2.96703341e-04, 9.37985686e-04,\n",
              "       0.00000000e+00, 3.38041901e-02, 3.73684010e-02, 1.07243636e-02,\n",
              "       1.18835871e-02, 2.82985756e-05, 2.34713347e-03, 2.27452700e-02,\n",
              "       2.37068757e-03, 1.34543828e-02, 8.32277966e-03, 1.44801277e-03,\n",
              "       1.20293135e-03, 0.00000000e+00, 1.04736542e-02, 1.49033247e-03,\n",
              "       0.00000000e+00, 1.00720390e-04, 0.00000000e+00, 1.53383756e-03,\n",
              "       9.60926598e-03, 1.42883272e-02, 1.22794292e-03, 4.07328533e-03,\n",
              "       6.33036420e-03, 3.55092150e-03, 1.53539020e-02, 7.77839211e-03,\n",
              "       8.74565710e-03, 3.94346346e-03, 0.00000000e+00, 1.91261699e-03,\n",
              "       1.42768141e-03, 4.03703949e-06, 3.78139994e-03, 0.00000000e+00,\n",
              "       5.86805002e-03, 1.60679546e-02, 3.38143868e-03, 2.76875845e-03,\n",
              "       0.00000000e+00, 8.98419286e-04, 1.22115166e-02, 2.60614213e-02,\n",
              "       1.79034297e-03, 4.80811702e-03, 1.45134993e-02, 5.91391336e-03,\n",
              "       1.02591271e-03, 4.41638091e-03, 2.72233817e-04, 2.07519917e-06,\n",
              "       4.02411876e-04, 3.43899408e-04, 1.27549937e-02, 3.04880968e-03,\n",
              "       1.28390094e-02, 1.75975766e-05, 1.44000953e-02, 1.39895070e-04,\n",
              "       4.70043392e-03, 2.82921050e-03, 3.33035813e-03, 2.30385220e-07,\n",
              "       5.98664655e-04, 2.41128979e-04, 0.00000000e+00, 1.66368648e-03,\n",
              "       3.57052924e-03, 6.13368727e-03, 2.05553032e-03, 8.50931102e-03,\n",
              "       3.12831596e-03, 1.05918258e-02, 4.96797736e-03, 6.23054586e-04,\n",
              "       2.39687052e-03, 3.01917789e-03, 3.42823499e-03, 5.36784360e-04,\n",
              "       0.00000000e+00, 1.30626856e-06, 1.29667024e-03, 3.23928621e-03,\n",
              "       8.80890799e-04, 7.82513080e-03, 7.21773696e-04, 1.16310196e-05,\n",
              "       0.00000000e+00, 4.29461577e-03, 1.84754143e-03, 8.52378377e-04,\n",
              "       8.41984308e-08, 0.00000000e+00, 1.66788703e-03, 6.82477180e-03,\n",
              "       4.71994542e-03, 3.34691875e-04, 1.61981110e-03, 5.90872987e-03,\n",
              "       0.00000000e+00, 1.48387772e-03, 0.00000000e+00, 0.00000000e+00,\n",
              "       0.00000000e+00, 0.00000000e+00, 2.29691252e-03, 0.00000000e+00,\n",
              "       8.22842202e-05, 4.08130637e-03, 3.05130795e-03, 0.00000000e+00,\n",
              "       0.00000000e+00, 0.00000000e+00, 0.00000000e+00, 0.00000000e+00,\n",
              "       0.00000000e+00, 1.98019288e-03, 1.90543460e-03, 2.58974613e-02,\n",
              "       1.48347270e-03, 2.19465041e-03, 6.43340478e-04, 1.73917154e-03,\n",
              "       5.05655906e-03, 0.00000000e+00, 0.00000000e+00, 8.44306543e-03,\n",
              "       3.58534986e-03, 1.00924231e-03, 0.00000000e+00, 8.08333541e-04,\n",
              "       1.59457034e-05, 1.78439875e-03, 2.93115437e-04, 0.00000000e+00,\n",
              "       4.99784197e-03, 7.36583676e-03, 6.25053723e-03, 3.22242777e-03,\n",
              "       6.56658316e-03, 0.00000000e+00, 3.73479583e-04, 0.00000000e+00,\n",
              "       0.00000000e+00, 0.00000000e+00, 1.07487565e-03, 0.00000000e+00,\n",
              "       0.00000000e+00, 0.00000000e+00, 0.00000000e+00, 0.00000000e+00,\n",
              "       7.07443256e-03, 0.00000000e+00, 1.70669169e-03, 0.00000000e+00,\n",
              "       0.00000000e+00, 9.88168172e-04, 4.26426981e-05, 0.00000000e+00,\n",
              "       0.00000000e+00, 0.00000000e+00, 0.00000000e+00, 1.00454769e-03,\n",
              "       3.40497620e-04, 3.99948261e-04, 4.85534271e-04, 0.00000000e+00,\n",
              "       0.00000000e+00, 0.00000000e+00, 0.00000000e+00])"
            ]
          },
          "metadata": {
            "tags": []
          },
          "execution_count": 58
        }
      ]
    },
    {
      "cell_type": "code",
      "metadata": {
        "id": "A5Wiojljao_1",
        "outputId": "df6c3c63-1c84-4ab4-d21b-8c665054f207",
        "colab": {
          "base_uri": "https://localhost:8080/"
        }
      },
      "source": [
        "print(f'Importancias mayores a cero: {(gbt.feature_importances_>0).sum()}')"
      ],
      "execution_count": 59,
      "outputs": [
        {
          "output_type": "stream",
          "text": [
            "Importancias mayores a cero: 165\n"
          ],
          "name": "stdout"
        }
      ]
    },
    {
      "cell_type": "code",
      "metadata": {
        "id": "jZPp-SeYao_1",
        "outputId": "e84fce64-9605-4909-8188-738c58b5a249",
        "colab": {
          "base_uri": "https://localhost:8080/"
        }
      },
      "source": [
        "print('================ Resultados Gradient Boosting Trees =================\\n')\n",
        "print(classification_report(y_test, gbt.predict(X_test_cod)))"
      ],
      "execution_count": 60,
      "outputs": [
        {
          "output_type": "stream",
          "text": [
            "================ Resultados Gradient Boosting Trees =================\n",
            "\n",
            "              precision    recall  f1-score   support\n",
            "\n",
            "           0       0.57      0.60      0.58        50\n",
            "           1       0.86      0.85      0.86       150\n",
            "\n",
            "    accuracy                           0.79       200\n",
            "   macro avg       0.71      0.72      0.72       200\n",
            "weighted avg       0.79      0.79      0.79       200\n",
            "\n"
          ],
          "name": "stdout"
        }
      ]
    },
    {
      "cell_type": "markdown",
      "metadata": {
        "id": "i7IZdBb_L-fK"
      },
      "source": [
        "# Wrapper Methods"
      ]
    },
    {
      "cell_type": "code",
      "metadata": {
        "id": "oVHqPikPL98l"
      },
      "source": [
        "from sklearn.feature_selection import SequentialFeatureSelector, RFECV\n",
        "from sklearn.neighbors import KNeighborsClassifier"
      ],
      "execution_count": 61,
      "outputs": []
    },
    {
      "cell_type": "markdown",
      "metadata": {
        "id": "cXJRHc0ML-j5"
      },
      "source": [
        "## Stepwise selection"
      ]
    },
    {
      "cell_type": "markdown",
      "metadata": {
        "id": "D5Z5wdN8qMvg"
      },
      "source": [
        "### Forward"
      ]
    },
    {
      "cell_type": "code",
      "metadata": {
        "id": "k74Ogj9foWAo"
      },
      "source": [
        "rf = RandomForestClassifier(n_estimators=25)"
      ],
      "execution_count": 62,
      "outputs": []
    },
    {
      "cell_type": "code",
      "metadata": {
        "id": "rZCnhPl8og48"
      },
      "source": [
        "n_features = 10"
      ],
      "execution_count": 63,
      "outputs": []
    },
    {
      "cell_type": "code",
      "metadata": {
        "id": "T06N3rDLL-mO"
      },
      "source": [
        "forward_stepwise = SequentialFeatureSelector(rf,n_features_to_select=n_features, direction='forward', cv=2)"
      ],
      "execution_count": 64,
      "outputs": []
    },
    {
      "cell_type": "code",
      "metadata": {
        "id": "U-VkQKbmowzo",
        "outputId": "c75fdab8-abd8-443f-8796-a8c685b893ef",
        "colab": {
          "base_uri": "https://localhost:8080/"
        }
      },
      "source": [
        "forward_stepwise.fit(X_train_cod1, y_train) #X_train_cod1 -> 20 features"
      ],
      "execution_count": 65,
      "outputs": [
        {
          "output_type": "execute_result",
          "data": {
            "text/plain": [
              "SequentialFeatureSelector(cv=2,\n",
              "                          estimator=RandomForestClassifier(n_estimators=25),\n",
              "                          n_features_to_select=10)"
            ]
          },
          "metadata": {
            "tags": []
          },
          "execution_count": 65
        }
      ]
    },
    {
      "cell_type": "code",
      "metadata": {
        "id": "fPGyg1fRpo04",
        "outputId": "87b8992a-e7ed-46ad-9ebd-81d46fa66b83",
        "colab": {
          "base_uri": "https://localhost:8080/"
        }
      },
      "source": [
        "forward_stepwise.get_support()"
      ],
      "execution_count": 66,
      "outputs": [
        {
          "output_type": "execute_result",
          "data": {
            "text/plain": [
              "array([ True, False,  True, False, False,  True,  True, False,  True,\n",
              "        True, False, False, False,  True, False, False,  True, False,\n",
              "        True,  True])"
            ]
          },
          "metadata": {
            "tags": []
          },
          "execution_count": 66
        }
      ]
    },
    {
      "cell_type": "code",
      "metadata": {
        "id": "PkzGuFL6piOc"
      },
      "source": [
        "X_train_frw = forward_stepwise.transform(X_train_cod1)\n",
        "X_test_frw = forward_stepwise.transform(X_test_cod1)"
      ],
      "execution_count": 67,
      "outputs": []
    },
    {
      "cell_type": "code",
      "metadata": {
        "id": "uVnBkWLjp3oc",
        "outputId": "99f9bea0-a227-4fee-a1f6-7565de4cc64d",
        "colab": {
          "base_uri": "https://localhost:8080/"
        }
      },
      "source": [
        "rf_frw = RandomForestClassifier(n_estimators=25)\n",
        "rf_frw.fit(X_train_frw, y_train)"
      ],
      "execution_count": 68,
      "outputs": [
        {
          "output_type": "execute_result",
          "data": {
            "text/plain": [
              "RandomForestClassifier(n_estimators=25)"
            ]
          },
          "metadata": {
            "tags": []
          },
          "execution_count": 68
        }
      ]
    },
    {
      "cell_type": "code",
      "metadata": {
        "id": "pIy9vmaoow8m",
        "outputId": "60df5b8d-1d5d-4b15-cf6d-3a66d924f593",
        "colab": {
          "base_uri": "https://localhost:8080/"
        }
      },
      "source": [
        "print('================ Resultados Forward Stepwise Random Forest =================\\n')\n",
        "print(classification_report(y_test, rf_frw.predict(X_test_frw)))"
      ],
      "execution_count": 69,
      "outputs": [
        {
          "output_type": "stream",
          "text": [
            "================ Resultados Forward Stepwise Random Forest =================\n",
            "\n",
            "              precision    recall  f1-score   support\n",
            "\n",
            "           0       0.41      0.48      0.44        50\n",
            "           1       0.82      0.77      0.79       150\n",
            "\n",
            "    accuracy                           0.70       200\n",
            "   macro avg       0.62      0.63      0.62       200\n",
            "weighted avg       0.72      0.70      0.71       200\n",
            "\n"
          ],
          "name": "stdout"
        }
      ]
    },
    {
      "cell_type": "markdown",
      "metadata": {
        "id": "mcCxAJmGqPsN"
      },
      "source": [
        "### Backward"
      ]
    },
    {
      "cell_type": "code",
      "metadata": {
        "id": "ZS_PAdS4qsA6"
      },
      "source": [
        "rf = RandomForestClassifier(n_estimators=25)"
      ],
      "execution_count": 70,
      "outputs": []
    },
    {
      "cell_type": "code",
      "metadata": {
        "id": "WkQQfigmqsBA"
      },
      "source": [
        "n_features = 10"
      ],
      "execution_count": 71,
      "outputs": []
    },
    {
      "cell_type": "code",
      "metadata": {
        "id": "vhzTQjPRqsBA"
      },
      "source": [
        "backward_stepwise = SequentialFeatureSelector(rf,n_features_to_select=n_features, direction='backward', cv=2)"
      ],
      "execution_count": 72,
      "outputs": []
    },
    {
      "cell_type": "code",
      "metadata": {
        "id": "zpHIl9U9qsBA",
        "outputId": "87cdd975-374a-42fe-a4b4-0b83759bcafb",
        "colab": {
          "base_uri": "https://localhost:8080/"
        }
      },
      "source": [
        "backward_stepwise.fit(X_train_cod1, y_train) #X_train_cod1 -> 20 features"
      ],
      "execution_count": 73,
      "outputs": [
        {
          "output_type": "execute_result",
          "data": {
            "text/plain": [
              "SequentialFeatureSelector(cv=2, direction='backward',\n",
              "                          estimator=RandomForestClassifier(n_estimators=25),\n",
              "                          n_features_to_select=10)"
            ]
          },
          "metadata": {
            "tags": []
          },
          "execution_count": 73
        }
      ]
    },
    {
      "cell_type": "code",
      "metadata": {
        "id": "HLBJIZxyqsBB",
        "outputId": "7e5942be-0b15-4c34-c451-d3326396ca70",
        "colab": {
          "base_uri": "https://localhost:8080/"
        }
      },
      "source": [
        "backward_stepwise.get_support()"
      ],
      "execution_count": 74,
      "outputs": [
        {
          "output_type": "execute_result",
          "data": {
            "text/plain": [
              "array([ True,  True,  True,  True,  True,  True, False, False,  True,\n",
              "       False, False,  True, False,  True, False, False, False, False,\n",
              "       False,  True])"
            ]
          },
          "metadata": {
            "tags": []
          },
          "execution_count": 74
        }
      ]
    },
    {
      "cell_type": "code",
      "metadata": {
        "id": "mDVZMxytqsBB"
      },
      "source": [
        "X_train_bkw = backward_stepwise.transform(X_train_cod1)\n",
        "X_test_bkw = backward_stepwise.transform(X_test_cod1)"
      ],
      "execution_count": 75,
      "outputs": []
    },
    {
      "cell_type": "code",
      "metadata": {
        "id": "dFbJ-Wa8qsBB",
        "outputId": "cb12ffc2-3ac4-4123-c478-d9198ee3a92a",
        "colab": {
          "base_uri": "https://localhost:8080/"
        }
      },
      "source": [
        "rf_bkw = RandomForestClassifier(n_estimators=25)\n",
        "rf_bkw.fit(X_train_bkw, y_train)"
      ],
      "execution_count": 76,
      "outputs": [
        {
          "output_type": "execute_result",
          "data": {
            "text/plain": [
              "RandomForestClassifier(n_estimators=25)"
            ]
          },
          "metadata": {
            "tags": []
          },
          "execution_count": 76
        }
      ]
    },
    {
      "cell_type": "code",
      "metadata": {
        "id": "AoLktoLvqsBB",
        "outputId": "c71d705a-52f2-4be3-c0f3-8459440c72ec",
        "colab": {
          "base_uri": "https://localhost:8080/"
        }
      },
      "source": [
        "print('================ Resultados Backward Stepwise Random Forest =================\\n')\n",
        "print(classification_report(y_test, rf_bkw.predict(X_test_bkw)))"
      ],
      "execution_count": 77,
      "outputs": [
        {
          "output_type": "stream",
          "text": [
            "================ Resultados Backward Stepwise Random Forest =================\n",
            "\n",
            "              precision    recall  f1-score   support\n",
            "\n",
            "           0       0.54      0.52      0.53        50\n",
            "           1       0.84      0.85      0.85       150\n",
            "\n",
            "    accuracy                           0.77       200\n",
            "   macro avg       0.69      0.69      0.69       200\n",
            "weighted avg       0.77      0.77      0.77       200\n",
            "\n"
          ],
          "name": "stdout"
        }
      ]
    },
    {
      "cell_type": "markdown",
      "metadata": {
        "id": "aleXoWk7L-tH"
      },
      "source": [
        "## Recursive Feature Elimination"
      ]
    },
    {
      "cell_type": "code",
      "metadata": {
        "id": "OtRcITEDrhU9"
      },
      "source": [
        "rf = RandomForestClassifier(n_estimators=25)"
      ],
      "execution_count": 78,
      "outputs": []
    },
    {
      "cell_type": "code",
      "metadata": {
        "id": "j08IzeI4rhVD"
      },
      "source": [
        "n_features = 5"
      ],
      "execution_count": 105,
      "outputs": []
    },
    {
      "cell_type": "code",
      "metadata": {
        "id": "dTmp81ggrhVE"
      },
      "source": [
        "rfe = RFECV(rf,min_features_to_select=n_features, cv=2)"
      ],
      "execution_count": 80,
      "outputs": []
    },
    {
      "cell_type": "code",
      "metadata": {
        "id": "ZWbPU0zrrhVE",
        "outputId": "915e1947-9f45-4d21-a27c-2dccc90e8cb7",
        "colab": {
          "base_uri": "https://localhost:8080/"
        }
      },
      "source": [
        "rfe.fit(X_train_cod1, y_train) #X_train_cod1 -> 20 features"
      ],
      "execution_count": 81,
      "outputs": [
        {
          "output_type": "execute_result",
          "data": {
            "text/plain": [
              "RFECV(cv=2, estimator=RandomForestClassifier(n_estimators=25),\n",
              "      min_features_to_select=10)"
            ]
          },
          "metadata": {
            "tags": []
          },
          "execution_count": 81
        }
      ]
    },
    {
      "cell_type": "code",
      "metadata": {
        "id": "02id7Xi_rhVE",
        "outputId": "1cf9dd81-92c8-48b1-efcb-0e48dcb749c9",
        "colab": {
          "base_uri": "https://localhost:8080/"
        }
      },
      "source": [
        "rfe.get_support()"
      ],
      "execution_count": 82,
      "outputs": [
        {
          "output_type": "execute_result",
          "data": {
            "text/plain": [
              "array([ True,  True,  True,  True,  True,  True,  True,  True,  True,\n",
              "       False,  True,  True,  True,  True,  True,  True,  True, False,\n",
              "       False, False])"
            ]
          },
          "metadata": {
            "tags": []
          },
          "execution_count": 82
        }
      ]
    },
    {
      "cell_type": "code",
      "metadata": {
        "id": "6dugMBpIrhVF"
      },
      "source": [
        "X_train_rfe = rfe.transform(X_train_cod1)\n",
        "X_test_ref = rfe.transform(X_test_cod1)"
      ],
      "execution_count": 83,
      "outputs": []
    },
    {
      "cell_type": "code",
      "metadata": {
        "id": "Vh6S9F7qrhVF",
        "outputId": "767a981b-90ed-4e36-c336-33faf7ecb1d2",
        "colab": {
          "base_uri": "https://localhost:8080/"
        }
      },
      "source": [
        "rf_rfe = RandomForestClassifier(n_estimators=25)\n",
        "rf_rfe.fit(X_train_rfe, y_train)"
      ],
      "execution_count": 84,
      "outputs": [
        {
          "output_type": "execute_result",
          "data": {
            "text/plain": [
              "RandomForestClassifier(n_estimators=25)"
            ]
          },
          "metadata": {
            "tags": []
          },
          "execution_count": 84
        }
      ]
    },
    {
      "cell_type": "code",
      "metadata": {
        "id": "AZMrofE6rhVF",
        "outputId": "8329062f-b62d-47e5-91d9-29251808ac71",
        "colab": {
          "base_uri": "https://localhost:8080/"
        }
      },
      "source": [
        "print('================ Resultados Recursive Feature Elimination Random Forests =================\\n')\n",
        "print(classification_report(y_test, rf_rfe.predict(X_test_ref)))"
      ],
      "execution_count": 85,
      "outputs": [
        {
          "output_type": "stream",
          "text": [
            "================ Resultados Recursive Feature Elimination Random Forests =================\n",
            "\n",
            "              precision    recall  f1-score   support\n",
            "\n",
            "           0       0.61      0.56      0.58        50\n",
            "           1       0.86      0.88      0.87       150\n",
            "\n",
            "    accuracy                           0.80       200\n",
            "   macro avg       0.73      0.72      0.73       200\n",
            "weighted avg       0.80      0.80      0.80       200\n",
            "\n"
          ],
          "name": "stdout"
        }
      ]
    },
    {
      "cell_type": "code",
      "metadata": {
        "id": "V7Cu3tYxsCTW"
      },
      "source": [
        ""
      ],
      "execution_count": 85,
      "outputs": []
    },
    {
      "cell_type": "markdown",
      "metadata": {
        "id": "1W3FG7f5L-RK"
      },
      "source": [
        "# Filtros"
      ]
    },
    {
      "cell_type": "code",
      "metadata": {
        "id": "i9m2SCfCL-WT"
      },
      "source": [
        "from sklearn.feature_selection import SelectKBest, chi2, f_classif, mutual_info_classif"
      ],
      "execution_count": 86,
      "outputs": []
    },
    {
      "cell_type": "markdown",
      "metadata": {
        "id": "jaZ1kK9nvLZn"
      },
      "source": [
        "## Filtro utilizando Chi2"
      ]
    },
    {
      "cell_type": "code",
      "metadata": {
        "id": "MJ1vB65lL-Y1",
        "outputId": "df16e559-ebab-46b6-9f04-3cbc16256b50",
        "colab": {
          "base_uri": "https://localhost:8080/"
        }
      },
      "source": [
        "chi2_best = SelectKBest(chi2, k=5)\n",
        "chi2_best.fit_transform(X_train_cod1, y_train)"
      ],
      "execution_count": 87,
      "outputs": [
        {
          "output_type": "execute_result",
          "data": {
            "text/plain": [
              "array([[8.74023438e-01, 1.80000000e+01, 1.53000000e+03, 3.00000000e+00,\n",
              "        3.20000000e+01],\n",
              "       [6.11944444e-01, 1.80000000e+01, 4.29700000e+03, 4.00000000e+00,\n",
              "        4.00000000e+01],\n",
              "       [6.11944444e-01, 1.80000000e+01, 1.23900000e+03, 4.00000000e+00,\n",
              "        6.10000000e+01],\n",
              "       ...,\n",
              "       [6.11944444e-01, 1.80000000e+01, 1.92800000e+03, 2.00000000e+00,\n",
              "        3.10000000e+01],\n",
              "       [8.74023438e-01, 6.00000000e+00, 1.54300000e+03, 4.00000000e+00,\n",
              "        3.30000000e+01],\n",
              "       [8.74023438e-01, 1.20000000e+01, 1.18500000e+03, 3.00000000e+00,\n",
              "        2.70000000e+01]])"
            ]
          },
          "metadata": {
            "tags": []
          },
          "execution_count": 87
        }
      ]
    },
    {
      "cell_type": "code",
      "metadata": {
        "id": "eDg_cqkmtlz6",
        "outputId": "e59efb66-93ca-4821-8e4c-98cdd272f97f",
        "colab": {
          "base_uri": "https://localhost:8080/"
        }
      },
      "source": [
        "chi2_best.fit_transform(X_train_cod1, y_train).shape"
      ],
      "execution_count": 88,
      "outputs": [
        {
          "output_type": "execute_result",
          "data": {
            "text/plain": [
              "(800, 5)"
            ]
          },
          "metadata": {
            "tags": []
          },
          "execution_count": 88
        }
      ]
    },
    {
      "cell_type": "code",
      "metadata": {
        "id": "gl6v1LLHuXsn",
        "outputId": "1296a3da-f205-4fa7-8c18-d1f750c942b0",
        "colab": {
          "base_uri": "https://localhost:8080/"
        }
      },
      "source": [
        "chi2_best.get_support()"
      ],
      "execution_count": 89,
      "outputs": [
        {
          "output_type": "execute_result",
          "data": {
            "text/plain": [
              "array([ True,  True, False, False,  True, False, False,  True, False,\n",
              "       False, False, False,  True, False, False, False, False, False,\n",
              "       False, False])"
            ]
          },
          "metadata": {
            "tags": []
          },
          "execution_count": 89
        }
      ]
    },
    {
      "cell_type": "code",
      "metadata": {
        "id": "4v3R7CGEu8nP"
      },
      "source": [
        "X_train_chi2 = chi2_best.transform(X_train_cod1)\n",
        "X_test_chi2 = chi2_best.transform(X_test_cod1)"
      ],
      "execution_count": 90,
      "outputs": []
    },
    {
      "cell_type": "code",
      "metadata": {
        "id": "KAd60c6Bu8nR",
        "outputId": "748b9b9f-e173-447f-8138-49c0040c1e1a",
        "colab": {
          "base_uri": "https://localhost:8080/"
        }
      },
      "source": [
        "rf_chi2 = RandomForestClassifier(n_estimators=25)\n",
        "rf_chi2.fit(X_train_chi2, y_train)"
      ],
      "execution_count": 91,
      "outputs": [
        {
          "output_type": "execute_result",
          "data": {
            "text/plain": [
              "RandomForestClassifier(n_estimators=25)"
            ]
          },
          "metadata": {
            "tags": []
          },
          "execution_count": 91
        }
      ]
    },
    {
      "cell_type": "code",
      "metadata": {
        "id": "da2eOiEcu8nR",
        "outputId": "fc69157a-f59d-4c19-cb3c-046aa38a7cec",
        "colab": {
          "base_uri": "https://localhost:8080/"
        }
      },
      "source": [
        "print('================ Resultados Chi2 Filter Random Forests =================\\n')\n",
        "print(classification_report(y_test, rf_chi2.predict(X_test_chi2)))"
      ],
      "execution_count": 92,
      "outputs": [
        {
          "output_type": "stream",
          "text": [
            "================ Resultados Chi2 Filter Random Forests =================\n",
            "\n",
            "              precision    recall  f1-score   support\n",
            "\n",
            "           0       0.38      0.44      0.41        50\n",
            "           1       0.80      0.76      0.78       150\n",
            "\n",
            "    accuracy                           0.68       200\n",
            "   macro avg       0.59      0.60      0.59       200\n",
            "weighted avg       0.70      0.68      0.69       200\n",
            "\n"
          ],
          "name": "stdout"
        }
      ]
    },
    {
      "cell_type": "code",
      "metadata": {
        "id": "6gPfvRvWuNu_"
      },
      "source": [
        ""
      ],
      "execution_count": 92,
      "outputs": []
    },
    {
      "cell_type": "markdown",
      "metadata": {
        "id": "WD9-S2tZvRvb"
      },
      "source": [
        "## Filtro utilizando ANOVA F-value"
      ]
    },
    {
      "cell_type": "code",
      "metadata": {
        "id": "tHtFPnJPvRvb",
        "outputId": "5a284465-1be5-4205-ac89-af39c678c14c",
        "colab": {
          "base_uri": "https://localhost:8080/"
        }
      },
      "source": [
        "fclass_best = SelectKBest(f_classif, k=5)\n",
        "fclass_best.fit_transform(X_train_cod1, y_train)"
      ],
      "execution_count": 93,
      "outputs": [
        {
          "output_type": "execute_result",
          "data": {
            "text/plain": [
              "array([[ 0.87402344, 18.        ,  0.82494703,  0.60795455,  0.6225    ],\n",
              "       [ 0.61194444, 18.        ,  0.671875  ,  0.67978896,  0.6225    ],\n",
              "       [ 0.61194444, 18.        ,  0.66358568,  0.55608974,  0.80327181],\n",
              "       ...,\n",
              "       [ 0.61194444, 18.        ,  0.82494703,  0.67978896,  0.6225    ],\n",
              "       [ 0.87402344,  6.        ,  0.66358568,  0.67978896,  0.87645349],\n",
              "       [ 0.87402344, 12.        ,  0.82494703,  0.63811728,  0.6225    ]])"
            ]
          },
          "metadata": {
            "tags": []
          },
          "execution_count": 93
        }
      ]
    },
    {
      "cell_type": "code",
      "metadata": {
        "id": "lSGSW7G0vRvg",
        "outputId": "f5e8aad2-820b-41db-c9ab-79ff4f3e2b4e",
        "colab": {
          "base_uri": "https://localhost:8080/"
        }
      },
      "source": [
        "fclass_best.fit_transform(X_train_cod1, y_train).shape"
      ],
      "execution_count": 94,
      "outputs": [
        {
          "output_type": "execute_result",
          "data": {
            "text/plain": [
              "(800, 5)"
            ]
          },
          "metadata": {
            "tags": []
          },
          "execution_count": 94
        }
      ]
    },
    {
      "cell_type": "code",
      "metadata": {
        "id": "cXeogGhTvRvg",
        "outputId": "e03217d8-939b-4425-af75-fba776e7e148",
        "colab": {
          "base_uri": "https://localhost:8080/"
        }
      },
      "source": [
        "fclass_best.get_support()"
      ],
      "execution_count": 95,
      "outputs": [
        {
          "output_type": "execute_result",
          "data": {
            "text/plain": [
              "array([ True,  True,  True,  True, False,  True, False, False, False,\n",
              "       False, False, False, False, False, False, False, False, False,\n",
              "       False, False])"
            ]
          },
          "metadata": {
            "tags": []
          },
          "execution_count": 95
        }
      ]
    },
    {
      "cell_type": "code",
      "metadata": {
        "id": "2NFO7L7AvRvg"
      },
      "source": [
        "X_train_fclass = fclass_best.transform(X_train_cod1)\n",
        "X_test_fclass = fclass_best.transform(X_test_cod1)"
      ],
      "execution_count": 96,
      "outputs": []
    },
    {
      "cell_type": "code",
      "metadata": {
        "id": "jyQB7PGlvRvh",
        "outputId": "99f03704-dd1a-405b-e521-274e4fdfd7d5",
        "colab": {
          "base_uri": "https://localhost:8080/"
        }
      },
      "source": [
        "rf_fclass = RandomForestClassifier(n_estimators=25)\n",
        "rf_fclass.fit(X_train_fclass, y_train)"
      ],
      "execution_count": 97,
      "outputs": [
        {
          "output_type": "execute_result",
          "data": {
            "text/plain": [
              "RandomForestClassifier(n_estimators=25)"
            ]
          },
          "metadata": {
            "tags": []
          },
          "execution_count": 97
        }
      ]
    },
    {
      "cell_type": "code",
      "metadata": {
        "id": "9xHAQS1pvRvh",
        "outputId": "8caa9fb5-7d7d-4406-e22f-6614e2c1179c",
        "colab": {
          "base_uri": "https://localhost:8080/"
        }
      },
      "source": [
        "print('================ Resultados F-value Filter Random Forests =================\\n')\n",
        "print(classification_report(y_test, rf_fclass.predict(X_test_fclass)))"
      ],
      "execution_count": 98,
      "outputs": [
        {
          "output_type": "stream",
          "text": [
            "================ Resultados F-value Filter Random Forests =================\n",
            "\n",
            "              precision    recall  f1-score   support\n",
            "\n",
            "           0       0.48      0.50      0.49        50\n",
            "           1       0.83      0.82      0.83       150\n",
            "\n",
            "    accuracy                           0.74       200\n",
            "   macro avg       0.66      0.66      0.66       200\n",
            "weighted avg       0.74      0.74      0.74       200\n",
            "\n"
          ],
          "name": "stdout"
        }
      ]
    },
    {
      "cell_type": "code",
      "metadata": {
        "id": "h7Xpn04vudl_"
      },
      "source": [
        ""
      ],
      "execution_count": 98,
      "outputs": []
    },
    {
      "cell_type": "markdown",
      "metadata": {
        "id": "1BwjNo7Gv44j"
      },
      "source": [
        "## Filtro utilizando mutual information"
      ]
    },
    {
      "cell_type": "code",
      "metadata": {
        "id": "hQXa5cJov44l",
        "outputId": "91b1a567-a4c9-427f-bb36-ef68ed2ef9ff",
        "colab": {
          "base_uri": "https://localhost:8080/"
        }
      },
      "source": [
        "mutual_best = SelectKBest(mutual_info_classif, k=5)\n",
        "mutual_best.fit_transform(X_train_cod1, y_train)"
      ],
      "execution_count": 99,
      "outputs": [
        {
          "output_type": "execute_result",
          "data": {
            "text/plain": [
              "array([[0.87402344, 0.82494703, 0.60795455, 0.6225    , 0.67212567],\n",
              "       [0.61194444, 0.671875  , 0.67978896, 0.6225    , 0.55030488],\n",
              "       [0.61194444, 0.66358568, 0.55608974, 0.80327181, 0.55030488],\n",
              "       ...,\n",
              "       [0.61194444, 0.82494703, 0.67978896, 0.6225    , 0.78527778],\n",
              "       [0.87402344, 0.66358568, 0.67978896, 0.87645349, 0.78527778],\n",
              "       [0.87402344, 0.82494703, 0.63811728, 0.6225    , 0.78527778]])"
            ]
          },
          "metadata": {
            "tags": []
          },
          "execution_count": 99
        }
      ]
    },
    {
      "cell_type": "code",
      "metadata": {
        "id": "gM0h_KDKv44l",
        "outputId": "44048a54-8c3b-4ce1-d37e-966f95ccc8ea",
        "colab": {
          "base_uri": "https://localhost:8080/"
        }
      },
      "source": [
        "mutual_best.fit_transform(X_train_cod1, y_train).shape"
      ],
      "execution_count": 100,
      "outputs": [
        {
          "output_type": "execute_result",
          "data": {
            "text/plain": [
              "(800, 5)"
            ]
          },
          "metadata": {
            "tags": []
          },
          "execution_count": 100
        }
      ]
    },
    {
      "cell_type": "code",
      "metadata": {
        "id": "KWa9xSOlv44m",
        "outputId": "456e5627-9dc1-45b3-c4fd-2fb0175bad3f",
        "colab": {
          "base_uri": "https://localhost:8080/"
        }
      },
      "source": [
        "mutual_best.get_support()"
      ],
      "execution_count": 101,
      "outputs": [
        {
          "output_type": "execute_result",
          "data": {
            "text/plain": [
              "array([ True,  True, False, False, False, False,  True, False, False,\n",
              "       False, False,  True, False, False,  True, False, False, False,\n",
              "       False, False])"
            ]
          },
          "metadata": {
            "tags": []
          },
          "execution_count": 101
        }
      ]
    },
    {
      "cell_type": "code",
      "metadata": {
        "id": "BoP4pQIHv44m"
      },
      "source": [
        "X_train_mutual = mutual_best.transform(X_train_cod1)\n",
        "X_test_mutual = mutual_best.transform(X_test_cod1)"
      ],
      "execution_count": 102,
      "outputs": []
    },
    {
      "cell_type": "code",
      "metadata": {
        "id": "aq0z7DiEv44m",
        "outputId": "a426f194-b0df-4500-96d5-17ed63c6f15b",
        "colab": {
          "base_uri": "https://localhost:8080/"
        }
      },
      "source": [
        "rf_mutual = RandomForestClassifier(n_estimators=25)\n",
        "rf_mutual.fit(X_train_mutual, y_train)"
      ],
      "execution_count": 103,
      "outputs": [
        {
          "output_type": "execute_result",
          "data": {
            "text/plain": [
              "RandomForestClassifier(n_estimators=25)"
            ]
          },
          "metadata": {
            "tags": []
          },
          "execution_count": 103
        }
      ]
    },
    {
      "cell_type": "code",
      "metadata": {
        "id": "nT0bkkVPv44m",
        "outputId": "6b111076-830a-4c77-efd4-1c644e759bb1",
        "colab": {
          "base_uri": "https://localhost:8080/"
        }
      },
      "source": [
        "print('================ Resultados Mutual Information Filter Random Forests =================\\n')\n",
        "print(classification_report(y_test, rf_mutual.predict(X_test_mutual)))"
      ],
      "execution_count": 104,
      "outputs": [
        {
          "output_type": "stream",
          "text": [
            "================ Resultados Mutual Information Filter Random Forests =================\n",
            "\n",
            "              precision    recall  f1-score   support\n",
            "\n",
            "           0       0.40      0.38      0.39        50\n",
            "           1       0.80      0.81      0.80       150\n",
            "\n",
            "    accuracy                           0.70       200\n",
            "   macro avg       0.60      0.59      0.59       200\n",
            "weighted avg       0.70      0.70      0.70       200\n",
            "\n"
          ],
          "name": "stdout"
        }
      ]
    },
    {
      "cell_type": "code",
      "metadata": {
        "id": "BiSYx7DBwfvj"
      },
      "source": [
        ""
      ],
      "execution_count": 104,
      "outputs": []
    }
  ]
}